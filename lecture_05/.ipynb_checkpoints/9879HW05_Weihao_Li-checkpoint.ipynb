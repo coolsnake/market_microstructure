{
 "cells": [
  {
   "cell_type": "markdown",
   "metadata": {
    "deletable": true,
    "editable": true
   },
   "source": [
    "* Weihao Li"
   ]
  },
  {
   "cell_type": "markdown",
   "metadata": {
    "deletable": true,
    "editable": true
   },
   "source": [
    "# MTH9879 Homework 5\n",
    "\n",
    "Assigned: March 7, 2017.\n",
    "Due: March 21, 2017 by 6pm.\n",
    "\n",
    "Late homework **will not be accepted**.\n",
    "\n",
    "$$\n",
    "\\newcommand{\\supp}{\\mathrm{supp}}\n",
    "\\newcommand{\\E}{\\mathbb{E}}\n",
    "\\newcommand{\\EE}{\\mathbb{E}}\n",
    "\\newcommand{\\Eof}[1]{\\mathbb{E}\\left[ #1 \\right]}\n",
    "\\def\\Cov{{ \\mbox{Cov} }}\n",
    "\\def\\Var{{ \\mbox{Var} }}\n",
    "\\newcommand{\\1}{\\mathbf{1} }\n",
    "\\newcommand{\\PP}{\\mathbb{P} }\n",
    "%\\newcommand{\\Pr}{\\mathrm{Pr} }\n",
    "\\newcommand{\\QQ}{\\mathbb{Q} }\n",
    "\\newcommand{\\RR}{\\mathbb{R} }\n",
    "\\newcommand{\\DD}{\\mathbb{D} }\n",
    "\\newcommand{\\HH}{\\mathbb{H} }\n",
    "\\newcommand{\\spn}{\\mathrm{span} }\n",
    "\\newcommand{\\cov}{\\mathrm{cov} }\n",
    "\\newcommand{\\sgn}{\\mathrm{sgn} }\n",
    "\\newcommand{\\HS}{\\mathcal{L}_{\\mathrm{HS}} }\n",
    "%\\newcommand{\\HS}{\\mathrm{HS} }\n",
    "\\newcommand{\\trace}{\\mathrm{trace} }\n",
    "\\newcommand{\\LL}{\\mathcal{L} }\n",
    "%\\newcommand{\\LL}{\\mathrm{L} }\n",
    "\\newcommand{\\s}{\\mathcal{S} }\n",
    "\\newcommand{\\ee}{\\mathcal{E} }\n",
    "\\newcommand{\\ff}{\\mathcal{F} }\n",
    "\\newcommand{\\hh}{\\mathcal{H} }\n",
    "\\newcommand{\\bb}{\\mathcal{B} }\n",
    "\\newcommand{\\dd}{\\mathcal{D} }\n",
    "\\newcommand{\\g}{\\mathcal{G} }\n",
    "\\newcommand{\\p}{\\partial}\n",
    "\\newcommand{\\half}{\\frac{1}{2} }\n",
    "\\newcommand{\\T}{\\mathcal{T} }\n",
    "\\newcommand{\\bi}{\\begin{itemize}}\n",
    "\\newcommand{\\ei}{\\end{itemize}}\n",
    "\\newcommand{\\beq}{\\begin{equation}}\n",
    "\\newcommand{\\eeq}{\\end{equation}}\n",
    "\\newcommand{\\beas}{\\begin{eqnarray*}}\n",
    "\\newcommand{\\eeas}{\\end{eqnarray*}}\n",
    "\\newcommand{\\cO}{\\mathcal{O}}\n",
    "\\newcommand{\\cF}{\\mathcal{F}}\n",
    "\\newcommand{\\cI}{\\mathcal{I}}\n",
    "\\newcommand{\\cL}{\\mathcal{L}}\n",
    "\\newcommand{\\cM}{\\mathcal{M}}\n",
    "\\newcommand{\\BS}{\\text{BS}}\n",
    "$$"
   ]
  },
  {
   "cell_type": "markdown",
   "metadata": {
    "deletable": true,
    "editable": true
   },
   "source": [
    "<font color = \"red\">Homework is to be done by each student individually.  To receive full credit, you must email a completed copy of this iPython notebook to Victor Istratov (stavka@gmail.com), Yassine Ghalem (yassine.ghalem@gmail.com) and Jim Gatheral (jim.gatheral@gmail.com) by the due date and time.  All R-code must run correctly and solutions must be written up neatly in Markdown/LaTeX format.\n"
   ]
  },
  {
   "cell_type": "markdown",
   "metadata": {
    "deletable": true,
    "editable": true
   },
   "source": [
    "### 0. (0 points) \n",
    "Read Chapter 7 of Hasbrouck, Chapters 4 and 5 of Foucault, Pagano and R&ouml;ell, and Section 3 of Bouchaud, Farmer and Lillo."
   ]
  },
  {
   "cell_type": "markdown",
   "metadata": {
    "deletable": true,
    "editable": true
   },
   "source": [
    "## The Kyle (1985) model"
   ]
  },
  {
   "cell_type": "markdown",
   "metadata": {
    "deletable": true,
    "editable": true
   },
   "source": [
    "### 1. (14 points)\n",
    "\n",
    "Suppose that the monopolistic trader in the Kyle (1985) model is not told the true value $\\tilde S$ but is instead given a signal $x=\\tilde S+\\epsilon$ with $\\epsilon \\sim N(0,\\sigma_\\epsilon^2)$, where $\\tilde S$ and $\\epsilon$ are assumed independent.\n",
    "\n",
    "(a) Compute the conditional expectation $\\mathbb{E}[\\tilde S|x]$.\n",
    "\n",
    "(b) If $\\mathcal I$ assumes that the market maker $\\mathcal M$ generates a price function of the form $p=\\mu +\\lambda\\,y$, show that the informed trader's optimal (profit maximizing) demand is given by\n",
    "\n",
    "$$\n",
    "y_i=\\frac{\\phi}{2\\,\\lambda}\\,\\left(x-\\mu\\right)\n",
    "$$\n",
    "\n",
    "where\n",
    "\n",
    "$$\n",
    "\\phi = \\frac{\\sigma^2}{\\sigma^2+\\sigma_\\epsilon^2}.\n",
    "$$\n",
    "\n",
    "(c) Following the derivation from the lecture slides, use the result of (b) to deduce equation (11) in the lecture slides:\n",
    "\n",
    "$$\n",
    "\\lambda=\\frac{\\sigma}{2\\,\\sigma_u}\\,\\sqrt{\\phi}.\n",
    "$$\n"
   ]
  },
  {
   "cell_type": "markdown",
   "metadata": {
    "deletable": true,
    "editable": true
   },
   "source": [
    "#### solution (a)\n",
    "* by given conditions, we have: \n",
    "\\begin{equation}\n",
    "    x\\,|\\,\\tilde S \\sim N(\\tilde S, \\sigma^2_\\epsilon)\n",
    "\\end{equation}\n",
    "* applying kalmanfilter:\n",
    "\\begin{equation}\n",
    "    \\tilde S\\,|\\,x \\sim N(\\phi x + (1 - \\phi)\\mathbb{E}\\left[{\\tilde S}\\right] , (1 - \\beta) \\sigma_{\\tilde S} ^2 )\n",
    "\\end{equation}\n",
    "where:\n",
    "\\begin{equation}\n",
    "\\beta = \\frac{\\sigma^2}{\\sigma^2 +\\sigma_\\epsilon^2}, \\mathbb{E}\\left[\\tilde S\\right] = \\mu \n",
    "\\end{equation}\n",
    "* finally:\n",
    "\\begin{equation}\n",
    "    \\mathbb{E}\\left[\\tilde S|x\\right]  = \\beta x + (1-\\beta)\\mu\n",
    "\\end{equation}"
   ]
  },
  {
   "cell_type": "markdown",
   "metadata": {
    "deletable": true,
    "editable": true
   },
   "source": [
    "#### solution (b)\n",
    "\n",
    "\n",
    "We want to maximize his profit:\n",
    "\\begin{equation}\n",
    "    \\mathbb{E} \\left[y_i(\\tilde S-p(y))\\,|\\,x\\right] = \\mathbb{E} \\left[y_i(\\tilde S - (\\mu + \\lambda y))\\,|\\,x\\right]\n",
    "\\end{equation}\n",
    "\n",
    "From (a), we have\n",
    "\\begin{eqnarray*}\n",
    "\\mathbb{E} \\left[y_i(\\tilde S - (\\mu + \\lambda y))\\,|\\,x\\right]\n",
    "&=& y_i \\left(\\mathbb{E} \\left[\\tilde S \\,|\\, x \\right] - \\mathbb{E} \\left[\\mu \\,|\\, x\\right] - \\mathbb{E} \\left[\\lambda y_i | x\\right] \\right) \\\\\n",
    "&=& y_i \\left[(\\phi x + (1 - \\phi) \\mu - \\mu - \\lambda y_i\\right]\\\\\n",
    "&=& y_i \\left[\\phi x - \\phi \\mu - \\lambda y_i\\right]\n",
    "\\end{eqnarray*}\n",
    "Take derivitive to find the max:\n",
    "\\begin{equation}\n",
    "\\frac{\\partial}{\\partial y_i} y_i \\left[\\phi x - \\phi \\mu - \\lambda y_i\\right] = \\phi x - \\phi \\mu - 2 \\lambda y_i = 0\n",
    "\\end{equation}\n",
    "\n",
    "Finally:\n",
    "\\begin{equation}\n",
    "y_i = \\frac {\\phi (x - \\mu) }{2 \\lambda }\n",
    "\\end{equation}"
   ]
  },
  {
   "cell_type": "markdown",
   "metadata": {
    "deletable": true,
    "editable": true
   },
   "source": [
    "## solution (c)\n",
    "\n",
    "Suppose the demand function is :\n",
    "\\begin{equation}\n",
    "    y_i = a + b \\tilde S\n",
    "\\end{equation}\n",
    "\n",
    "By Kalman Filter we also have\n",
    "\\begin{equation}\n",
    "    \\mathbb{E}[\\tilde S|y] = \\mathbb{E}[\\tilde S] + \\frac{\\mbox{Cov}[\\tilde S, y]}{\\mbox{Var}[y]}(y-\\mathbb{E}[y])\n",
    "\\end{equation}\n",
    "where \n",
    "\\begin{equation}\n",
    "    \\mbox{Var}[y] = \\mbox{Var}[y_i + y_u] = \\sigma_u^2 + b^2 (\\sigma^2 + \\sigma_\\epsilon^2), \\mbox{Cov}[\\tilde S, y] = b \\sigma^2 = \n",
    "        \\frac{\\phi}{2\\lambda}\n",
    "\\end{equation}\n",
    "\n",
    "Plugging in the former equation\n",
    "\\begin{equation}\n",
    "    \\lambda = \\frac{b \\sigma^2}{\\sigma_u^2 + b^2 (\\sigma^2 + \\sigma_\\epsilon^2)}\n",
    "\\end{equation}\n",
    "\n",
    "Simplified:\n",
    "\\begin{equation}\n",
    "    \\lambda=\\frac{\\sigma}{2\\,\\sigma_u}\\,\\sqrt{\\phi}.\n",
    "\\end{equation}\n"
   ]
  },
  {
   "cell_type": "markdown",
   "metadata": {
    "deletable": true,
    "editable": true
   },
   "source": [
    "### 2. (2 points) \n",
    "In the Kyle model, if the characteristic uninformed demand $\\sigma_u$ increases by some factor $\\theta$, what happens to the optimal informed trader demand $y_i$?"
   ]
  },
  {
   "cell_type": "markdown",
   "metadata": {
    "deletable": true,
    "editable": true
   },
   "source": [
    "#### solution\n",
    "The informed trader will choose optimal demand as\n",
    "\\begin{equation}\n",
    "y_i = \\frac{\\tilde S - \\mu}{2\\lambda} = \\frac{\\tilde S - \\mu}{\\sigma}\\sigma_u\n",
    "\\end{equation}\n",
    "by calculations in previous problem\n",
    "\n",
    "As we can see, if $\\sigma_u$ increases by some factor $\\theta$, the $y_i$ will increase in the same scale."
   ]
  },
  {
   "cell_type": "markdown",
   "metadata": {
    "deletable": true,
    "editable": true
   },
   "source": [
    "### 3. (6 points) \n",
    "\n",
    "As in Exercise 7.3 of Hasbrouck (but with different notation), suppose that a broker $\\mathcal P$ spots an insider and decides to submit his own piggyback orders.  Specifically, if $\\mathcal I$ submits demand $y_i$, $\\mathcal P$ submits demand $\\gamma\\,y_i$ with $\\gamma>0$.\n",
    "\n",
    "(a) Assuming that $\\mathcal I$ can detect how much piggyback order flow there is, deduce that the equilibrium Kyle lambda is unchanged from the original case where there are no piggyback orders.\n",
    "\n",
    "(b) Derive expressions for $\\mathcal I$'s optimal demand $y_i$ and his expected P&L.\n",
    "\n",
    "(c) Explain to a non-expert what happens to your trade capacity and your profitability if someone is piggybacking on your trades.\n"
   ]
  },
  {
   "cell_type": "markdown",
   "metadata": {
    "deletable": true,
    "editable": true
   },
   "source": [
    "#### solution (a)\n",
    "using regreesion and repeat the same proceduare\n",
    "\n",
    "we have $$y_i = \\frac{\\tilde S - \\mu}{2\\lambda (1 + \\gamma)} = a + b\\tilde S$$.\n",
    "\n",
    "Thus\n",
    "\n",
    "$$\n",
    "  b = \\frac{1}{2\\lambda(1 + \\gamma)}\n",
    "$$\n",
    "\n",
    "From lecture, we have\n",
    "$$\n",
    "\\lambda = \\frac{Cov(\\tilde S, y)}{Var(y)} = \\frac{(1 + \\gamma)b\\sigma^2}{(1 + \\gamma)^2 b^2 \\sigma^2 + \\sigma_u^2}\n",
    "$$\n",
    "\n",
    "\n",
    "After pluged in, the equilibrium Kyle lambda is still:\n",
    "\\begin{equation}\n",
    "    \\lambda = \\frac{\\tilde b\\sigma^2}{\\sigma_u^2 + \\tilde b^2 \\sigma^2}\n",
    "\\end{equation}\n",
    "\n",
    "where $\\tilde b^2$ is as described in previous problem.\n",
    "Thus the equilibrium Kyle lambda is unchanged."
   ]
  },
  {
   "cell_type": "markdown",
   "metadata": {
    "deletable": true,
    "editable": true
   },
   "source": [
    "#### solution (b)\n",
    "\n",
    " as problem 1,\n",
    "\\begin{equation}\n",
    "    \\mathbb{E}[y_i (\\tilde S - p(y)) \\,|\\, \\tilde S] = \\mathbb{E}[y_i (\\tilde S - (\\mu + \\lambda(1 + \\gamma) y_i)) \\,|\\, \\tilde S] ) = \\tilde S y_i - \\mu y_i - \\lambda (1 + \\gamma) y_i ^2\n",
    "\\end{equation}\n",
    "where\n",
    "\\begin{equation}\n",
    "    p(y) = \\mu + \\lambda(y_i + y_u) = \\mu + \\lambda(1 + \\gamma) y_i \n",
    "\\end{equation}\n",
    "\n",
    "Take derivitive and set to zero, we will have, \n",
    "\\begin{equation}\n",
    "    y_i = \\frac {\\tilde S - \\mu}{2\\lambda (1 + \\gamma)} = \\frac {(\\tilde S - \\mu) \\sigma_u} {(1 + \\gamma)\\sigma}\n",
    "\\end{equation}\n",
    "where $\\lambda = \\frac {\\sigma}{2\\sigma_u}$.\n",
    "\n",
    "Plugging in, we have his corresponding expected P&L as of\n",
    "\\begin{equation}\n",
    " \\tilde S y_i - \\mu y_i - \\lambda (1 + \\gamma) y_i ^2 = \\frac {\\sigma_u(\\tilde S - \\mu)^2 } {2\\sigma(1 + \\gamma)}\n",
    "\\end{equation}"
   ]
  },
  {
   "cell_type": "markdown",
   "metadata": {
    "deletable": true,
    "editable": true
   },
   "source": [
    "#### solutution (c)\n",
    "* As the piggybacking increase, the market impact will increase, so the liquidity of the market will decrease. And thus will decrease you profit, the P&L will decrease."
   ]
  }
 ],
 "metadata": {
  "kernelspec": {
   "display_name": "Python 2",
   "language": "python",
   "name": "python2"
  },
  "language_info": {
   "codemirror_mode": {
    "name": "ipython",
    "version": 2
   },
   "file_extension": ".py",
   "mimetype": "text/x-python",
   "name": "python",
   "nbconvert_exporter": "python",
   "pygments_lexer": "ipython2",
   "version": "2.7.12"
  }
 },
 "nbformat": 4,
 "nbformat_minor": 0
}
