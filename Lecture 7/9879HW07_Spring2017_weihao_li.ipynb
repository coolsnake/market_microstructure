{
 "cells": [
  {
   "cell_type": "markdown",
   "metadata": {},
   "source": [
    "# MTH9879 Homework 7\n",
    "\n",
    "Assigned: March 29, 2017.\n",
    "Due: April 25, 2017 by 6pm. \n",
    "\n",
    "Late homework **will not be accepted**.\n",
    "\n",
    "$$\n",
    "\\newcommand{\\supp}{\\mathrm{supp}}\n",
    "\\newcommand{\\E}{\\mathbb{E}}\n",
    "\\newcommand{\\Eof}[1]{\\mathbb{E}\\left[ #1 \\right]}\n",
    "\\def\\Cov{{ \\mbox{Cov} }}\n",
    "\\def\\Var{{ \\mbox{Var} }}\n",
    "\\newcommand{\\1}{\\mathbf{1} }\n",
    "\\newcommand{\\PP}{\\mathbb{P} }\n",
    "%\\newcommand{\\Pr}{\\mathrm{Pr} }\n",
    "\\newcommand{\\QQ}{\\mathbb{Q} }\n",
    "\\newcommand{\\RR}{\\mathbb{R} }\n",
    "\\newcommand{\\DD}{\\mathbb{D} }\n",
    "\\newcommand{\\HH}{\\mathbb{H} }\n",
    "\\newcommand{\\spn}{\\mathrm{span} }\n",
    "\\newcommand{\\cov}{\\mathrm{cov} }\n",
    "\\newcommand{\\sgn}{\\mathrm{sgn} }\n",
    "\\newcommand{\\HS}{\\mathcal{L}_{\\mathrm{HS}} }\n",
    "%\\newcommand{\\HS}{\\mathrm{HS} }\n",
    "\\newcommand{\\trace}{\\mathrm{trace} }\n",
    "\\newcommand{\\LL}{\\mathcal{L} }\n",
    "%\\newcommand{\\LL}{\\mathrm{L} }\n",
    "\\newcommand{\\s}{\\mathcal{S} }\n",
    "\\newcommand{\\ee}{\\mathcal{E} }\n",
    "\\newcommand{\\ff}{\\mathcal{F} }\n",
    "\\newcommand{\\hh}{\\mathcal{H} }\n",
    "\\newcommand{\\bb}{\\mathcal{B} }\n",
    "\\newcommand{\\dd}{\\mathcal{D} }\n",
    "\\newcommand{\\g}{\\mathcal{G} }\n",
    "\\newcommand{\\p}{\\partial}\n",
    "\\newcommand{\\half}{\\frac{1}{2} }\n",
    "\\newcommand{\\T}{\\mathcal{T} }\n",
    "\\newcommand{\\bi}{\\begin{itemize}}\n",
    "\\newcommand{\\ei}{\\end{itemize}}\n",
    "\\newcommand{\\beq}{\\begin{equation}}\n",
    "\\newcommand{\\eeq}{\\end{equation}}\n",
    "\\newcommand{\\beas}{\\begin{eqnarray*}}\n",
    "\\newcommand{\\eeas}{\\end{eqnarray*}}\n",
    "\\newcommand{\\cO}{\\mathcal{O}}\n",
    "\\newcommand{\\cF}{\\mathcal{F}}\n",
    "\\newcommand{\\cL}{\\mathcal{L}}\n",
    "\\newcommand{\\BS}{\\text{BS}}\n",
    "$$"
   ]
  },
  {
   "cell_type": "markdown",
   "metadata": {},
   "source": [
    "<font color = \"red\">Homework is to be done by each student individually.  To receive full credit, you must email a completed copy of this iPython notebook to Victor Istratov (stavka@gmail.com), Yassine Ghalem (yassine.ghalem@gmail.com) and Jim Gatheral (jim.gatheral@gmail.com) by the due date and time.  All R-code must run correctly and solutions must be written up neatly in Markdown/LaTeX format."
   ]
  },
  {
   "cell_type": "markdown",
   "metadata": {},
   "source": [
    "### 0. (0 points) \n",
    "Read Sections 4, 5 and 6 of Bouchaud, Farmer and Lillo."
   ]
  },
  {
   "cell_type": "markdown",
   "metadata": {},
   "source": [
    "## Long memory"
   ]
  },
  {
   "cell_type": "markdown",
   "metadata": {},
   "source": [
    "### 1. (6 points)\n",
    "\n",
    "Consider the long memory process\n",
    "\n",
    "$$\n",
    "X_T=\\sum_{i=1}^T\\,\\epsilon_i\n",
    "$$\n",
    "\n",
    "with autocovariance function $\\gamma(\\tau)=\\E[\\epsilon_i\\,\\epsilon_{i-\\tau}] \\sim \\tau^{-\\alpha}$.  Show that as $\\tau \\to \\infty$,\n",
    "\n",
    "$$\n",
    "\\Var[X_{t+\\tau}-X_t] \\sim \\tau ^{2\\,H}\n",
    "$$\n",
    "\n",
    "where the Hurst exponent $H$ is given by\n",
    "\n",
    "$$\n",
    "H=1-\\frac{\\alpha}{2}.\n",
    "$$"
   ]
  },
  {
   "cell_type": "markdown",
   "metadata": {},
   "source": [
    "### Solution:\n",
    "* Frist we calculate:\n",
    "\n",
    "\\begin{equation}\n",
    "\\Var[X_{t+\\tau}-X_t] = \\E[(\\sum_{i=t+1}^{t+\\tau}\\,\\epsilon_i)^{2}] - \\E[\\sum_{i=t+1}^{t+\\tau}\\,\\epsilon_i]^{2}= \\E[(\\sum_{i=t+1}^{t+\\tau}\\,\\epsilon_i)^{2}] = \\E[\\sum_{i=t+1}^{t+\\tau}\\,\\sum_{i=t+1}^{t+\\tau}\\,\\epsilon_i\\,\\epsilon_j] \n",
    "\\end{equation}\n",
    "\n",
    "* Second, by the given condition  $\\E[\\epsilon_i\\,\\epsilon_{i-\\tau}] \\sim \\tau^{-\\alpha}$, we have: \n",
    "\\begin{equation}\n",
    "\\E[\\sum_{i=t+1}^{t+\\tau}\\,\\sum_{i=t+1}^{t+\\tau}\\,\\epsilon_i\\,\\epsilon_j] = \\sum_{i=t+1}^{t+\\tau}\\,\\sum_{i=t+1}^{t+\\tau}\\,\\E[\\epsilon_i\\,\\epsilon_j] = \\sum_{i=t+1}^{t+\\tau}\\,\\sum_{i=t+1}^{t+\\tau}\\, \\tau^{-\\alpha}\n",
    "\\end{equation}\n",
    "\n",
    "* Third, As $\\tau \\to \\infty$, $\\E[\\epsilon_i\\,\\epsilon_{j}]$ goes to $\\tau^{-\\alpha}$. we can sumarize:\n",
    "\\begin{equation}\n",
    "\\sum_{i=t+1}^{t+\\tau}\\,\\sum_{i=t+1}^{t+\\tau}\\, \\tau^{-\\alpha} = \\tau^{2}\\,\\tau^{-\\alpha} = \\tau^{2H}\n",
    "\\end{equation}\n",
    "With \n",
    "$$\n",
    "H=1-\\frac{\\alpha}{2}.\n",
    "$$"
   ]
  },
  {
   "cell_type": "markdown",
   "metadata": {},
   "source": [
    "## MSFT data from Alejandro Ca&ntilde;ete"
   ]
  },
  {
   "cell_type": "code",
   "execution_count": 1,
   "metadata": {
    "collapsed": false
   },
   "outputs": [
    {
     "name": "stderr",
     "output_type": "stream",
     "text": [
      "Loading required package: xts\n",
      "Loading required package: zoo\n",
      "\n",
      "Attaching package: ‘zoo’\n",
      "\n",
      "The following objects are masked from ‘package:base’:\n",
      "\n",
      "    as.Date, as.Date.numeric\n",
      "\n"
     ]
    }
   ],
   "source": [
    "library(highfrequency)\n",
    "download.file(url=\"http://mfe.baruch.cuny.edu/wp-content/uploads/2015/03/MSFT130311.rData_.zip\", destfile=\"MSFT130311.zip\")\n",
    "unzip(zipfile=\"MSFT130311.zip\")\n",
    "load(\"MSFT130311.rData\")"
   ]
  },
  {
   "cell_type": "markdown",
   "metadata": {},
   "source": [
    "### 2. (10 points)\n",
    "\n",
    "(a) Generate the series *tradeSign* of trade signs from the *msft130311.inet* data frame.\n",
    "\n",
    "(b) Fit an AR(1) model to the *tradeSign*  data to give the forecast:\n",
    "    $$\n",
    "    \\hat \\epsilon^{(1)}_t=\\phi_1\\,\\epsilon_{t-1}\n",
    "    $$\n",
    "\n",
    "(c) How does $\\phi_1$ relate to the autocorrelation coefficients of *tradeSign*?  What is the mean-squared error of this AR(1) forecast?\n",
    "\n",
    "(d) Fit an $AR(p)$ model to the *tradeSign* data, allowing R to find the best value of $p$ using the default AIC criterion.  This generates the forecast:\n",
    "    $$\n",
    "    \\hat \\epsilon^{(2)}_t=\\sum_{k=1}^p\\,\\phi_k\\,\\epsilon_{t-k}.\n",
    "    $$\n",
    "\n",
    "(e) What value of $p$ is selected by R?  What is the mean-squared error of this AR(p) forecast?\n"
   ]
  },
  {
   "cell_type": "code",
   "execution_count": 2,
   "metadata": {
    "collapsed": true
   },
   "outputs": [],
   "source": [
    "# Solution (a) Generate the series tradeSign\n",
    "tradeSign = sign(msft130311.inet$signed.shares)"
   ]
  },
  {
   "cell_type": "code",
   "execution_count": 3,
   "metadata": {
    "collapsed": false
   },
   "outputs": [
    {
     "data": {
      "text/plain": [
       "\n",
       "Call:\n",
       "ar(x = tradeSign, order.max = 1)\n",
       "\n",
       "Coefficients:\n",
       "    1  \n",
       "0.821  \n",
       "\n",
       "Order selected 1  sigma^2 estimated as  0.3236"
      ]
     },
     "metadata": {},
     "output_type": "display_data"
    }
   ],
   "source": [
    "#Solution (b) Fit an AR(1) model to the tradeSign data to give the forecast\n",
    "\n",
    "ar(tradeSign, order.max = 1)"
   ]
  },
  {
   "cell_type": "code",
   "execution_count": 4,
   "metadata": {
    "collapsed": false
   },
   "outputs": [
    {
     "data": {
      "text/plain": [
       "\n",
       "Autocorrelations of series ‘tradeSign’, by lag\n",
       "\n",
       "    0     1     2     3     4     5     6     7     8     9    10    11    12 \n",
       "1.000 0.821 0.712 0.643 0.591 0.552 0.518 0.491 0.474 0.455 0.434 0.419 0.403 \n",
       "   13    14    15    16    17    18    19    20    21    22    23    24    25 \n",
       "0.395 0.387 0.375 0.364 0.352 0.340 0.331 0.324 0.310 0.300 0.293 0.285 0.279 \n",
       "   26    27    28    29    30    31    32    33    34    35    36    37    38 \n",
       "0.275 0.270 0.265 0.257 0.250 0.246 0.241 0.230 0.217 0.207 0.202 0.200 0.199 \n",
       "   39    40    41    42 \n",
       "0.193 0.189 0.180 0.175 "
      ]
     },
     "metadata": {},
     "output_type": "display_data"
    },
    {
     "data": {
      "image/png": "[encoded data removed]",
      "text/plain": [
       "Plot with title “Series  tradeSign”"
      ]
     },
     "metadata": {},
     "output_type": "display_data"
    }
   ],
   "source": [
    "#Solution (c) \n",
    "acf(tradeSign)\n",
    "acf(tradeSign,plot=F)\n",
    "\n",
    "\n",
    "#$\\phi_1$ is autocorrelation coefficient with lag 1, other lags' coefficients are smaller.\n",
    "#The MSE is 0.3236.\n"
   ]
  },
  {
   "cell_type": "code",
   "execution_count": 5,
   "metadata": {
    "collapsed": false
   },
   "outputs": [
    {
     "data": {
      "text/plain": [
       "\n",
       "Call:\n",
       "ar(x = tradeSign)\n",
       "\n",
       "Coefficients:\n",
       "      1        2        3        4        5        6        7        8  \n",
       " 0.6962   0.0375   0.0422   0.0186   0.0236   0.0048   0.0002   0.0302  \n",
       "      9       10       11       12       13       14  \n",
       " 0.0112  -0.0080   0.0154  -0.0127   0.0237   0.0199  \n",
       "\n",
       "Order selected 14  sigma^2 estimated as  0.3116"
      ]
     },
     "metadata": {},
     "output_type": "display_data"
    }
   ],
   "source": [
    "#Solution to (d) Fit an AR(p)AR(p) model to the tradeSign data, allowing R to find the best value of p\n",
    "#R set AIC as default\n",
    "ar(tradeSign)"
   ]
  },
  {
   "cell_type": "markdown",
   "metadata": {},
   "source": [
    "#### Solution to (e)\n",
    "* pp selected by R is 14\n",
    "* mse is 0.3116"
   ]
  },
  {
   "cell_type": "markdown",
   "metadata": {},
   "source": [
    "### 3. (8 points)\n",
    "\n",
    "(a) Bin the AR(p) forecast data from the previous problem by forecast sign with bin-breaks from -1.01 to 1.01 in steps of 0.02.\n",
    "\n",
    "(b) Plot the average actual order sign in each bin against the average forecast order sign.  What is the slope of the resulting graph? (Hint: use the R function *lm*).\n",
    "\n",
    "(c) If the expected order sign is $\\hat \\epsilon$, what is the probability $p$ that the next trade will be a market buy?"
   ]
  },
  {
   "cell_type": "code",
   "execution_count": 8,
   "metadata": {
    "collapsed": false
   },
   "outputs": [
    {
     "data": {
      "image/png": "[encoded data removed]",
      "text/plain": [
       "Plot with title “Histogram of sign_predicted”"
      ]
     },
     "metadata": {},
     "output_type": "display_data"
    }
   ],
   "source": [
    "#Solution to (a)\n",
    "# Bin the data \n",
    "order = 14\n",
    "ar_params = ar(tradeSign)\n",
    "\n",
    "#save y_hat of sign \n",
    "sign_predicted = rep(0, length(tradeSign))\n",
    "\n",
    "#initialize\n",
    "for (i in 1 : order)\n",
    "    sign_predicted[i] = tradeSign[i]\n",
    "\n",
    "# predict\n",
    "for (i in (order+1) : length(tradeSign))\n",
    "    for (j in 1 : order)\n",
    "        sign_predicted[i] = sign_predicted[i] + tradeSign[i-j] * ar_params$ar[j]\n",
    "#bin the data\n",
    "hist(sign_predicted, breaks = seq(-1.01,1.01,by=0.02))"
   ]
  },
  {
   "cell_type": "code",
   "execution_count": 9,
   "metadata": {
    "collapsed": false
   },
   "outputs": [
    {
     "data": {
      "text/plain": [
       "\n",
       "Call:\n",
       "lm(formula = actual ~ forecast)\n",
       "\n",
       "Coefficients:\n",
       "(Intercept)     forecast  \n",
       "     0.8835       0.1421  \n"
      ]
     },
     "metadata": {},
     "output_type": "display_data"
    }
   ],
   "source": [
    "# solution to (b)\n",
    "num_bins = 1.01*2/0.02\n",
    "actual   = rep(0, num_bins)\n",
    "forecast = rep(0, num_bins)\n",
    "\n",
    "#average forcast order sign\n",
    "for (i in 1 : num_bins){\n",
    "    count = 0\n",
    "    for (j in 1 : length(tradeSign))\n",
    "        if (((-1.01 + 0.02 * (i-1) < sign_predicted[j] )) && (sign_predicted <= (-1.01 + 0.02 * i))) {\n",
    "            count       = count       + 1\n",
    "           forecast[i]   = forecast[i]   + sign_predicted[j]\n",
    "          \n",
    "        }\n",
    "    forecast[i]   = forecast[i]   / count\n",
    "   \n",
    "}\n",
    "    \n",
    "#average actual order sign\n",
    "for (i in 1 : num_bins){\n",
    "    count = 0\n",
    "    for (j in 1 : length(tradeSign))\n",
    "        if (((-1.01 + 0.02 * (i-1) < tradeSign[j] )) && (tradeSign <= (-1.01 + 0.02 * i))) {\n",
    "            count       = count       + 1\n",
    "            actual[i]   = actual[i]   + tradeSign[j]\n",
    "          \n",
    "        }\n",
    "    actual[i]   = actual[i]   / count\n",
    "   \n",
    "}\n",
    "    \n",
    "# Slope\n",
    "    lm(actual~forecast)"
   ]
  },
  {
   "cell_type": "markdown",
   "metadata": {},
   "source": [
    "#### Solution to c\n",
    "* we use p to denote the probability that next trade will be a market buy\n",
    "so \n",
    "$$\n",
    "\\hat \\epsilon = p -(1-p) \n",
    "$$\n",
    "such that:\n",
    "$$\n",
    "p = \\frac{\\hat \\epsilon + 1}{2}\n",
    "$$"
   ]
  }
 ],
 "metadata": {
  "kernelspec": {
   "display_name": "R",
   "language": "R",
   "name": "ir"
  },
  "language_info": {
   "codemirror_mode": "r",
   "file_extension": ".r",
   "mimetype": "text/x-r-source",
   "name": "R",
   "pygments_lexer": "r",
   "version": "3.3.2"
  }
 },
 "nbformat": 4,
 "nbformat_minor": 0
}
