{
 "cells": [
  {
   "cell_type": "markdown",
   "metadata": {},
   "source": [
    "Weihao Li"
   ]
  },
  {
   "cell_type": "markdown",
   "metadata": {
    "deletable": true,
    "editable": true
   },
   "source": [
    "# MTH9879 Homework 2\n",
    "\n",
    "Assigned: February 7, 2017.\n",
    "Due: February 21, 2017 by 6pm. \n",
    "\n",
    "Late homework **will not be accepted**.\n",
    "\n",
    "$$\n",
    "\\newcommand{\\supp}{\\mathrm{supp}}\n",
    "\\newcommand{\\E}{\\mathbb{E} }\n",
    "\\def\\Cov{{ \\mbox{Cov} }}\n",
    "\\def\\Var{{ \\mbox{Var} }}\n",
    "\\newcommand{\\1}{\\mathbf{1} }\n",
    "\\newcommand{\\PP}{\\mathbb{P} }\n",
    "%\\newcommand{\\Pr}{\\mathrm{Pr} }\n",
    "\\newcommand{\\QQ}{\\mathbb{Q} }\n",
    "\\newcommand{\\RR}{\\mathbb{R} }\n",
    "\\newcommand{\\DD}{\\mathbb{D} }\n",
    "\\newcommand{\\HH}{\\mathbb{H} }\n",
    "\\newcommand{\\spn}{\\mathrm{span} }\n",
    "\\newcommand{\\cov}{\\mathrm{cov} }\n",
    "\\newcommand{\\sgn}{\\mathrm{sgn} }\n",
    "\\newcommand{\\HS}{\\mathcal{L}_{\\mathrm{HS}} }\n",
    "%\\newcommand{\\HS}{\\mathrm{HS} }\n",
    "\\newcommand{\\trace}{\\mathrm{trace} }\n",
    "\\newcommand{\\LL}{\\mathcal{L} }\n",
    "%\\newcommand{\\LL}{\\mathrm{L} }\n",
    "\\newcommand{\\s}{\\mathcal{S} }\n",
    "\\newcommand{\\ee}{\\mathcal{E} }\n",
    "\\newcommand{\\ff}{\\mathcal{F} }\n",
    "\\newcommand{\\hh}{\\mathcal{H} }\n",
    "\\newcommand{\\bb}{\\mathcal{B} }\n",
    "\\newcommand{\\dd}{\\mathcal{D} }\n",
    "\\newcommand{\\g}{\\mathcal{G} }\n",
    "\\newcommand{\\p}{\\partial}\n",
    "\\newcommand{\\half}{\\frac{1}{2} }\n",
    "\\newcommand{\\T}{\\mathcal{T} }\n",
    "\\newcommand{\\bi}{\\begin{itemize}}\n",
    "\\newcommand{\\ei}{\\end{itemize}}\n",
    "\\newcommand{\\beq}{\\begin{equation}}\n",
    "\\newcommand{\\eeq}{\\end{equation}}\n",
    "\\newcommand{\\beas}{\\begin{eqnarray*}}\n",
    "\\newcommand{\\eeas}{\\end{eqnarray*}}\n",
    "\\newcommand{\\cO}{\\mathcal{O}}\n",
    "\\newcommand{\\cF}{\\mathcal{F}}\n",
    "\\newcommand{\\cL}{\\mathcal{L}}\n",
    "\\newcommand{\\BS}{\\text{BS}}\n",
    "$$"
   ]
  },
  {
   "cell_type": "markdown",
   "metadata": {
    "deletable": true,
    "editable": true
   },
   "source": [
    "<font color = \"red\">Homework is to be done by each student individually.  To receive full credit, you must email a completed copy of this iPython notebook to Victor Istratov (stavka@gmail.com), Yassine Ghalem (yassine.ghalem@gmail.com) and Jim Gatheral (jim.gatheral@gmail.com) by the due date and time.  All R-code must run correctly and solutions must be written up neatly in Markdown/LaTeX format.\n"
   ]
  },
  {
   "cell_type": "markdown",
   "metadata": {
    "deletable": true,
    "editable": true
   },
   "source": [
    "### 0. (0 points) \n",
    "\n",
    "Read Chapter 12 of Hasbrouck and Section 6.4 of Foucault, Pagano and R&ouml;ell.\n"
   ]
  },
  {
   "cell_type": "markdown",
   "metadata": {
    "deletable": true,
    "editable": true
   },
   "source": [
    "## The Parlour (1998) model"
   ]
  },
  {
   "cell_type": "markdown",
   "metadata": {
    "deletable": true,
    "editable": true
   },
   "source": [
    "### 1. (10 points) \n",
    "Consider the first step $t = 1$ of the 3-step order book case presented in the lecture slides. Suppose that the order book at (or just before) $t = 1$ has one share offered and one share bid ($n_B = n_A = 1$)\n",
    "\n",
    "Give the probabilities as of a market buy, market sell, limit buy and limit sell at $t = 1$,\n",
    "You may use my Mathematica notebook *Parlour.nb* as a guide (if you wish)."
   ]
  },
  {
   "cell_type": "markdown",
   "metadata": {
    "deletable": true,
    "editable": true
   },
   "source": [
    "##### Answer for Question 1  \n",
    "\n",
    "* The utility function for market sell and market buy order will be: Market sell (MS):$B-\\beta_1\\,V$ and  Market buy (MB): $\\beta_1\\,V-A$   as in other time steps.\n",
    "However, the utility for limit sell and limit buy order will depend on consequtive two market order.    \n",
    " Limit sell (LS): $(A-\\beta_1\\,V)\\,{\\mathbb{P} }^B_{2}{\\mathbb{P} }^B_{3}$           Limit buy  (LB): $(\\beta_1\\,V-B)\\,{\\mathbb{P} }^S_{2}{\\mathbb{P} }^S_{3}$\n",
    " \n",
    " \n",
    "* After the limit order is placed the order book will change to $n_A = 2, n_B = 1$ or $n_A = 1, n_B =2$. Trader at stage 2 will not place limit order (otherwise it wouldn't be filled).  \n",
    "    So ${\\mathbb{P} }^B_{2} = {\\mathbb{P} }^B_{3} = 5/22 = {\\mathbb{P} }^S_T=\\frac{1}{2}\\,{\\mathbb{P} }\\left(\\beta_T<\\frac{B}{V}\\right).$ Which is 5/22 as calculated in the lecture.\n",
    "    \n",
    "    \n",
    "* So by comparing the utility,with parameters given in the lecture, we can get the probabilities.  \n",
    "  $B - \\beta_1\\,V > (A-\\beta_1\\,V)\\,{\\mathbb{P} }^B_{2}{\\mathbb{P} }^B_{3}$ and knowing that probability of doing nothing is 5/22\n",
    "  \n",
    "  \n",
    "* Solve $(5 - \\beta_1\\,5.5 )> (6-\\beta_1\\,5.5)\\,* {5/22 * 5/22}$ for the probabilities and we get:\n",
    "\n",
    " \n",
    "\n",
    "|      Strategy     | Payoff               |\n",
    "|:-----------------|:------|\n",
    "|  Market sell (MS)   |   $1135/5049$   |\n",
    "|  Limit sell (LS)    |   $22/459$   |\n",
    "|   Limit buy (LB)    |   $1135/5049$   |\n",
    "| Market buy (MB)   |   $22/459$   |\n",
    "\n",
    "\n",
    "\n",
    "\n",
    "\n",
    "\n",
    "\n",
    "\n",
    "\n",
    "\n",
    "\n",
    "\n",
    "\n",
    "\n",
    "\n",
    "\n",
    "\n",
    "\n",
    "\n",
    "\n"
   ]
  },
  {
   "cell_type": "markdown",
   "metadata": {
    "deletable": true,
    "editable": true
   },
   "source": [
    "### 2. (4 points) \n",
    "Explain why the optimal market/limit order decision depends in general on quantity available on both sides of the order book in the Parlour model."
   ]
  },
  {
   "cell_type": "markdown",
   "metadata": {
    "deletable": true,
    "editable": true
   },
   "source": [
    "For clearity let's consider the decision for a seller, and the anaysis for a buyer can be deducted by symmetric.  \n",
    "* How do orders on ask side influence the seller:  \n",
    "    if the queue on ask side is large, the propability that the seller will place a limite order will decrease, because there will be smaller chance of being execution. So more chance of market order will be placed and less limite order\n",
    "* How do order on bid side influence the seller:\n",
    "    The more offer on bid side will let the buyer place more market order than limit order, thus reduce the length of queue on ask side, thus the seller will have more chance to place limit order than market order. Thus As more orders on bid side, the chance the seller palce limit order will increase. \n",
    "    "
   ]
  },
  {
   "cell_type": "markdown",
   "metadata": {
    "deletable": true,
    "editable": true
   },
   "source": [
    "### Set up R-environment"
   ]
  },
  {
   "cell_type": "code",
   "execution_count": 60,
   "metadata": {
    "collapsed": false,
    "deletable": true,
    "editable": true
   },
   "outputs": [],
   "source": [
    "download.file(url=\"http://mfe.baruch.cuny.edu/wp-content/uploads/2015/01/ziSetup.zip\", destfile=\"ziSetup.zip\")\n",
    "unzip(zipfile=\"ziSetup.zip\")\n",
    "source(\"ziSetup.R\")"
   ]
  },
  {
   "cell_type": "markdown",
   "metadata": {
    "deletable": true,
    "editable": true
   },
   "source": [
    "## Cont-Kukanov optimal order placement"
   ]
  },
  {
   "cell_type": "markdown",
   "metadata": {
    "deletable": true,
    "editable": true
   },
   "source": [
    "### 3. (16 points)\n",
    "\n",
    "Consider the two BATS exchanges BZX and BYX.  Suppose you are trying to buy shares of MSFT in 3.9 minutes ($1\\%$ of the trading day).  Suppose further that the two exchanges have the following characteristics:\n",
    "\n",
    "**Exchange** | **Make fee** | **Take fee** | **Daily volume** \n",
    "-----|-----:|-------:| ---- |\n",
    "| **(per share)** | **(per share)** | **(shares)** \n",
    "BZX | -0.32¢ | +0.30¢ | 10,500,000\n",
    "BYX | +0.03¢ | -0.03¢ | 1,300,000\n",
    "\n",
    "Assume the daily volatility of MSFT is $1\\%$ and that MSFT is trading at $\\$37.50$.\n",
    "\n",
    "(a) We may suppose that if your order is only partially filled, that's because the price moved away (*adverse selection*).  This suggests that we penalize any under fill of limit orders by $\\sigma\\,\\sqrt{T}$ where $T$ is the order duration.  Compute the corresponding value of $\\lambda_u$ in cents per share."
   ]
  },
  {
   "cell_type": "code",
   "execution_count": 61,
   "metadata": {
    "collapsed": false,
    "deletable": true,
    "editable": true
   },
   "outputs": [
    {
     "name": "stdout",
     "output_type": "stream",
     "text": [
      "The lambda U for the price is : 3.75"
     ]
    }
   ],
   "source": [
    "#question a\n",
    "# set up parameters\n",
    "price <- 3750\n",
    "sigma <- 0.01\n",
    "T <- 0.01\n",
    "#to make dimention consistent\n",
    "lambda_u = sigma  * sqrt(T)*price\n",
    "cat(\"The lambda U for the price is :\",lambda_u)"
   ]
  },
  {
   "cell_type": "markdown",
   "metadata": {
    "deletable": true,
    "editable": true
   },
   "source": [
    "(b) Assuming a spread of $1$ cent, what are $h$, $f$, and $r$ for BZX and BYX respectively (in cents per share)?"
   ]
  },
  {
   "cell_type": "code",
   "execution_count": 62,
   "metadata": {
    "collapsed": false,
    "deletable": true,
    "editable": true
   },
   "outputs": [
    {
     "name": "stdout",
     "output_type": "stream",
     "text": [
      "The h,r,f for bzx are : 0.5 0.32 0.3 \n",
      "The h,r,f for byx are : 0.5 -0.03 -0.03"
     ]
    }
   ],
   "source": [
    "#question b\n",
    "#confused here, the rebate is positive in the lecture.\n",
    "#so in this case(bzx) we convert bzx from negtive to positive\n",
    "#\n",
    "s = 1\n",
    "h = s/2\n",
    "r_bzx =  0.32\n",
    "f_bzx =  0.30\n",
    "r_byx = -0.03\n",
    "f_byx = -0.03\n",
    "cat(\"The h,r,f for bzx are :\",h,r_bzx,f_bzx,'\\n')\n",
    "cat(\"The h,r,f for byx are :\",h,r_byx,f_byx)"
   ]
  },
  {
   "cell_type": "markdown",
   "metadata": {
    "deletable": true,
    "editable": true
   },
   "source": [
    "\n",
    "(c) Assuming no seasonality, what is the mean value $\\bar \\xi$ of $\\xi$ (over 3.9 minutes) for BZX and BYX respectively (in shares)?\n"
   ]
  },
  {
   "cell_type": "code",
   "execution_count": 63,
   "metadata": {
    "collapsed": false,
    "deletable": true,
    "editable": true
   },
   "outputs": [
    {
     "name": "stdout",
     "output_type": "stream",
     "text": [
      "The mean volumn for bzx are : 105000 \n",
      "The mean volumn for byx are : 13000"
     ]
    }
   ],
   "source": [
    "#question c\n",
    "volumn_bzx = 10500000*0.01\n",
    "volumn_byx = 1300000*0.01\n",
    "cat(\"The mean volumn for bzx are :\",volumn_bzx,'\\n')\n",
    "cat(\"The mean volumn for byx are :\",volumn_byx)"
   ]
  },
  {
   "cell_type": "markdown",
   "metadata": {
    "deletable": true,
    "editable": true
   },
   "source": [
    "\n",
    "(d)  Assume that $\\xi$ is log normally distributed with\n",
    "\n",
    "$$\n",
    "\\xi = \\bar \\xi \\,\\exp\\left\\{\\sigma\\,Z-\\frac 12\\,\\sigma^2\\right\\}.\n",
    "$$\n",
    "\n",
    "where $Z \\sim N(0,1)$ and $\\sigma = 1/2$.  What is the standard deviation of $\\xi$ (in terms of $\\bar \\xi$)?\n"
   ]
  },
  {
   "cell_type": "markdown",
   "metadata": {
    "deletable": true,
    "editable": true
   },
   "source": [
    "\n",
    "$$\n",
    "\\begin{align*}\n",
    "\\sigma_{\\xi}^2 &= \\bar{\\xi}^2\\left(e^{\\sigma^2}-1\\right)e^{-\\frac{1}{2}2\\sigma^2+\\sigma^2} \\\\\n",
    "&= \\bar{\\xi}^2\\left(e^{\\sigma^2}-1\\right) \\\\\n",
    "\\sigma_{\\xi}&=\\bar{\\xi}\\sqrt{e^{1/4}-1} \\\\\n",
    "\\end{align*}\n",
    "$$"
   ]
  },
  {
   "cell_type": "markdown",
   "metadata": {
    "deletable": true,
    "editable": true
   },
   "source": [
    "\n",
    "(e) Write R-code to determine the optimal order size $L^\\star+Q$ on BZX and BYX respectively. Assume here that you will either trade on BZX or BYX; there is no splitting of the order between the two exchanges. <br>\n",
    "(Hint: You may find the R function *qnorm(. )* useful)."
   ]
  },
  {
   "cell_type": "code",
   "execution_count": 76,
   "metadata": {
    "collapsed": false,
    "deletable": true,
    "editable": true
   },
   "outputs": [
    {
     "name": "stdout",
     "output_type": "stream",
     "text": [
      "The optimal order size for bzx is : 76887.36 \n",
      "The optimal order size for byx is : 7834.038"
     ]
    }
   ],
   "source": [
    "#R x64 3.3.2\n",
    "## Might be a typo here? I would use qlnorm.\n",
    "# as incicated from last question, sigma for volumn is 1/2\n",
    "best_size <-function(h,r,f,lambda_u,mean_vol,sigma){\n",
    "    pb = (2*h+f+r)/(h+r+lambda_u)\n",
    "   \n",
    "    return(qlnorm(pb,meanlog =log(mean_vol)-1/2*sigma^2,sdlog = sigma))\n",
    "    \n",
    "}\n",
    "\n",
    "\n",
    "\n",
    "bs_bzx <- best_size(h,r_bzx,f_bzx,lambda_u,volumn_bzx,1/2)\n",
    "bs_byx <- best_size(h,r_byx,f_byx,lambda_u,volumn_byx,1/2)\n",
    "\n",
    "cat(\"The optimal order size for bzx is :\",bs_bzx,'\\n')\n",
    "cat(\"The optimal order size for byx is :\",bs_byx)\n"
   ]
  },
  {
   "cell_type": "markdown",
   "metadata": {
    "deletable": true,
    "editable": true
   },
   "source": [
    "\n",
    "\n",
    "\n",
    "(f) Compare the optimal limit order sizes from part (e) with the ratios of quote sizes and volumes on BZX and BYX.  Are your results from part (e) roughly consistent with observation.  You may assume that the quote sizes shown on the MSFT BATS slides from Lecture 1 are typical."
   ]
  },
  {
   "cell_type": "code",
   "execution_count": 77,
   "metadata": {
    "collapsed": false,
    "deletable": true,
    "editable": true
   },
   "outputs": [
    {
     "name": "stdout",
     "output_type": "stream",
     "text": [
      "The optimal ratio for bzx is : 0.007322606 \n",
      "The emperical ratio for bzx is : 0.001123531 \n",
      "The optimal ratio for byx is : 0.006026183 \n",
      "The emperical ratio for byx is : 0.0006433744"
     ]
    }
   ],
   "source": [
    "#R x64 3.3.2\n",
    "op_ratio_bzx <- bs_bzx/volumn_bzx/100\n",
    "op_ratio_byx <- bs_byx/volumn_byx/100\n",
    "\n",
    "#emperiacal ratio from lecture 1\n",
    "# unlike assumption in the model,the trader place order on different level of price, ranther than the tail of the queue.\n",
    "#So here we will use average size to represent L+Q:\n",
    "avgsize_bzx <- mean(c(1700,1558,1300,1100,700,800,900,900,1258,1900))\n",
    "\n",
    "ep_ratio_bzx <- avgsize_bzx /1078386\n",
    "\n",
    "avgsize_byx <- mean(c(100,100,100,200,200,100,400,400,200,200))\n",
    "\n",
    "ep_ratio_byx <- avgsize_byx /310861\n",
    "\n",
    "cat(\"The optimal ratio for bzx is :\",op_ratio_bzx,'\\n')\n",
    "cat(\"The emperical ratio for bzx is :\",ep_ratio_bzx,'\\n')\n",
    "\n",
    "cat(\"The optimal ratio for byx is :\",op_ratio_byx,'\\n')\n",
    "cat(\"The emperical ratio for byx is :\",ep_ratio_byx )\n",
    "\n",
    "# They does not look very similar"
   ]
  },
  {
   "cell_type": "markdown",
   "metadata": {
    "deletable": true,
    "editable": true
   },
   "source": [
    "## The Bouchaud-M&eacute;zard-Potters order book approximation"
   ]
  },
  {
   "cell_type": "markdown",
   "metadata": {
    "deletable": true,
    "editable": true
   },
   "source": [
    "### 4. (16 points)\n",
    "\n",
    "When $\\lambda(u)=\\alpha$,  a constant, the BMP order density becomes\n",
    "\n",
    "\\begin{eqnarray*}\n",
    "\\rho_{BMP}(\\Delta) &=& \\frac{\\alpha}{\\delta}\\,\\left\\{e^{-\\Delta/{\\tilde \\Delta}}\\,\\int_0^{\\Delta/{\\tilde\\Delta}}\\,\\sinh(u)\\,du + \\sinh(\\Delta/{\\tilde \\Delta})\\,\\int_{\\Delta/{\\tilde\\Delta}}^\\infty\\,e^{-u}\\,du\\right\\} \\\\\n",
    "&=&\\frac{\\alpha}{\\delta}\\,\\left\\{1 - e^{-\\Delta/{\\tilde \\Delta}}  \\right\\}\n",
    "\\end{eqnarray*}\n",
    "\n",
    "where the characteristic distance\n",
    "\n",
    "$$\n",
    "\\tilde \\Delta=\\sqrt{\\frac{\\sigma^2}{2\\,\\delta}}.\n",
    "$$\n",
    "\n",
    "(a) Amend the SFGK zero intelligence code from Problem 3 of HW1 to count the number of limit orders generated in addition to computing the average book shape.\n",
    "\n"
   ]
  },
  {
   "cell_type": "code",
   "execution_count": 78,
   "metadata": {
    "collapsed": false,
    "deletable": true,
    "editable": true
   },
   "outputs": [],
   "source": [
    "#R x64 3.3.2\n",
    "\n",
    " \n",
    "# turned off the logging and set up parameters\n",
    "logging <- F\n",
    "lb_count <<- 0\n",
    "ls_count <<- 0\n",
    "#Buy limit order\n",
    "limitBuyOrder <- function(price=NA){\n",
    "  lb_count<<-lb_count + 1\n",
    "  if (is.na(price))\n",
    "  {prx <<- (bestOffer()-pick(L))}\n",
    "  else prx <<-price  \n",
    "  if(logging==T){eventLog[count,]<<- c(\"LB\",prx)} \n",
    "  book$buySize[book$Price==prx]<<-book$buySize[book$Price==prx]+1} \n",
    "\n",
    "#Sell limit order\n",
    "limitSellOrder <- function(price=NA){\n",
    "   ls_count <<- ls_count + 1\n",
    "  if (is.na(price))\n",
    "  {prx <<- (bestBid()+pick(L))}\n",
    "  else prx <<-price  \n",
    "  if(logging==T){eventLog[count,] <<- c(\"LS\",prx)}  \n",
    " book$sellSize[book$Price==prx]<<-book$sellSize[book$Price==prx]+1} \n",
    " \n",
    "    ordercount_setup<-function(){\n",
    "     lb_count <<- 0\n",
    "     ls_count <<- 0\n",
    " }\n"
   ]
  },
  {
   "cell_type": "markdown",
   "metadata": {
    "deletable": true,
    "editable": true
   },
   "source": [
    "(b) With $\\alpha = 1$, $\\mu = 10$ and $\\delta = \\frac15$, simulate 100,000 events and plot the resulting average book shape in red (in a band $\\pm 20$ around the mid price)."
   ]
  },
  {
   "cell_type": "code",
   "execution_count": 79,
   "metadata": {
    "collapsed": false,
    "deletable": true,
    "editable": true
   },
   "outputs": [
    {
     "data": {
      "image/png": "[encoded data removed]",
      "text/plain": [
       "Plot with title \"NA\""
      ]
     },
     "metadata": {},
     "output_type": "display_data"
    }
   ],
   "source": [
    "#R x64 3.3.2\n",
    "#code from last homework with trival modifications\n",
    " numEvents <- 100000\n",
    "ordercount_setup()\n",
    "initializeBook5()\n",
    "\n",
    "# turned off the logging and set up parameters\n",
    "logging <- F\n",
    "alpha <<- 1\n",
    "mu  <<- 10\n",
    "delta <<- 1.0/5\n",
    "#save data into the avgBookShape\n",
    "#each row is a book shape\n",
    "\n",
    "\n",
    "\n",
    "#set up the beginning state\n",
    "for(count in 1:100){\n",
    "    generateEvent()\n",
    "    }\n",
    "    \n",
    "#begin simulation\n",
    "   \n",
    "    \n",
    "    BookShape_Temp <- bookShape(20)/numEvents\n",
    "    #compute the simulated price \n",
    "    for(count in 2:numEvents){\n",
    "      generateEvent()\n",
    "      BookShape_Temp <- BookShape_Temp + bookShape(20)/numEvents\n",
    "    }\n",
    "    \n",
    "plot(-20:20,BookShape_Temp,main=NA,xlab=\"Relative price\",ylab=\"# Shares\", col='red', type='b',ylim=c(0, 10))\n",
    "    \n",
    "\n"
   ]
  },
  {
   "cell_type": "markdown",
   "metadata": {},
   "source": [
    "<font color=red> COMMENT: why such a large ylim? </font>"
   ]
  },
  {
   "cell_type": "markdown",
   "metadata": {
    "deletable": true,
    "editable": true
   },
   "source": [
    "(c) From your simulation, what is the probability $P_L$ of a limit order at a given level conditional on an event? (Recall that there are 60 limit order levels in the simulation)."
   ]
  },
  {
   "cell_type": "code",
   "execution_count": 80,
   "metadata": {
    "collapsed": false,
    "deletable": true,
    "editable": true
   },
   "outputs": [
    {
     "name": "stdout",
     "output_type": "stream",
     "text": [
      "The probability of limit order is : 0.008339333"
     ]
    }
   ],
   "source": [
    "#R x64 3.3.2\n",
    "limit_total <- lb_count + ls_count\n",
    "PL = limit_total/numEvents/(L*2)\n",
    "cat(\"The probability of limit order is :\",PL)"
   ]
  },
  {
   "cell_type": "markdown",
   "metadata": {
    "deletable": true,
    "editable": true
   },
   "source": [
    "\n",
    "(d) In [Gatheral and Oomen]<sup id=\"cite_ref-GO\" class=\"reference\"><a href=\"#cite_note-GO\"><span>[</span>1<span>]</span></a></sup>, with these SFGK parameters, realized variance per event was estimated as\n",
    "\n",
    "$$\n",
    "\\sigma^2_{GO} = 0.083.\n",
    "$$\n",
    "\n",
    "Using your estimate $P_L$ of limit orders per level per event, convert this estimate to variance per limit order (recall that $\\alpha=1$).  Denote your result by $\\sigma^2_{GO}$.  Compute the characteristic distance $\\tilde \\Delta_{GO}$ with this estimate $\\sigma^2_{GO}$."
   ]
  },
  {
   "cell_type": "code",
   "execution_count": 81,
   "metadata": {
    "collapsed": false,
    "deletable": true,
    "editable": true
   },
   "outputs": [
    {
     "name": "stdout",
     "output_type": "stream",
     "text": [
      "The characteristic distance is : 4.988195"
     ]
    }
   ],
   "source": [
    "#By dimentional analysis, we change var/even to var /limit order. It indicates that we should devide it by PL \n",
    "\n",
    "var_GO = 0.083/PL\n",
    "distance_GO <-sqrt(var_GO/(2*delta))\n",
    "cat(\"The characteristic distance is :\",distance_GO)"
   ]
  },
  {
   "cell_type": "markdown",
   "metadata": {
    "deletable": true,
    "editable": true
   },
   "source": [
    "(e) In Lecture 1, using dimensional analysis, we estimated that variance $\\sigma^2_{DA}$ per unit time should be of the order of\n",
    "\n",
    "$$\n",
    "\\sigma^2_{DA} = \\frac{\\mu^2\\,\\delta}{\\alpha^2}.\n",
    "$$\n",
    "\n",
    "Compute the characteristic distance $\\tilde \\Delta_{DA}$ with this estimate $\\sigma^2_{DA}$."
   ]
  },
  {
   "cell_type": "code",
   "execution_count": 82,
   "metadata": {
    "collapsed": false,
    "deletable": true,
    "editable": true
   },
   "outputs": [
    {
     "name": "stdout",
     "output_type": "stream",
     "text": [
      "The characteristic distance is : 7.071068"
     ]
    }
   ],
   "source": [
    "#R x64 3.3.2\n",
    "#Question e\n",
    "var_DA <- mu^2*delta/alpha^2\n",
    "distance_DA <-sqrt(var_DA/(2*delta))\n",
    "cat(\"The characteristic distance is :\",distance_DA)"
   ]
  },
  {
   "cell_type": "markdown",
   "metadata": {
    "deletable": true,
    "editable": true
   },
   "source": [
    "(f)  Using your two estimates of $\\tilde \\Delta$ from parts (d) and (e),  write functions to compute the corresponding order book densities $\\rho_{GO}(\\Delta)$ and $\\rho_{DA}(\\Delta)$.\n"
   ]
  },
  {
   "cell_type": "code",
   "execution_count": 83,
   "metadata": {
    "collapsed": true,
    "deletable": true,
    "editable": true
   },
   "outputs": [],
   "source": [
    "#From lecture\n",
    "Rho_BMP <- function(d,cDist) { alpha/delta*(1-exp(-abs(d)/cDist)) }"
   ]
  },
  {
   "cell_type": "markdown",
   "metadata": {
    "deletable": true,
    "editable": true
   },
   "source": [
    "\n",
    "\n",
    "(g)\n",
    "Superimpose plots of the asymptotic densities $\\rho_{DA}(\\Delta)$ (in blue) and $\\rho_{DA}(\\Delta)$ (in orange) on your plot of the average book shape."
   ]
  },
  {
   "cell_type": "code",
   "execution_count": 84,
   "metadata": {
    "collapsed": false
   },
   "outputs": [
    {
     "data": {
      "image/png": "[encoded data removed]",
      "text/plain": [
       "Plot with title \"ZI VS BMP\""
      ]
     },
     "metadata": {},
     "output_type": "display_data"
    }
   ],
   "source": [
    "plot(-20:20,BookShape_Temp,main=\"ZI VS BMP\",xlab=\"Relative price\",ylab=\"# Shares\", col='red', type='b',ylim=c(0, 10))   \n",
    "curve(Rho_BMP(x,distance_DA),from=-20,to=20,n=100,col=\"orange\",add= TRUE)\n",
    "curve(Rho_BMP(x,distance_GO),from=-20,to=20,n=100,col=\"blue\",add= TRUE)\n",
    "legend('bottomright', legend=c('ZI','GO','DA'), lty=c(1, 1,1), col=c('red', 'blue','orange'))"
   ]
  },
  {
   "cell_type": "markdown",
   "metadata": {
    "deletable": true,
    "editable": true
   },
   "source": [
    "### 5. (6 points)\n",
    "\n",
    "Another of Mike and Farmer's observations is that the distribution of marketable as well as unmarketable limit orders as a function of distance $\\Delta$ to the same-side best quote is well-described by a Student-$t$ distribution.  Assume $\\mu=1/2$ as above."
   ]
  },
  {
   "cell_type": "markdown",
   "metadata": {
    "deletable": true,
    "editable": true
   },
   "source": [
    "\n",
    "(a) Derive an expression in terms of the Student-$t$ cumulative density function for the ratio of arrival rates of limit to market orders as a function of the spread $s$.  How does this ratio vary with $s$?"
   ]
  },
  {
   "cell_type": "markdown",
   "metadata": {
    "deletable": true,
    "editable": true
   },
   "source": [
    "In buyer's condition\n",
    "* The probability of arraival of limit order should be positive correlated to the spread s. Because the spread increase,because of lower cost. So the arrival rate of  limit order can be expressed as $F(s)$. In the contrary, market order will be $1-F(s) = F(-s)$\n",
    "* And the ratio of probability of placing limit order and market order will be $$\\frac{F(s)}{F(-s)}$$ which implied that as s increase, there will be more limit order than market order."
   ]
  },
  {
   "cell_type": "markdown",
   "metadata": {
    "deletable": true,
    "editable": true
   },
   "source": [
    "(b) Relative to the zero-intelligence model, does this empirically observed strategic behavior make the spread revert faster or more slowly?"
   ]
  },
  {
   "cell_type": "markdown",
   "metadata": {
    "collapsed": true,
    "deletable": true,
    "editable": true
   },
   "source": [
    "#### Faster \n",
    "* In the ZI model, the event and spread are independent. There is no mean reversion pattern from the ZI model.\n",
    "* In this case, when the spread is larger, more marketable limit order will be place,narrowing the spread. When spread is small, \n",
    "more market orders will be placed, expanding the spread. So the spread will convert between a mean value. "
   ]
  },
  {
   "cell_type": "markdown",
   "metadata": {
    "deletable": true,
    "editable": true
   },
   "source": [
    "### References\n",
    "\n",
    "<div class=\"reflist\" style=\"list-style-type: decimal;\">\n",
    "\n",
    "<ol>\n",
    "\n",
    "  <li id=\"cite_note-GO\"><span class=\"mw-cite-backlink\"><b><a href=\"#cite_ref-GO\">^</a></b></span> Jim Gatheral and Roel C. A Oomen, Zero-intelligence realized variance estimation, <span>*Finance and Stochastics*,</span> <span>**14**</span>(2) 249–283, 2010.</li>\n",
    "\n",
    "</ol>"
   ]
  }
 ],
 "metadata": {
  "anaconda-cloud": {},
  "kernelspec": {
   "display_name": "R",
   "language": "R",
   "name": "ir"
  },
  "language_info": {
   "codemirror_mode": "r",
   "file_extension": ".r",
   "mimetype": "text/x-r-source",
   "name": "R",
   "pygments_lexer": "r",
   "version": "3.3.2"
  }
 },
 "nbformat": 4,
 "nbformat_minor": 0
}
