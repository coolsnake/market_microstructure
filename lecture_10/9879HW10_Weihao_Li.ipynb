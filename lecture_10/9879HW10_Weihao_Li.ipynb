{
 "cells": [
  {
   "cell_type": "markdown",
   "metadata": {},
   "source": [
    "* Weihao Li"
   ]
  },
  {
   "cell_type": "markdown",
   "metadata": {
    "deletable": true,
    "editable": true
   },
   "source": [
    "# MTH9879 Homework 10\n",
    "\n",
    "Assigned: May 2, 2017.\n",
    "Due: May 16, 2017 by 6pm. \n",
    "\n",
    "Late homework **will not be accepted**.\n",
    "\n",
    "$$\n",
    "\\newcommand{\\supp}{\\mathrm{supp}}\n",
    "\\newcommand{\\E}{\\mathbb{E}}\n",
    "\\newcommand{\\Eof}[1]{\\mathbb{E}\\left[ #1 \\right]}\n",
    "\\def\\Cov{{ \\mbox{Cov} }}\n",
    "\\def\\Var{{ \\mbox{Var} }}\n",
    "\\newcommand{\\1}{\\mathbf{1} }\n",
    "\\newcommand{\\PP}{\\mathbb{P} }\n",
    "%\\newcommand{\\Pr}{\\mathrm{Pr} }\n",
    "\\newcommand{\\QQ}{\\mathbb{Q} }\n",
    "\\newcommand{\\RR}{\\mathbb{R} }\n",
    "\\newcommand{\\DD}{\\mathbb{D} }\n",
    "\\newcommand{\\HH}{\\mathbb{H} }\n",
    "\\newcommand{\\spn}{\\mathrm{span} }\n",
    "\\newcommand{\\cov}{\\mathrm{cov} }\n",
    "\\newcommand{\\sgn}{\\mathrm{sgn} }\n",
    "\\newcommand{\\HS}{\\mathcal{L}_{\\mathrm{HS}} }\n",
    "%\\newcommand{\\HS}{\\mathrm{HS} }\n",
    "\\newcommand{\\trace}{\\mathrm{trace} }\n",
    "\\newcommand{\\LL}{\\mathcal{L} }\n",
    "%\\newcommand{\\LL}{\\mathrm{L} }\n",
    "\\newcommand{\\s}{\\mathcal{S} }\n",
    "\\newcommand{\\ee}{\\mathcal{E} }\n",
    "\\newcommand{\\ff}{\\mathcal{F} }\n",
    "\\newcommand{\\hh}{\\mathcal{H} }\n",
    "\\newcommand{\\bb}{\\mathcal{B} }\n",
    "\\newcommand{\\dd}{\\mathcal{D} }\n",
    "\\newcommand{\\g}{\\mathcal{G} }\n",
    "\\newcommand{\\p}{\\partial}\n",
    "\\newcommand{\\half}{\\frac{1}{2} }\n",
    "\\newcommand{\\T}{\\mathcal{T} }\n",
    "\\newcommand{\\bi}{\\begin{itemize}}\n",
    "\\newcommand{\\ei}{\\end{itemize}}\n",
    "\\newcommand{\\beq}{\\begin{equation}}\n",
    "\\newcommand{\\eeq}{\\end{equation}}\n",
    "\\newcommand{\\beas}{\\begin{eqnarray*}}\n",
    "\\newcommand{\\eeas}{\\end{eqnarray*}}\n",
    "\\newcommand{\\cO}{\\mathcal{O}}\n",
    "\\newcommand{\\cC}{\\mathcal{C}}\n",
    "\\newcommand{\\cF}{\\mathcal{F}}\n",
    "\\newcommand{\\cL}{\\mathcal{L}}\n",
    "\\newcommand{\\BS}{\\text{BS}}\n",
    "$$"
   ]
  },
  {
   "cell_type": "markdown",
   "metadata": {
    "deletable": true,
    "editable": true
   },
   "source": [
    "<font color = \"red\">Homework is to be done by each student individually.  To receive full credit, you must email a completed copy of this iPython notebook to Victor Istratov (stavka@gmail.com), Yassine Ghalem (yassine.ghalem@gmail.com) and Jim Gatheral (jim.gatheral@gmail.com) by the due date and time.  All R-code must run correctly and solutions must be written up neatly in Markdown/LaTeX format."
   ]
  },
  {
   "cell_type": "markdown",
   "metadata": {
    "deletable": true,
    "editable": true
   },
   "source": [
    "## Numerical solution of Fredholm equation"
   ]
  },
  {
   "cell_type": "markdown",
   "metadata": {
    "deletable": true,
    "editable": true
   },
   "source": [
    "### 1. (12 points)\n",
    "Consider the Fredholm equation (7) in Lecture 10:\n",
    "\n",
    "$$\n",
    "\\int_0^T{G}(|t-s|)\\,dx_s =\\text{const.}\\qquad\\text{for all $t\\in [0,T]$.}\n",
    "$$\n",
    "\n",
    "Define $t_i:={i}\\frac T{N}$. One way to discretize this integral equation is as follows:\n",
    "\n",
    "$$\n",
    "\\sum_{j=1}^N G_{ij}\\,v_j=\\text{const.}\n",
    "$$\n",
    "\n",
    "where $v_j=x_{t_{j}}-x_{t_{j-1}}$ and\n",
    "\n",
    "<a name=\"eq:1\"></a>(1)\n",
    "$$\n",
    "G_{ij}=\n",
    "\\int_{t_{i-1}}^{t_i}\\,\\int_{t_{j-1}}^{t_j}\\,G(|t-s|)\\,ds\\,dt.\n",
    "$$\n",
    "\n",
    "(a) Derive an explicit expression for the $G_{ij}$ in the case\n",
    "$$\n",
    "G(\\tau)=\\frac {1}{(1+\\tau)^2}.\n",
    "$$\n",
    "You will need to compute separate expressions for the cases $i \\neq j$ and $i=j$.\n",
    "\n",
    "(b) With $N=512$, use matrix algebra to solve equation [(1)](#eq:1) numerically with this decay kernel.\n",
    "\n",
    "(c) Plot your results - you should end up with something like Figure 2 of Lecture 10.\n",
    "\n"
   ]
  },
  {
   "cell_type": "markdown",
   "metadata": {
    "deletable": true,
    "editable": true
   },
   "source": [
    "#### solution (a)\n",
    "\n",
    "* when $i \\neq j$,assume that i > j, in this case t > s\n",
    "\\begin{align}\n",
    "G_{ij} &= \\int_{t_{i-1}}^{t_i}\\,\\int_{t_{j-1}}^{t_j}\\,G(t-s)\\,ds\\,dt\\\\\n",
    "&= \\int_{t_{i-1}}^{t_i}\\,\\int_{t_{j-1}}^{t_j}\\,\\frac {1}{(1+t-s)^2}\\,ds\\,dt\\\\\n",
    "&= \\int_{t_{i-1}}^{t_i}(\\frac{1}{1+t-t_j}-\\frac{1}{1+t-t_{j-1}}  )\\,dt\\\\\n",
    "&= \\ln(1+t_i-t_j)-\\ln(1+t_{i-1}-t_j)-\\ln(1+t_i-t_{j-1})+\\ln(1+t_{i-1}-t_{j-1})\\\\\n",
    "\\end{align}\n",
    "* in the case of j > i, we will have:\n",
    "$$\n",
    "G_{ij}  = \\ln(1+t_j-t_i)-\\ln(1+t_{j-1}-t_i)-\\ln(1+t_j-t_{i-1})+\\ln(1+t_{j-1}-t_{i-1})\n",
    "$$\n",
    "* When i = j, we have\n",
    "\\begin{align}\n",
    "     G_{ij} &= 2\\int_{t_{i-1}}^{t_i}\\int_t^{t_i} \\frac{1}{(1+s-t)^2} ds dt \\\\\n",
    "     &= 2\\left((t_i - t_{i-1}) - \\ln(1+t_i - t_{i-1})\\right)\n",
    "\\end{align}"
   ]
  },
  {
   "cell_type": "code",
   "execution_count": 3,
   "metadata": {
    "collapsed": true,
    "deletable": true,
    "editable": true
   },
   "outputs": [],
   "source": [
    "# solution to 2\n",
    "N = 512\n",
    "T = 1\n",
    "dt = T/N\n",
    "G  = matrix(0,N, N)\n",
    "for (i in 1:N) {\n",
    "    for (j in 1:N) {\n",
    "        if (i == j) {\n",
    "            G[i,j] = (2*dt - 2*log(1 + dt))\n",
    "                    } \n",
    "         \n",
    "        else {\n",
    "            G[i,j] =(log((1+abs(j-i)*dt)*(1+abs(j-i)*dt) / ((1+abs(j-i-1)*dt)*(1+abs(j-i+1)*dt))))\n",
    "                }\n",
    "            \n",
    "        } \n",
    "    } \n"
   ]
  },
  {
   "cell_type": "code",
   "execution_count": 7,
   "metadata": {
    "collapsed": false,
    "deletable": true,
    "editable": true
   },
   "outputs": [
    {
     "data": {
      "image/png": "[encoded data removed]",
      "text/plain": [
       "plot without title"
      ]
     },
     "metadata": {},
     "output_type": "display_data"
    }
   ],
   "source": [
    "# solution to 3\n",
    "v <- solve(G, rep(1e-4, 512))\n",
    "plot((1:512)/512, v, type='l', col='red', xlab=\"time\")"
   ]
  },
  {
   "cell_type": "markdown",
   "metadata": {
    "deletable": true,
    "editable": true
   },
   "source": [
    "## Optimal interval VWAP strategy in the square-root model"
   ]
  },
  {
   "cell_type": "markdown",
   "metadata": {
    "deletable": true,
    "editable": true
   },
   "source": [
    "### 2. (12 points)\n",
    "\n",
    "Consider equation (11) of Lecture 10 for the cost of liquidation using interval VWAPs:\n",
    "\n",
    "$$\n",
    "\\cC=\\sum_{j=1}^m\\,C_{jj}+\\sum_{i< j}^m\\,C_{ji}.\n",
    "$$\n",
    "\n",
    "(a) With $m=3$ (that is 3 interval VWAP slices), and assuming the square-root process where\n",
    "\n",
    "$$\n",
    "h(v)=\\frac  3 4 \\sigma\\,\\sqrt{\\frac{v}{V}} =\\frac  3 4 \\sigma\\,\\sqrt{\\frac{\\dot x}{V}}, \n",
    "\\quad \\mbox{ and } \\quad\n",
    "G(\\tau)=1/\\sqrt{\\tau},\n",
    "$$\n",
    "\n",
    "compute explicit expressions for the matrix elements $C_{ji}$ in terms of $x_1$, $x_2$, $t_1$, and $t_2$ (noting that $t_0=0$ and $t_3=T$).\n",
    "\n",
    "(b) Minimize the resulting expression for the expected cost of liquidation numerically to find optimal choices of $x_1$ and $x_2$ when $t_1=T/3$, and $t_2=2 \\,T/3$.\n",
    "\n",
    "(c) What is the percentage saving from trading with the 3-slice strategy relative to a VWAP?\n",
    "\n",
    "(d) Explain to your non-mathematical manager why this strategy has lower expected cost."
   ]
  },
  {
   "cell_type": "markdown",
   "metadata": {
    "collapsed": true,
    "deletable": true,
    "editable": true
   },
   "source": [
    "### Solution (a)\n",
    "* From lecture, we have\n",
    "$$\n",
    "C_{ii}=\\frac{4}{3}\\,x_i\\,h(v_i)\\,\\sqrt{t_i-t_{i-1}}=\\frac{\\sigma}{\\sqrt{V}}\\,x_i^{3/2}\n",
    "$$\n",
    "* In the case of i<j\n",
    "\\begin{align}\n",
    "C_{ji}&=\\frac{\\sigma\\,x_j\\sqrt{x_i}}{\\sqrt{V}}\\,\\frac{\\left(t_{j}-t_{i-1}\\right)^{3/2}\n",
    "-\\left(t_{j}-t_{i}\\right)^{3/2}-\\left(t_{j-1}-t_{i-1}\\right)^{3/2}+\\left(t_{j-1}-t_{i}\\right)^{3/2}}{(t_{j}-t_{j-1})\\sqrt{t_i-t_{i-1}}}\\\\\n",
    "&=\\frac{4}{3}\\,x_j\\,h(v_i)\\,\\frac{\\left(t_{j}-t_{i-1}\\right)^{3/2}\n",
    "-\\left(t_{j}-t_{i}\\right)^{3/2}\n",
    "-\\left(t_{j-1}-t_{i-1}\\right)^{3/2}\n",
    "+\\left(t_{j-1}-t_{i}\\right)^{3/2}.\n",
    "}{t_{j}-t_{j-1}}\n",
    "\\end{align}"
   ]
  },
  {
   "cell_type": "markdown",
   "metadata": {},
   "source": [
    "#### Solution (b)\n",
    "*With optimal $x_1$ and $x_2$ when $t_1=T/3$, and $t_2=2 \\,T/3$.\n",
    "\n",
    "$$\n",
    "C_{11} = \\frac{\\sigma}{\\sqrt{V}} x_1^{3/2} \\\\\n",
    "C_{21} = (2\\sqrt{2}-2)\\frac{\\sigma}{\\sqrt{V}}x_2\\sqrt{x_1}\\\\\n",
    "C_{22} = \\frac{\\sigma}{\\sqrt{V}} x_2^{3/2} \\\\\n",
    "C_{31} = (3\\sqrt{3}-4\\sqrt{2}+1)\\frac{\\sigma}{\\sqrt{V}}x_3\\sqrt{x_1}\\\\\n",
    "C_{32} = (2\\sqrt{2}-2)\\frac{\\sigma}{\\sqrt{V}}x_3\\sqrt{x_2}\\\\\n",
    "C_{33} = \\frac{\\sigma}{\\sqrt{V}} x_3^{3/2} \\\\\n",
    "$$"
   ]
  },
  {
   "cell_type": "code",
   "execution_count": 17,
   "metadata": {
    "collapsed": false
   },
   "outputs": [
    {
     "data": {
      "text/html": [
       "<dl>\n",
       "\t<dt>$par</dt>\n",
       "\t\t<dd><ol class=list-inline>\n",
       "\t<li>0.716468114486916</li>\n",
       "\t<li>0</li>\n",
       "\t<li>0.390763047935838</li>\n",
       "</ol>\n",
       "</dd>\n",
       "\t<dt>$value</dt>\n",
       "\t\t<dd>0.883282064978095</dd>\n",
       "\t<dt>$counts</dt>\n",
       "\t\t<dd><dl class=dl-horizontal>\n",
       "\t<dt>function</dt>\n",
       "\t\t<dd>11</dd>\n",
       "\t<dt>gradient</dt>\n",
       "\t\t<dd>11</dd>\n",
       "</dl>\n",
       "</dd>\n",
       "\t<dt>$convergence</dt>\n",
       "\t\t<dd>0</dd>\n",
       "\t<dt>$message</dt>\n",
       "\t\t<dd>'CONVERGENCE: REL_REDUCTION_OF_F &lt;= FACTR*EPSMCH'</dd>\n",
       "</dl>\n"
      ],
      "text/latex": [
       "\\begin{description}\n",
       "\\item[\\$par] \\begin{enumerate*}\n",
       "\\item 0.716468114486916\n",
       "\\item 0\n",
       "\\item 0.390763047935838\n",
       "\\end{enumerate*}\n",
       "\n",
       "\\item[\\$value] 0.883282064978095\n",
       "\\item[\\$counts] \\begin{description*}\n",
       "\\item[function] 11\n",
       "\\item[gradient] 11\n",
       "\\end{description*}\n",
       "\n",
       "\\item[\\$convergence] 0\n",
       "\\item[\\$message] 'CONVERGENCE: REL\\_REDUCTION\\_OF\\_F <= FACTR*EPSMCH'\n",
       "\\end{description}\n"
      ],
      "text/markdown": [
       "$par\n",
       ":   1. 0.716468114486916\n",
       "2. 0\n",
       "3. 0.390763047935838\n",
       "\n",
       "\n",
       "\n",
       "$value\n",
       ":   0.883282064978095\n",
       "$counts\n",
       ":   function\n",
       ":   11gradient\n",
       ":   11\n",
       "\n",
       "\n",
       "$convergence\n",
       ":   0\n",
       "$message\n",
       ":   'CONVERGENCE: REL_REDUCTION_OF_F &lt;= FACTR*EPSMCH'\n",
       "\n",
       "\n"
      ],
      "text/plain": [
       "$par\n",
       "[1] 0.7164681 0.0000000 0.3907630\n",
       "\n",
       "$value\n",
       "[1] 0.8832821\n",
       "\n",
       "$counts\n",
       "function gradient \n",
       "      11       11 \n",
       "\n",
       "$convergence\n",
       "[1] 0\n",
       "\n",
       "$message\n",
       "[1] \"CONVERGENCE: REL_REDUCTION_OF_F <= FACTR*EPSMCH\"\n"
      ]
     },
     "metadata": {},
     "output_type": "display_data"
    }
   ],
   "source": [
    "# Solution b\n",
    "\n",
    "\n",
    "X = 1\n",
    "\n",
    "#suppose sigma/sqrt(V ) = 1 \n",
    "\n",
    "factor = 1\n",
    "#cost function\n",
    "costfunc <- function(x){\n",
    "    x1 <- x[1]/sum(x) * X \n",
    "    x2 <- x[2]/sum(x) * X \n",
    "    x3 <- x[3]/sum(x) * X \n",
    "    C11 <- x1^(3/2)*factor\n",
    "    C22 <- x2^(3/2)*factor\n",
    "    C33 <- x3^(3/2)*factor\n",
    "    C21 <- (2^(3/2)-2)*x2*x1^(1/2)*factor\n",
    "    C31 <- (3^(3/2)-2^(5/2) + 1)*x3*x1^(1/2)*factor\n",
    "    C32 <- (2^(3/2)-2)*x3*x2^(1/2)*factor\n",
    "    cost <- C11 + C22 + C33 + C21 + C31 + C32\n",
    "}\n",
    "\n",
    "# Minimize the cost function\n",
    "result <- optim(c(1/3, 1/3, 1/3), costfunc, method = \"L-BFGS-B\", lower = 0, upper = 1)\n",
    "result"
   ]
  },
  {
   "cell_type": "code",
   "execution_count": 22,
   "metadata": {
    "collapsed": false
   },
   "outputs": [
    {
     "name": "stdout",
     "output_type": "stream",
     "text": [
      "the percentage saved is  11.67179 %"
     ]
    }
   ],
   "source": [
    "# Solution c\n",
    "\n",
    "cat(\"the percentage saved is \",(1 - result$value)* 100,\"%\" )"
   ]
  },
  {
   "cell_type": "markdown",
   "metadata": {},
   "source": [
    "#### Solution e\n",
    " because when we are using 3-slice, we reduce temporary impact,which is accumulated. When we are using VWAP, the accumulated market impact will result in higher cost"
   ]
  }
 ],
 "metadata": {
  "kernelspec": {
   "display_name": "R",
   "language": "R",
   "name": "ir"
  },
  "language_info": {
   "codemirror_mode": "r",
   "file_extension": ".r",
   "mimetype": "text/x-r-source",
   "name": "R",
   "pygments_lexer": "r",
   "version": "3.3.2"
  }
 },
 "nbformat": 4,
 "nbformat_minor": 0
}
