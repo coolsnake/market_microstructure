{
 "cells": [
  {
   "cell_type": "markdown",
   "metadata": {
    "deletable": true,
    "editable": true
   },
   "source": [
    "# Yuxi Liu <font color='blue'> Score: 22/24 </font>\n",
    "\n",
    "#### <font color='blue'> Please see the corresponding cells for comments (in blue) on each individual question, if there's any. </font>"
   ]
  },
  {
   "cell_type": "markdown",
   "metadata": {
    "deletable": true,
    "editable": true
   },
   "source": [
    "# MTH9879 Homework 10\n",
    "\n",
    "Assigned: April 19, 2016.\n",
    "Due: May 3, 2016 by 6pm. \n",
    "\n",
    "Late homework **will not be accepted**.\n",
    "\n",
    "$$\n",
    "\\newcommand{\\supp}{\\mathrm{supp}}\n",
    "\\newcommand{\\E}{\\mathbb{E}}\n",
    "\\newcommand{\\Eof}[1]{\\mathbb{E}\\left[ #1 \\right]}\n",
    "\\def\\Cov{{ \\mbox{Cov} }}\n",
    "\\def\\Var{{ \\mbox{Var} }}\n",
    "\\newcommand{\\1}{\\mathbf{1} }\n",
    "\\newcommand{\\PP}{\\mathbb{P} }\n",
    "%\\newcommand{\\Pr}{\\mathrm{Pr} }\n",
    "\\newcommand{\\QQ}{\\mathbb{Q} }\n",
    "\\newcommand{\\RR}{\\mathbb{R} }\n",
    "\\newcommand{\\DD}{\\mathbb{D} }\n",
    "\\newcommand{\\HH}{\\mathbb{H} }\n",
    "\\newcommand{\\spn}{\\mathrm{span} }\n",
    "\\newcommand{\\cov}{\\mathrm{cov} }\n",
    "\\newcommand{\\sgn}{\\mathrm{sgn} }\n",
    "\\newcommand{\\HS}{\\mathcal{L}_{\\mathrm{HS}} }\n",
    "%\\newcommand{\\HS}{\\mathrm{HS} }\n",
    "\\newcommand{\\trace}{\\mathrm{trace} }\n",
    "\\newcommand{\\LL}{\\mathcal{L} }\n",
    "%\\newcommand{\\LL}{\\mathrm{L} }\n",
    "\\newcommand{\\s}{\\mathcal{S} }\n",
    "\\newcommand{\\ee}{\\mathcal{E} }\n",
    "\\newcommand{\\ff}{\\mathcal{F} }\n",
    "\\newcommand{\\hh}{\\mathcal{H} }\n",
    "\\newcommand{\\bb}{\\mathcal{B} }\n",
    "\\newcommand{\\dd}{\\mathcal{D} }\n",
    "\\newcommand{\\g}{\\mathcal{G} }\n",
    "\\newcommand{\\p}{\\partial}\n",
    "\\newcommand{\\half}{\\frac{1}{2} }\n",
    "\\newcommand{\\T}{\\mathcal{T} }\n",
    "\\newcommand{\\bi}{\\begin{itemize}}\n",
    "\\newcommand{\\ei}{\\end{itemize}}\n",
    "\\newcommand{\\beq}{\\begin{equation}}\n",
    "\\newcommand{\\eeq}{\\end{equation}}\n",
    "\\newcommand{\\beas}{\\begin{eqnarray*}}\n",
    "\\newcommand{\\eeas}{\\end{eqnarray*}}\n",
    "\\newcommand{\\cO}{\\mathcal{O}}\n",
    "\\newcommand{\\cC}{\\mathcal{C}}\n",
    "\\newcommand{\\cF}{\\mathcal{F}}\n",
    "\\newcommand{\\cL}{\\mathcal{L}}\n",
    "\\newcommand{\\BS}{\\text{BS}}\n",
    "$$"
   ]
  },
  {
   "cell_type": "markdown",
   "metadata": {
    "deletable": true,
    "editable": true
   },
   "source": [
    "<font color = \"red\">Homework is to be done by each student individually.  To receive full credit, you must email a completed copy of this iPython notebook to Tai-Ho Wang (tai-ho.wang@baruch.cuny.edu) and Jim Gatheral (jim.gatheral@baruch.cuny.edu) by the due date and time.  All R-code must run correctly and solutions must be written up neatly in Markdown/LaTeX format.\n",
    "\n",
    "<font color=\"blue\">If you encounter problems with Markdown/LaTeX or iPython notebook, please contact Yuxi Liu, who has kindly offered to help.\n"
   ]
  },
  {
   "cell_type": "markdown",
   "metadata": {
    "deletable": true,
    "editable": true
   },
   "source": [
    "## Numerical solution of Fredholm equation"
   ]
  },
  {
   "cell_type": "markdown",
   "metadata": {
    "deletable": true,
    "editable": true
   },
   "source": [
    "### 1. (12 points) <font color=blue> Score: 12/12 </font>\n",
    "Consider the Fredholm equation (7) in Lecture 10:\n",
    "\n",
    "$$\n",
    "\\int_0^T{G}(|t-s|)\\,dx_s =\\text{const.}\\qquad\\text{for all $t\\in [0,T]$.}\n",
    "$$\n",
    "\n",
    "Define $t_i:={i}\\frac T{N}$. One way to discretize this integral equation is as follows:\n",
    "\n",
    "$$\n",
    "\\sum_{j=1}^N G_{ij}\\,v_j=\\text{const.}\n",
    "$$\n",
    "\n",
    "where $v_j=x_{t_{j}}-x_{t_{j-1}}$ and\n",
    "\n",
    "<a name=\"eq:1\"></a>(1)\n",
    "$$\n",
    "G_{ij}=\n",
    "\\int_{t_{i-1}}^{t_i}\\,\\int_{t_{j-1}}^{t_j}\\,G(|t-s|)\\,ds\\,dt.\n",
    "$$\n",
    "\n",
    "(a) Derive an explicit expression for the $G_{ij}$ in the case\n",
    "$$\n",
    "G(\\tau)=\\frac {1}{(1+\\tau)^2}.\n",
    "$$\n",
    "You will need to compute separate expressions for the cases $i \\neq j$ and $i=j$.\n",
    "\n",
    "\n"
   ]
  },
  {
   "cell_type": "markdown",
   "metadata": {
    "deletable": true,
    "editable": true
   },
   "source": [
    "### Solution\n",
    "If i = j then\n",
    "$$\n",
    "\\int_{t_{i-1}}^{t_i}\\,G(|t-s|)\\,ds  = 2 - \\frac{1}{1+t-t_{i-1}} - \\frac{1}{1+t_i-t}\n",
    "$$\n",
    "\n",
    "Thus,\n",
    "$$\n",
    "G_{ii} = \\int_{t_{i-1}}^{t_i}\\, \\left\\{2-\\frac{1}{1+t-t_{i-1}}-\\frac{1}{1+t_i-t}\\right\\}\\,dt\n",
    "= 2\\,(t_i-t_{i-1}) - 2\\,\\mbox{log}(1+t_i-t_{i-1})\n",
    "$$\n",
    "\n",
    "If $i<j$,\n",
    "$$\n",
    "G_{ij} = \\int_{t_{i-1}}^{t_i}\\,\\int_{t_{j-1}}^{t_j}\\,G(s-t)\\,ds\\,dt = \\mbox{log}\\left(\\frac{1+t_j-t_i}{1+t_j-t_{i-1}}\\cdot\\frac{1+t_{j-1}-t_{i-1}}{1+t_{j-1}-t_i}\\right)\n",
    "$$\n",
    "\n",
    "If $i>j$,\n",
    "$$\n",
    "G_{ij} = \\int_{t_{i-1}}^{t_i}\\,\\int_{t_{j-1}}^{t_j}\\,G(t-s)\\,ds\\,dt = \\mbox{log}\\left(\\frac{1+t_i-t_j}{1+t_{i-1}-t_j}\\cdot\\frac{1+t_{i-1}-t_{j-1}}{1+t_i-t_{j-1}}\\right)\n",
    "$$\n"
   ]
  },
  {
   "cell_type": "markdown",
   "metadata": {
    "deletable": true,
    "editable": true
   },
   "source": [
    "(b) With $N=512$, use matrix algebra to solve equation [(1)](#eq:1) numerically with this decay kernel.\n",
    "\n"
   ]
  },
  {
   "cell_type": "code",
   "execution_count": 1,
   "metadata": {
    "collapsed": false,
    "deletable": true,
    "editable": true
   },
   "outputs": [
    {
     "data": {
      "text/html": [
       "<table>\n",
       "<tbody>\n",
       "\t<tr><td>13.82490007</td></tr>\n",
       "\t<tr><td>-3.63389833</td></tr>\n",
       "\t<tr><td> 1.04403132</td></tr>\n",
       "\t<tr><td>-0.20954072</td></tr>\n",
       "\t<tr><td> 0.12622596</td></tr>\n",
       "\t<tr><td> 0.03613259</td></tr>\n",
       "</tbody>\n",
       "</table>\n"
      ],
      "text/latex": [
       "\\begin{tabular}{l}\n",
       "\t 13.82490007\\\\\n",
       "\t -3.63389833\\\\\n",
       "\t  1.04403132\\\\\n",
       "\t -0.20954072\\\\\n",
       "\t  0.12622596\\\\\n",
       "\t  0.03613259\\\\\n",
       "\\end{tabular}\n"
      ],
      "text/markdown": [
       "\n",
       "| 13.82490007 | \n",
       "| -3.63389833 | \n",
       "|  1.04403132 | \n",
       "| -0.20954072 | \n",
       "|  0.12622596 | \n",
       "|  0.03613259 | \n",
       "\n",
       "\n"
      ],
      "text/plain": [
       "     [,1]       \n",
       "[1,] 13.82490007\n",
       "[2,] -3.63389833\n",
       "[3,]  1.04403132\n",
       "[4,] -0.20954072\n",
       "[5,]  0.12622596\n",
       "[6,]  0.03613259"
      ]
     },
     "metadata": {},
     "output_type": "display_data"
    }
   ],
   "source": [
    "# This is the function for G_ij\n",
    "G_ij <- function(i,j,dt){\n",
    "    # function to calculate G_ij\n",
    "    if (i == j) {\n",
    "        return(2*dt - 2*log(1 + dt))\n",
    "    } \n",
    "    else if (i > j) {\n",
    "        return(log((1+(i-j)*dt)*(1+(i-j)*dt) / ((1+(i-j-1)*dt)*(1+(i-j+1)*dt))))\n",
    "    }\n",
    "    else {\n",
    "        return(log((1+(j-i)*dt)*(1+(j-i)*dt) / ((1+(j-i-1)*dt)*(1+(j-i+1)*dt))))\n",
    "    }\n",
    "}\n",
    "T <- 1\n",
    "N <- 512\n",
    "interval <- T/N\n",
    "G = matrix(0,N,N)\n",
    "for (i in 1:N) {\n",
    "    for (j in 1:N) {\n",
    "        G[i,j] = G_ij(i,j,1/N)    \n",
    "    }\n",
    "}\n",
    "#G[1,] <- sapply(seq(1:N), function(j){eval_G(1,j,interval)})\n",
    "v <- rep(1/10000, N)\n",
    "v <- solve(G) %*% v\n",
    "\n",
    "head(v)"
   ]
  },
  {
   "cell_type": "markdown",
   "metadata": {
    "deletable": true,
    "editable": true
   },
   "source": [
    "(c) Plot your results - you should end up with something like Figure 2 of Lecture 10.\n"
   ]
  },
  {
   "cell_type": "code",
   "execution_count": 2,
   "metadata": {
    "collapsed": false,
    "deletable": true,
    "editable": true
   },
   "outputs": [
    {
     "data": {
      "image/png": "[encoded data removed]",
      "text/plain": [
       "plot without title"
      ]
     },
     "metadata": {},
     "output_type": "display_data"
    }
   ],
   "source": [
    "plot(seq(1/N, 1, 1/N), v, type = \"l\", col = \"red\",xlab = \"Time \", ylab = \"Trade\")"
   ]
  },
  {
   "cell_type": "markdown",
   "metadata": {
    "deletable": true,
    "editable": true
   },
   "source": [
    "## Optimal interval VWAP strategy in the square-root model"
   ]
  },
  {
   "cell_type": "markdown",
   "metadata": {
    "deletable": true,
    "editable": true
   },
   "source": [
    "### 2. (12 points) <font color=blue> Score: 10/12 </font>\n",
    "\n",
    "Consider equation (11) of Lecture 10 for the cost of liquidation using interval VWAPs:\n",
    "\n",
    "$$\n",
    "\\cC=\\sum_{j=1}^m\\,C_{jj}+\\sum_{i< j}^m\\,C_{ji}.\n",
    "$$\n",
    "\n",
    "(a) With $m=3$ (that is 3 interval VWAP slices), and assuming the square-root process where\n",
    "\n",
    "$$\n",
    "h(v)=\\frac  3 4 \\sigma\\,\\sqrt{\\frac{v}{V}} =\\frac  3 4 \\sigma\\,\\sqrt{\\frac{\\dot x}{V}}, \n",
    "\\quad \\mbox{ and } \\quad\n",
    "G(\\tau)=1/\\sqrt{\\tau},\n",
    "$$\n",
    "\n",
    "compute explicit expressions for the matrix elements $C_{ji}$ in terms of $x_1$, $x_2$, $t_1$, and $t_2$ (noting that $t_0=0$ and $t_3=T$).\n",
    "\n"
   ]
  },
  {
   "cell_type": "markdown",
   "metadata": {
    "deletable": true,
    "editable": true
   },
   "source": [
    "### Solution\n",
    "$$\n",
    "C_{ii}=\\frac{4}{3}\\,x_i\\,h(v_i)\\,\\sqrt{t_i-t_{i-1}}=\\frac{\\sigma}{\\sqrt{V}}\\,x_i^{3/2}\n",
    "$$\n",
    "$$\n",
    "C_{ji}=\\frac{\\sigma\\,x_j\\sqrt{x_i}}{\\sqrt{V}}\\,\\frac{\\left(t_{j}-t_{i-1}\\right)^{3/2}\n",
    "-\\left(t_{j}-t_{i}\\right)^{3/2}-\\left(t_{j-1}-t_{i-1}\\right)^{3/2}+\\left(t_{j-1}-t_{i}\\right)^{3/2}}{(t_{j}-t_{j-1})\\sqrt{t_i-t_{i-1}}}\n",
    "$$\n",
    "\n",
    "So that\n",
    "\n",
    "$$\n",
    "C_{11} = \\frac{\\sigma}{\\sqrt{V}} x_1^{3/2} \\\\\n",
    "C_{21} = (2\\sqrt{2}-2)\\frac{\\sigma}{\\sqrt{V}}x_2\\sqrt{x_1}\\\\\n",
    "C_{22} = \\frac{\\sigma}{\\sqrt{V}} x_2^{3/2} \\\\\n",
    "C_{31} = (3\\sqrt{3}-4\\sqrt{2}+1)\\frac{\\sigma}{\\sqrt{V}}x_3\\sqrt{x_1}\\\\\n",
    "C_{32} = (2\\sqrt{2}-2)\\frac{\\sigma}{\\sqrt{V}}x_3\\sqrt{x_2}\\\\\n",
    "C_{33} = \\frac{\\sigma}{\\sqrt{V}} x_3^{3/2} \\\\\n",
    "$$"
   ]
  },
  {
   "cell_type": "markdown",
   "metadata": {
    "deletable": true,
    "editable": true
   },
   "source": [
    "(b) Minimize the resulting expression for the expected cost of liquidation numerically to find optimal choices of $x_1$ and $x_2$ when $t_1=T/3$, and $t_2=2 \\,T/3$.\n",
    "\n"
   ]
  },
  {
   "cell_type": "code",
   "execution_count": 3,
   "metadata": {
    "collapsed": false,
    "deletable": true,
    "editable": true
   },
   "outputs": [
    {
     "data": {
      "text/plain": [
       "$par\n",
       "[1] 6.458326e+03 2.527702e-12\n",
       "\n",
       "$value\n",
       "[1] 698.2967\n",
       "\n",
       "$counts\n",
       "function gradient \n",
       "     534       NA \n",
       "\n",
       "$convergence\n",
       "[1] 0\n",
       "\n",
       "$message\n",
       "NULL\n",
       "\n",
       "$outer.iterations\n",
       "[1] 3\n",
       "\n",
       "$barrier.value\n",
       "[1] -20.35301\n"
      ]
     },
     "metadata": {},
     "output_type": "display_data"
    }
   ],
   "source": [
    "C_ii <- function(sigma, V, x_i) {\n",
    "    (sigma/sqrt(V)) * x_i^(3/2)\n",
    "}\n",
    "C_ji <- function(sigma, V, x_i, x_j, dt, t_i, t_j) {\n",
    "    (sigma*x_j*sqrt(x_i))/sqrt(V) *\n",
    "    ((t_j-(t_i-dt))^(3/2) - (t_j-t_i)^(3/2) - (t_j-t_i)^(3/2) + ((t_j-dt)-t_i)^(3/2))/\n",
    "    (dt^(3/2))\n",
    "}\n",
    "total_cost <- function(sigma, V, dt, x, X) {\n",
    "    C_ii(sigma,V,x[1])+C_ii(sigma,V,x[2])+ C_ii(sigma,V,X-x[1]-x[2])+ C_ji(sigma,V,x[1],x[2],dt,dt,dt*2)+ C_ji(sigma,V,x[1],X-x[1]-x[2],dt,dt,dt*3)+C_ji(sigma,V,x[2],X-x[1]-x[2],dt,dt*2,dt*3)\n",
    "}\n",
    "\n",
    "options(warn=-1)\n",
    "sigma <- .25\n",
    "V <- 100000\n",
    "X <- 10000\n",
    "T <- 1\n",
    "dt <- T/3\n",
    "optim <- constrOptim(c(3000,3000),function(y) {total_cost(sigma,V,dt,y,X)},grad=NULL,ui=rbind(c(1,1),c(1,1)),ci=c(-X,0))\n",
    "optim"
   ]
  },
  {
   "cell_type": "markdown",
   "metadata": {
    "deletable": true,
    "editable": true
   },
   "source": [
    "(c) What is the percentage saving from trading with the 3-slice strategy relative to a VWAP?\n",
    "\n"
   ]
  },
  {
   "cell_type": "code",
   "execution_count": 4,
   "metadata": {
    "collapsed": false,
    "deletable": true,
    "editable": true
   },
   "outputs": [
    {
     "data": {
      "text/html": [
       "0.132139743436953"
      ],
      "text/latex": [
       "0.132139743436953"
      ],
      "text/markdown": [
       "0.132139743436953"
      ],
      "text/plain": [
       "[1] 0.1321397"
      ]
     },
     "metadata": {},
     "output_type": "display_data"
    }
   ],
   "source": [
    "cost <- sigma * sqrt(X/V) * X\n",
    "saved <- cost/optim$value - 1\n",
    "saved"
   ]
  },
  {
   "cell_type": "markdown",
   "metadata": {
    "deletable": true,
    "editable": true
   },
   "source": [
    "<font color=blue>(2pts off) The saving is slightly off. It should be roughly 11.7%. "
   ]
  },
  {
   "cell_type": "markdown",
   "metadata": {
    "deletable": true,
    "editable": true
   },
   "source": [
    "(d) Explain to your non-mathematical manager why this strategy has lower expected cost."
   ]
  },
  {
   "cell_type": "markdown",
   "metadata": {
    "deletable": true,
    "editable": true
   },
   "source": [
    "The reason that it has an expected lower cost is you have to wait between trades and while you are waiting the impact from the trade decay.\n"
   ]
  }
 ],
 "metadata": {
  "celltoolbar": "Slideshow",
  "kernelspec": {
   "display_name": "R",
   "language": "R",
   "name": "ir"
  },
  "language_info": {
   "codemirror_mode": "r",
   "file_extension": ".r",
   "mimetype": "text/x-r-source",
   "name": "R",
   "pygments_lexer": "r",
   "version": "3.3.2"
  }
 },
 "nbformat": 4,
 "nbformat_minor": 0
}
