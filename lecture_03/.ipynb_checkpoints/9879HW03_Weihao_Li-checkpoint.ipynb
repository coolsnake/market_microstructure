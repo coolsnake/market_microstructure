{
 "cells": [
  {
   "cell_type": "markdown",
   "metadata": {
    "deletable": true,
    "editable": true
   },
   "source": [
    "Weihao Li"
   ]
  },
  {
   "cell_type": "markdown",
   "metadata": {
    "deletable": true,
    "editable": true
   },
   "source": [
    "# MTH9879 Homework 3\n",
    "\n",
    "Assigned: February 14, 2017.\n",
    "Due: February 28, 2017 by 6pm. \n",
    "|\n",
    "Late homework **will not be accepted**.\n",
    "\n",
    "$$\n",
    "\\newcommand{\\supp}{\\mathrm{supp}}\n",
    "\\newcommand{\\E}{\\mathbb{E}}\n",
    "\\newcommand{\\EE}{\\mathbb{E}}\n",
    "\\newcommand{\\Eof}[1]{\\mathbb{E}\\left[ #1 \\right]}\n",
    "\\def\\Cov{{ \\mbox{Cov} }}\n",
    "\\def\\Var{{ \\mbox{Var} }}\n",
    "\\newcommand{\\1}{\\mathbf{1} }\n",
    "\\newcommand{\\PP}{\\mathbb{P} }\n",
    "%\\newcommand{\\Pr}{\\mathrm{Pr} }\n",
    "\\newcommand{\\QQ}{\\mathbb{Q} }\n",
    "\\newcommand{\\RR}{\\mathbb{R} }\n",
    "\\newcommand{\\DD}{\\mathbb{D} }\n",
    "\\newcommand{\\HH}{\\mathbb{H} }\n",
    "\\newcommand{\\spn}{\\mathrm{span} }\n",
    "\\newcommand{\\cov}{\\mathrm{cov} }\n",
    "\\newcommand{\\sgn}{\\mathrm{sgn} }\n",
    "\\newcommand{\\HS}{\\mathcal{L}_{\\mathrm{HS}} }\n",
    "%\\newcommand{\\HS}{\\mathrm{HS} }\n",
    "\\newcommand{\\trace}{\\mathrm{trace} }\n",
    "\\newcommand{\\LL}{\\mathcal{L} }\n",
    "%\\newcommand{\\LL}{\\mathrm{L} }\n",
    "\\newcommand{\\s}{\\mathcal{S} }\n",
    "\\newcommand{\\ee}{\\mathcal{E} }\n",
    "\\newcommand{\\ff}{\\mathcal{F} }\n",
    "\\newcommand{\\hh}{\\mathcal{H} }\n",
    "\\newcommand{\\bb}{\\mathcal{B} }\n",
    "\\newcommand{\\dd}{\\mathcal{D} }\n",
    "\\newcommand{\\g}{\\mathcal{G} }\n",
    "\\newcommand{\\p}{\\partial}\n",
    "\\newcommand{\\half}{\\frac{1}{2} }\n",
    "\\newcommand{\\T}{\\mathcal{T} }\n",
    "\\newcommand{\\bi}{\\begin{itemize}}\n",
    "\\newcommand{\\ei}{\\end{itemize}}\n",
    "\\newcommand{\\beq}{\\begin{equation}}\n",
    "\\newcommand{\\eeq}{\\end{equation}}\n",
    "\\newcommand{\\beas}{\\begin{eqnarray*}}\n",
    "\\newcommand{\\eeas}{\\end{eqnarray*}}\n",
    "\\newcommand{\\cO}{\\mathcal{O}}\n",
    "\\newcommand{\\cF}{\\mathcal{F}}\n",
    "\\newcommand{\\cL}{\\mathcal{L}}\n",
    "\\newcommand{\\BS}{\\text{BS}}\n",
    "$$"
   ]
  },
  {
   "cell_type": "markdown",
   "metadata": {
    "deletable": true,
    "editable": true
   },
   "source": [
    "<font color = \"red\">Homework is to be done by each student individually.  To receive full credit, you must email a completed copy of this iPython notebook to Victor Istratov (stavka@gmail.com), Yassine Ghalem (yassine.ghalem@gmail.com) and Jim Gatheral (jim.gatheral@gmail.com) by the due date and time.  All R-code must run correctly and solutions must be written up neatly in Markdown/LaTeX format.\n"
   ]
  },
  {
   "cell_type": "markdown",
   "metadata": {
    "deletable": true,
    "editable": true
   },
   "source": [
    "### 0. (0 points) \n",
    "Read Chapter 11 of Hasbrouck and Section 3.5 of Foucault, Pagano and R&ouml;ell. <br>\n",
    "Also, read the article on high-frequency trading by Menkveld available at http://papers.tinbergen.nl/11076.pdf."
   ]
  },
  {
   "cell_type": "markdown",
   "metadata": {
    "deletable": true,
    "editable": true
   },
   "source": [
    "## The Garman (1976) model"
   ]
  },
  {
   "cell_type": "markdown",
   "metadata": {
    "deletable": true,
    "editable": true
   },
   "source": [
    "### 1. (6 points) \n",
    "Suppose supply and demand functions satisfy\n",
    "\n",
    "$$\n",
    "P_A(\\lambda) = 101 − 18\\lambda + \\lambda^2; \\; P_B(\\lambda) = 61 + 2\\lambda + \\lambda^2,\n",
    "$$\n",
    "\n",
    "where $\\lambda$ is the market order arrival rate per minute and $P_B(\\cdot)$ and $P_A(\\cdot)$ denote supply and demand curves respectively. <br>\n",
    "Determine the dealer’s optimal bid $B$ and ask $A$ and the average profit per minute."
   ]
  },
  {
   "cell_type": "markdown",
   "metadata": {
    "deletable": true,
    "editable": true
   },
   "source": [
    "#### solution 1\n",
    "\n",
    "* The dealer will maintain the spread in a level, such that total revenue in a minutes will be maximazied  \n",
    "* $$\n",
    "    \\pi(B,A)=(A-B)\\,\\tilde \\lambda = \\left(P_A(\\tilde \\lambda) - P_B(\\tilde \\lambda)\\right)\\,\\tilde \\lambda.\n",
    "    $$\n",
    "* $ ((101 − 18\\lambda + \\lambda^2) - ( 61 + 2\\lambda + \\lambda^2))*\\lambda = (40 - 20 \\lambda)*\\lambda$   \n",
    "* solve the maximized condition for this function and we get \\lambda = 1  \n",
    "\n",
    "* Plug $\\lambda$ back in, we will have\n",
    "$$\n",
    "\\begin{cases}\n",
    "A &= 84\\\\ \n",
    "B &= 64\n",
    "\\end{cases}\n",
    "$$\n",
    "* The profit will be $(A-B)* \\lambda = 20$ per minute\n"
   ]
  },
  {
   "cell_type": "markdown",
   "metadata": {
    "deletable": true,
    "editable": true
   },
   "source": [
    "## The Stoll (1978) model"
   ]
  },
  {
   "cell_type": "markdown",
   "metadata": {
    "deletable": true,
    "editable": true
   },
   "source": [
    "### 2. (4 points) \n",
    "In the Stoll (1978) model, assuming exponential utility with $S \\sim N(\\mu, \\sigma^2)$, and with current inventory $q$ shares, what are the dealer’s indifference bid and ask prices for $n$ shares?"
   ]
  },
  {
   "cell_type": "markdown",
   "metadata": {
    "deletable": true,
    "editable": true
   },
   "source": [
    "#### solution 2\n",
    "- For the dealer to be indifferent, we must have\n",
    "    \n",
    "    $$\n",
    "    \\E[U\\left((q+n)S-B\\right)]=\\E[U(q\\,S)]\n",
    "    $$\n",
    "    \n",
    "    so\n",
    "    \n",
    "    <a name=\"eq:indifference\"></a>(1)\n",
    "    $$ \n",
    "    (q+n)\\E[S]-nB-\\frac{\\alpha}{2}\\,\\Var[(q+n)\\,S]\\\\=q\\,\\E[S]-\\frac{\\alpha}{2}\\,\\Var[q\\,S]\n",
    "    $$\n",
    "    \n",
    "    Then\n",
    "    \n",
    "    <a name=\"eq:StollBid\"></a>(2)\n",
    "    $$ \n",
    "     B = \\mu -\\frac{\\alpha}{2}(2q+n)\\,\\sigma^2\n",
    "    $$  \n",
    "    \n",
    "- For a seller, we must have\n",
    "    \n",
    "    $$\n",
    "    \\E[U\\left((q-n)S+A\\right)]=\\E[U(q\\,S)]\n",
    "    $$\n",
    "    \n",
    "    so\n",
    "    \n",
    "    <a name=\"eq:indifference\"></a>(1)\n",
    "    $$ \n",
    "    (q-n)\\E[S]+nA-\\frac{\\alpha}{2}\\,\\Var[(q-n)\\,S]\\\\=q\\,\\E[S]-\\frac{\\alpha}{2}\\,\\Var[q\\,S]\n",
    "    $$\n",
    "    \n",
    "    Then\n",
    "    \n",
    "    <a name=\"eq:StollBid\"></a>(2)\n",
    "    $$ \n",
    "     A = \\mu +\\frac{\\alpha}{2}(-2q+n)\\,\\sigma^2\n",
    "    $$"
   ]
  },
  {
   "cell_type": "markdown",
   "metadata": {
    "deletable": true,
    "editable": true
   },
   "source": [
    "### 3. (10 points)\n",
    "As mentioned in Lecture 3, in real markets, bid and ask prices $B$ and $A$ are typically given and the dealer must decide how much size to quote at these fixed prices.  Suppose there are currently $Q_A$ offered and $Q_B$ shares bid.  According to Lecture 1,\n",
    "\n",
    "$$\n",
    "\\Eof{S} \\approx M + \\frac s 2 \\,\\frac 4\\pi \\,\\arctan I.\n",
    "$$\n",
    "\n",
    "where $M$ is the mid-price, $s=A-B$, and the book imbalance is given by\n",
    "\n",
    "$$\n",
    "I = \\frac{Q_B-Q_A}{Q_B + Q_A}.\n",
    "$$\n",
    "\n",
    "Assume that $S$ is normally distributed with variance $\\sigma^2$, that the dealer has exponential utility, and that his current inventory is $q$.\n",
    "\n",
    "(a) Use your answer to Problem 2 to show that the indifference size $n_B$ the dealer should quote at the bid $B$ is given by\n",
    "\n",
    "$$\n",
    "n_B = \\frac{s}{\\alpha\\,\\sigma^2}\\,\\left(  1+\\frac 4 \\pi \\,\\arctan I \\right) - 2\\,q.\n",
    "$$\n",
    "\n",
    "\n",
    "\n",
    "\n"
   ]
  },
  {
   "cell_type": "markdown",
   "metadata": {
    "deletable": true,
    "editable": true
   },
   "source": [
    "#### solution (a)\n",
    "* solve:\n",
    "$$\n",
    "\\begin{cases}  \n",
    "\\mu \\approx M + \\frac s 2 \\,\\frac 4\\pi \\,\\arctan I.\\\\\n",
    "    B = \\mu -\\frac{\\alpha}{2}(2q+n_B)\\,\\sigma^2\n",
    "\\end{cases}\n",
    "$$\n",
    "we get:\n",
    "\n",
    "$$\n",
    "n_B  = \\frac{2}{\\alpha\\,\\sigma^2}\\,\\left(  M+\\frac{s}{2}\\,\\frac 4 \\pi \\,\\arctan I -B\\right) - 2\\,q.\n",
    "$$\n",
    "noticed that:\n",
    "$$\n",
    "M - B = \\frac{s}{2}\n",
    "$$\n",
    "Finally we have:\n",
    "$$\n",
    "n_B = \\frac{2}{\\alpha\\,\\sigma^2}\\,\\left(  \\frac{s}{2}+\\frac{s}{2}\\,\\frac 4 \\pi \\,\\arctan I \\right) - 2\\,q.\\\\\n",
    "n_B = \\frac{s}{\\alpha\\,\\sigma^2}\\,\\left(  1+\\frac 4 \\pi \\,\\arctan I \\right) - 2\\,q.\n",
    "$$"
   ]
  },
  {
   "cell_type": "markdown",
   "metadata": {
    "deletable": true,
    "editable": true
   },
   "source": [
    "(b) Derive a similar formula for the indifference offered quantity $n_A$."
   ]
  },
  {
   "cell_type": "markdown",
   "metadata": {
    "deletable": true,
    "editable": true
   },
   "source": [
    "#### solution (b)\n",
    "* solve:\n",
    "$$\n",
    "\\begin{cases}  \n",
    "\\mu \\approx M + \\frac s 2 \\,\\frac 4\\pi \\,\\arctan I.\\\\\n",
    "A= \\mu +\\frac{\\alpha}{2}(-2q+n)\\,\\sigma^2\n",
    "\\end{cases}\n",
    "$$\n",
    "we get:\n",
    "\n",
    "$$\n",
    "A  = M + \\frac s 2 \\,\\frac 4\\pi \\,\\arctan I +\\frac{\\alpha}{2}(-2q+n)\\,\\sigma^2\n",
    "$$\n",
    "noticed that:\n",
    "$$\n",
    "A-M = \\frac{s}{2}\n",
    "$$\n",
    "Finally we have:\n",
    "$$\n",
    "n_A = \\frac{s}{\\alpha\\,\\sigma^2}\\,\\left(  1-\\frac 4 \\pi \\,\\arctan I \\right) + 2\\,q.\n",
    "$$"
   ]
  },
  {
   "cell_type": "markdown",
   "metadata": {
    "deletable": true,
    "editable": true
   },
   "source": [
    "(c) Give your intuition for the sensitivities of $n_B$ and $n_A$ to each of the various inputs."
   ]
  },
  {
   "cell_type": "markdown",
   "metadata": {
    "deletable": true,
    "editable": true
   },
   "source": [
    "* volatility $\\sigma^2$\n",
    "    * as volatility increase, both $n_A$ and $n_B$ will decrease. This inpled that the dealer will put less order on bid/ask side as volatility increase  \n",
    "* Risk reverse $\\alpha$ \n",
    "    * The more risk reverse the investers are, the less orders they will place    \n",
    "* spread s\n",
    "    * The larger the spread, the more orders will the invester place on bid/ask    \n",
    "* Imbalance I:\n",
    "    * When I increase, $b_B$ will increase and $n_A$ will decrease, implying that when there are more bid than ask in the order book, the invester will follow the trend by increase bid order and decrease ask order  \n",
    "* inventory q:\n",
    "    * When there are more inventory, we will increase our ask order and place less bid order. So the inventory q is mean reverted.  "
   ]
  },
  {
   "cell_type": "markdown",
   "metadata": {
    "deletable": true,
    "editable": true
   },
   "source": [
    "## Avellaneda and Stoikov (2008)"
   ]
  },
  {
   "cell_type": "markdown",
   "metadata": {
    "deletable": true,
    "editable": true
   },
   "source": [
    "### 4. (6 points) \n",
    "According to the lecture slides, in the Avellaneda and Stoikov model, the optimal bid and ask prices are given in terms of market order arrival rates by\n",
    "\n",
    "$$\n",
    "B=r_B-\\frac{1}{\\alpha}\\,\\log\\left(1+\\alpha\\,\\frac{{\\lambda_B}(B)}{\\lambda_B'(B)}\\right).\n",
    "$$\n",
    "\n",
    "Similarly, the optimal ask price is given by\n",
    "\n",
    "$$\n",
    "A=r_A-\\frac{1}{\\alpha}\\,\\log\\left(1+\\alpha\\,\\frac{{\\lambda_A}(A)}{\\lambda_A'(A)}\\right).\n",
    "$$\n",
    "\n",
    "where $A= S+\\delta_A$ and $B= S-\\delta_B$.\n",
    "\n",
    "Suppose that arrival rates of orders (symmetric between market buys and sells) are given by\n",
    "\n",
    "$$\n",
    "\\lambda(\\delta) = e^{-k \\delta \\pm \\beta\\,q}\n",
    "$$\n",
    "\n",
    "for some constant $\\beta>0$ that reflects adverse selection (i.e., the longer you are, the more market sell orders arrive).\n",
    "\n",
    "\n",
    "\n",
    "\n",
    "\n",
    "\n"
   ]
  },
  {
   "cell_type": "markdown",
   "metadata": {
    "deletable": true,
    "editable": true
   },
   "source": [
    "(a) Write down expressions for $A$ and $B$ in terms of $r_A$, $r_B$, $k$, $\\beta$ and $q$."
   ]
  },
  {
   "cell_type": "markdown",
   "metadata": {
    "deletable": true,
    "editable": true
   },
   "source": [
    "* If q is a constant, plug the arrival rate into the optimak bid/ask we  will have:\n",
    "\\begin{cases}\n",
    "\\lambda_A(A-S) &=& e^{-k (A-S) - \\beta\\,q}\\\\\n",
    "\\lambda_A'(A-s) &=& e^{-k (A-S) - \\beta\\,q}*(-k)\\\\\n",
    "A &=& r_A + \\frac1{\\alpha} \\,\\log (1 + \\frac{\\alpha}{k}) \n",
    "\\end{cases}\n",
    "* for bid:\n",
    "\\begin{cases}\n",
    "\\lambda_B(A-S) &=& e^{-k (S-B) + \\beta\\,q}\\\\\n",
    "\\lambda_B'(A-s) &=& e^{-k (S-B) + \\beta\\,q}*(-k)\\\\\n",
    "B &=& r_B - \\frac1{\\alpha} \\,\\log (1 + \\frac{\\alpha}{k}) \n",
    "\\end{cases}\n"
   ]
  },
  {
   "cell_type": "markdown",
   "metadata": {
    "deletable": true,
    "editable": true
   },
   "source": [
    "(b) How does the optimal spread depend on $q$?"
   ]
  },
  {
   "cell_type": "markdown",
   "metadata": {
    "deletable": true,
    "editable": true
   },
   "source": [
    "#### solution b\n",
    "* calculate the spread:\n",
    "$$\n",
    "A-B = \\left(r_A - r_b\\right)+\\frac{2}{\\alpha} \\log (1 + \\frac{\\alpha}{k})\n",
    "$$\n",
    "As indecated by the formula. the spread does not depend on $q$. However, we still need to check if $q$ would influence $r_A$ and $r_B$, such that have inflence on S.\n",
    "\n",
    "<br/>\n",
    "<font color=\"red\">Comment: actually in this model q is eliminated when you take the difference of $r_A$ and $r_B$.</font>"
   ]
  },
  {
   "cell_type": "markdown",
   "metadata": {
    "deletable": true,
    "editable": true
   },
   "source": [
    "(c) Conjecture how the reservation prices $r_A$ and $r_B$ should depend on $q$ if there is adverse selection."
   ]
  },
  {
   "cell_type": "markdown",
   "metadata": {
    "deletable": true,
    "editable": true
   },
   "source": [
    "#### solution c\n",
    "\n",
    "By formula from the lecture:\n",
    "$$\n",
    "r_B(t,x,S,q) = S - \\frac{\\alpha}{2}\\,(2\\,q+1)\\,\\sigma^2\\,(T-t)\n",
    "$$\n",
    "$$\n",
    "r_A(t,x,S,q) = S + \\frac{\\alpha}{2}\\,(-2\\,q+1)\\,\\sigma^2\\,(T-t)\n",
    "$$\n",
    "\n",
    "Increase in q will cause decrease in $r_B$ and $r_A$,meaning that when there are a large amount of inventory, the dealer will be offering lower price for selling and buying. As indicated by the formule, the influences are in the same scale, so spread does not depend on q.\n",
    "\n",
    "<br/>\n",
    "<font color=\"red\">Comment: The question was what would you expect if there was adverse selection, so more dependency would be introduced into the model. -1pt</font>"
   ]
  },
  {
   "cell_type": "code",
   "execution_count": null,
   "metadata": {
    "collapsed": true,
    "deletable": true,
    "editable": true
   },
   "outputs": [],
   "source": []
  }
 ],
 "metadata": {
  "anaconda-cloud": {},
  "kernelspec": {
   "display_name": "R",
   "language": "R",
   "name": "ir"
  },
  "language_info": {
   "codemirror_mode": "r",
   "file_extension": ".r",
   "mimetype": "text/x-r-source",
   "name": "R",
   "pygments_lexer": "r",
   "version": "3.3.2"
  }
 },
 "nbformat": 4,
 "nbformat_minor": 0
}
