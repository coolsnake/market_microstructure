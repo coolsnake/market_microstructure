{
 "cells": [
  {
   "cell_type": "markdown",
   "metadata": {
    "deletable": true,
    "editable": true
   },
   "source": [
    "#### Weihao Li"
   ]
  },
  {
   "cell_type": "markdown",
   "metadata": {
    "deletable": true,
    "editable": true
   },
   "source": [
    "# MTH9879 Homework 8\n",
    "\n",
    "Assigned: April 4, 2017.\n",
    "Due: May 2, 2017 by 6pm. \n",
    "\n",
    "Late homework **will not be accepted**.\n",
    "\n",
    "$$\n",
    "\\newcommand{\\supp}{\\mathrm{supp}}\n",
    "\\newcommand{\\E}{\\mathbb{E}}\n",
    "\\newcommand{\\Eof}[1]{\\mathbb{E}\\left[ #1 \\right]}\n",
    "\\def\\Cov{{ \\mbox{Cov} }}\n",
    "\\def\\Var{{ \\mbox{Var} }}\n",
    "\\newcommand{\\1}{\\mathbf{1} }\n",
    "\\newcommand{\\PP}{\\mathbb{P} }\n",
    "%\\newcommand{\\Pr}{\\mathrm{Pr} }\n",
    "\\newcommand{\\QQ}{\\mathbb{Q} }\n",
    "\\newcommand{\\RR}{\\mathbb{R} }\n",
    "\\newcommand{\\DD}{\\mathbb{D} }\n",
    "\\newcommand{\\HH}{\\mathbb{H} }\n",
    "\\newcommand{\\spn}{\\mathrm{span} }\n",
    "\\newcommand{\\cov}{\\mathrm{cov} }\n",
    "\\newcommand{\\sgn}{\\mathrm{sgn} }\n",
    "\\newcommand{\\HS}{\\mathcal{L}_{\\mathrm{HS}} }\n",
    "%\\newcommand{\\HS}{\\mathrm{HS} }\n",
    "\\newcommand{\\trace}{\\mathrm{trace} }\n",
    "\\newcommand{\\LL}{\\mathcal{L} }\n",
    "%\\newcommand{\\LL}{\\mathrm{L} }\n",
    "\\newcommand{\\s}{\\mathcal{S} }\n",
    "\\newcommand{\\ee}{\\mathcal{E} }\n",
    "\\newcommand{\\ff}{\\mathcal{F} }\n",
    "\\newcommand{\\hh}{\\mathcal{H} }\n",
    "\\newcommand{\\bb}{\\mathcal{B} }\n",
    "\\newcommand{\\dd}{\\mathcal{D} }\n",
    "\\newcommand{\\g}{\\mathcal{G} }\n",
    "\\newcommand{\\p}{\\partial}\n",
    "\\newcommand{\\half}{\\frac{1}{2} }\n",
    "\\newcommand{\\T}{\\mathcal{T} }\n",
    "\\newcommand{\\bi}{\\begin{itemize}}\n",
    "\\newcommand{\\ei}{\\end{itemize}}\n",
    "\\newcommand{\\beq}{\\begin{equation}}\n",
    "\\newcommand{\\eeq}{\\end{equation}}\n",
    "\\newcommand{\\beas}{\\begin{eqnarray*}}\n",
    "\\newcommand{\\eeas}{\\end{eqnarray*}}\n",
    "\\newcommand{\\cO}{\\mathcal{O}}\n",
    "\\newcommand{\\cF}{\\mathcal{F}}\n",
    "\\newcommand{\\cL}{\\mathcal{L}}\n",
    "\\newcommand{\\BS}{\\text{BS}}\n",
    "$$"
   ]
  },
  {
   "cell_type": "markdown",
   "metadata": {
    "deletable": true,
    "editable": true
   },
   "source": [
    "<font color = \"red\">Homework is to be done by each student individually.  To receive full credit, you must email a completed copy of this iPython notebook to Victor Istratov (stavka@gmail.com), Yassine Ghalem (yassine.ghalem@gmail.com) and Jim Gatheral (jim.gatheral@gmail.com) by the due date and time.  All R-code must run correctly and solutions must be written up neatly in Markdown/LaTeX format."
   ]
  },
  {
   "cell_type": "markdown",
   "metadata": {
    "deletable": true,
    "editable": true
   },
   "source": [
    "### 0. (0 points) \n",
    "Read Section 6.7 of Bouchaud, Farmer and Lillo."
   ]
  },
  {
   "cell_type": "markdown",
   "metadata": {
    "deletable": true,
    "editable": true
   },
   "source": [
    "## Predictability of order flow"
   ]
  },
  {
   "cell_type": "markdown",
   "metadata": {
    "deletable": true,
    "editable": true
   },
   "source": [
    "### 1. (6 points)\n",
    "\n",
    "Suppose that the distribution of meta order sizes $Q$ is exponential so that\n",
    "\n",
    "$$\n",
    "\\Pr(Q>V)= \\frac{1}{\\lambda}\\,e^{-\\lambda\\,V}\n",
    "$$\n",
    "\n",
    "Assuming slices of  constant size $\\bar v$, compute the conditional probability that a hidden order has more slices given that $n$ slices have already been observed.  Compare your result with the case where distribution of metaorder size is power-law."
   ]
  },
  {
   "cell_type": "markdown",
   "metadata": {
    "deletable": true,
    "editable": true
   },
   "source": [
    "\n",
    "\n",
    "With distribution given above, the conditional probability is calculated as:\n",
    "\\begin{align}\n",
    "    q_t &= \\left.\\Pr(Q \\ge (n+1)\\,\\bar v \\right|Q \\ge n\\,\\bar v)\n",
    "        =\\frac{\\Pr(Q \\ge (n+1)\\,\\bar v}{\\Pr(Q \\ge n\\,\\bar v)}\n",
    "        =e^{-\\lambda\\,\\bar v}\n",
    "\\end{align}\n",
    "From lecture, in the case of power law:\n",
    "\\begin{align}\n",
    "q_t = \\left.\\Pr(Q \\ge (n+1)\\,\\bar v \\right|Q \\ge n\\,\\bar v) = \\frac{\\Pr(Q \\ge (n+1)\\,\\bar v}{\\Pr(Q \\ge n\\,\\bar v)} = \\left(\\frac{n }{n+1}\\right)^\\lambda\n",
    "\\end{align}"
   ]
  },
  {
   "cell_type": "markdown",
   "metadata": {
    "deletable": true,
    "editable": true
   },
   "source": [
    "## Price manipulation"
   ]
  },
  {
   "cell_type": "markdown",
   "metadata": {
    "deletable": true,
    "editable": true
   },
   "source": [
    "### 2. (10 points)\n",
    "\n",
    "Consider the price process\n",
    "\n",
    "$$\n",
    "S_t=S_0+\\int_0^t\\,f(\\dot{x}_s)\\,G(t-s)\\,ds+\\int_0^t\\,\\sigma\\,dZ_s\n",
    "$$\n",
    "\n",
    "where ${\\dot x}_s$ is the rate of trading in dollars at time $s < t$, $f(\\dot{x}_s)$ represents the impact of trading at time $s$ and $G(t-s)$ is a decay factor.\n",
    "\n",
    "(a) With the choices\n",
    "\n",
    "$$\n",
    "f(v)=\\sqrt{v},\\quad G(\\tau)=\\frac{1}{1+\\tau},\n",
    "$$\n",
    "    \n",
    "repeat the computations in Lecture 8  to derive an expression for the expected cost of accumulating shares at the rate $v_1$ and liquidating them at the rate $v_2$.\n",
    "\n",
    "(b) Verify that with $T=1$, $v_1=1/4$, $v_2=1$, the expected cost of this round-trip strategy is negative, thus demonstrating that price manipulation is possible. (Recall from the lecture slides that price manipulation is always possible if $f(\\cdot)$ is nonlinear and the decay kernel $G(\\cdot)$  is finite at the origin.)\n",
    "\n",
    "Hint: You might consider using Mathematica or Wolfram Alpha to do the integrations."
   ]
  },
  {
   "cell_type": "markdown",
   "metadata": {
    "deletable": true,
    "editable": true
   },
   "source": [
    "#### Solution (a)\n",
    "\n",
    "* With $$\n",
    "f(v)=\\sqrt{v},\\quad G(\\tau)=\\frac{1}{1+\\tau},\n",
    "$$\n",
    "and equoation (7) from the leacture, we can compute:\n",
    "\\begin{align}\n",
    "C_{11} &=v_1\\,f(v_1)\\,\\int_0^{\\theta\\,T}\\,dt\\,\\int_0^t\\,G(t-s)\\,ds\\\\\n",
    "      &=v_1^{3/2}\\int_0^{\\theta\\,T}\\,\\ln(1 + t)dt\\, \\\\\n",
    "      &= v_1^{3/2}(1+\\theta\\,T)\\ln(1+\\theta\\,T) - v_1^{3/2}\\theta\\,T \n",
    "\\end{align}\n",
    "* Similarily:\n",
    "\\begin{align}\n",
    "C_{22} &= v_2^{3/2}[(1+T-\\theta\\,T)\\ln(1+T-\\theta\\,T) + (\\theta\\,T-T)]\\\\\n",
    "C_{12} &= v_2\\,\\sqrt v_1\\, [(1+T)\\ln(1+T) - (1+\\theta\\,T) \\ln(1+\\theta\\,T) - (1+T-\\theta\\,T)\\ln(1+T-\\theta\\,T)]\n",
    "\\end{align}\n",
    "with  $$\\theta= \\frac{v_2}{v_1+v_2}$$\n",
    "and $$\\E [\\Pi] =  v_1^{3/ + 2}(1+\\theta\\,T)\\ln(1+\\theta\\,T) - v_1^{3/2}\\theta\\,T  + v_2^{3/2}[(1+T-\\theta\\,T)\\ln(1+T-\\theta\\,T) + (\\theta\\,T-T)] - v_2\\,\\sqrt v_1\\, [(1+T)\\ln(1+T) - (1+\\theta\\,T) \\ln(1+\\theta\\,T) - (1+T-\\theta\\,T)\\ln(1+T-\\theta\\,T)]$$"
   ]
  },
  {
   "cell_type": "code",
   "execution_count": 5,
   "metadata": {
    "collapsed": false,
    "deletable": true,
    "editable": true
   },
   "outputs": [
    {
     "name": "stdout",
     "output_type": "stream",
     "text": [
      "The cost is: -0.00370838 Is munipulation possible ? TRUE"
     ]
    }
   ],
   "source": [
    "# Solution (b):\n",
    "T <- 1\n",
    "v1 <- 1.0/4\n",
    "v2 <-1.0\n",
    "theta = v2 / (v1 + v2)\n",
    "\n",
    "C_11 = v1**(1.5) * (1 + theta*T) * log(1+theta*T) - v1**(1.5) * theta * T\n",
    "C_22 = v2**(1.5) * (1 + T - theta*T) * log(1+T-theta*T) + v2**(1.5) * (theta*T - T)\n",
    "C_12 = v2 * v1**0.5 * ((1+T)*log(1+T) - (1+theta*T)*log(1+theta*T) - (1+T-theta*T)*log(1+T-theta*T))\n",
    "C    = C_11 + C_22 - C_12 \n",
    "\n",
    "cat(\"The cost is:\",C,\"Is munipulation possible ?\", C < 0)"
   ]
  },
  {
   "cell_type": "markdown",
   "metadata": {
    "deletable": true,
    "editable": true
   },
   "source": [
    "## The Obizhaeva-Wang model"
   ]
  },
  {
   "cell_type": "markdown",
   "metadata": {
    "deletable": true,
    "editable": true
   },
   "source": [
    "### 3. (8 points)\n",
    "\n",
    "In the Obizhaeva Wang (OW) model, the price follows\n",
    "\n",
    "$$\n",
    "S_t=S_0+\\eta\\,\\int_0^t\\,{\\dot x}_s\\,e^{-\\rho\\,(t-s)}\\,ds+\\int_0^t\\,\\sigma\\,dZ_s\n",
    "$$\n",
    "\n",
    "(a) Derive an expression for the expected price path corresponding to a VWAP execution.\n",
    "\n",
    "(b) With the duration $T$ of the meta order set to 1, plot the expected price path from time $t=0$ to time $t=2$ for $\\rho=0.5,1,$ and $2$.\n",
    "\n",
    "(c) What is the expected average cost per share $\\bar S_T$ of a VWAP order in the OW model?"
   ]
  },
  {
   "cell_type": "markdown",
   "metadata": {
    "deletable": true,
    "editable": true
   },
   "source": [
    "#### Solution (a)\n",
    "For VWAP, we have $${\\dot x} = \\frac{x}{T}$$\n",
    "\n",
    "\n",
    "Plug it into the formula, we have:\n",
    "$$\n",
    "S_t=S_0+\\eta\\,\\int_0^t\\,{\\frac{x}{T}}_s\\,e^{-\\rho\\,(t-s)}\\,ds+\\int_0^t\\,\\sigma\\,dZ_s\n",
    "$$\n",
    "\n",
    "In the case of $0 \\leq t \\leq T$,we take expextation:\n",
    "$$\n",
    "\\E[S_t] = \\E[S_0\\ + \\E[\\eta \\frac{x}{T} \\int_0^t e^{-\\rho(t-s)}ds] = S_0 + \\frac{\\eta x}{\\rho T}(1-e^{-\\rho t})\n",
    "$$\n",
    "\n",
    "\n",
    "When $t > T$, \n",
    "$$\n",
    "\\E[S_t] = \\E[S_0\\ + \\E[\\eta \\frac{x}{T} \\int_0^T e^{-\\rho(t-s)}ds]  = S_0 + \\frac{\\eta x}{\\rho T}(e^{-\\rho (t-T)} - e^{-\\rho t})\n",
    "$$"
   ]
  },
  {
   "cell_type": "code",
   "execution_count": 25,
   "metadata": {
    "collapsed": false,
    "deletable": true,
    "editable": true
   },
   "outputs": [
    {
     "data": {
      "image/png": "[encoded data removed]",
      "text/plain": [
       "plot without title"
      ]
     },
     "metadata": {},
     "output_type": "display_data"
    }
   ],
   "source": [
    "# Solution (b)\n",
    "time = seq(0,2,0.1)\n",
    "rho = c(0.5,1,2)\n",
    "\n",
    "\n",
    "expectedprice = function(t,rho){\n",
    "    if(t < 1){\n",
    "    ep = (1-exp(-rho*t)) / rho;\n",
    "        }\n",
    "    else{\n",
    "        ep = (exp(-rho*(t-1)) - exp(-rho*t))/rho;\n",
    "    }\n",
    "    return (ep)\n",
    "}\n",
    "\n",
    "\n",
    "path1 = sapply(time, function(t)expectedprice(t, rho[1]))\n",
    "path2 = sapply(time, function(t)expectedprice(t, rho[2]))\n",
    "path3 = sapply(time, function(t)expectedprice(t, rho[3]))\n",
    "    \n",
    "plot(time,path1,xlab=\"t\",ylab=\"expected price path\", col=\"red\", type=\"l\")\n",
    "lines(time,path2,col=\"green\", type=\"l\")\n",
    "lines(time,path3,col=\"blue\", type=\"l\")\n",
    "legend(\"bottomright\",lty=c(1,1),col=c(\"red\",\"green\",\"blue\"),legend=c(\"rho = 0.5\",\"rho = 1\",\"rho = 2\"))\n"
   ]
  },
  {
   "cell_type": "markdown",
   "metadata": {
    "deletable": true,
    "editable": true
   },
   "source": [
    "#### Solution(c)\n",
    "\n",
    "Starting with the formula given from the lecture:\n",
    "\\begin{align}\n",
    "E[C_T(\\Pi)]&= \\int_0^T \\dot x_t dt \\int_0^t f(\\dot x_s) G(t-s)ds \\\\\n",
    "&=  \\int_0^T\\,{\\frac{x}{T}}\\,dt\\,\\int_0^t\\,\\frac{x}{T} e^{-\\rho\\,(t-s)}ds\\\\\n",
    "&= \\frac{\\eta\\,x^2}{\\rho\\,T} + \\frac{\\eta\\,x^2}{\\rho^2\\,T^2}\\,(e^{-\\rho\\,T}-1)\n",
    "\\end{align}\n",
    "\n",
    "Devide by $x$ we end up with\n",
    "$$\\bar C = \\frac{\\eta\\,x}{\\rho\\,T} + \\frac{\\eta\\,x}{\\rho^2\\,T^2}\\,(e^{-\\rho\\,T}-1)$$"
   ]
  }
 ],
 "metadata": {
  "kernelspec": {
   "display_name": "R",
   "language": "R",
   "name": "ir"
  },
  "language_info": {
   "codemirror_mode": "r",
   "file_extension": ".r",
   "mimetype": "text/x-r-source",
   "name": "R",
   "pygments_lexer": "r",
   "version": "3.3.2"
  }
 },
 "nbformat": 4,
 "nbformat_minor": 0
}
