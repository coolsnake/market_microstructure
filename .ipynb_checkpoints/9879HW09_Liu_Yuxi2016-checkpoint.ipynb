{
 "cells": [
  {
   "cell_type": "markdown",
   "metadata": {
    "deletable": true,
    "editable": true
   },
   "source": [
    "Yuxi Liu"
   ]
  },
  {
   "cell_type": "markdown",
   "metadata": {
    "deletable": true,
    "editable": true
   },
   "source": [
    "# MTH9879 Homework 9\n",
    "\n",
    "Assigned: April 12, 2016.\n",
    "Due: April 26, 2016 by 6pm. \n",
    "\n",
    "Late homework **will not be accepted**.\n",
    "\n",
    "$$\n",
    "\\newcommand{\\supp}{\\mathrm{supp}}\n",
    "\\newcommand{\\E}{\\mathbb{E}}\n",
    "\\newcommand{\\Eof}[1]{\\mathbb{E}\\left[ #1 \\right]}\n",
    "\\def\\Cov{{ \\mbox{Cov} }}\n",
    "\\def\\Var{{ \\mbox{Var} }}\n",
    "\\newcommand{\\1}{\\mathbf{1} }\n",
    "\\newcommand{\\PP}{\\mathbb{P} }\n",
    "%\\newcommand{\\Pr}{\\mathrm{Pr} }\n",
    "\\newcommand{\\QQ}{\\mathbb{Q} }\n",
    "\\newcommand{\\RR}{\\mathbb{R} }\n",
    "\\newcommand{\\DD}{\\mathbb{D} }\n",
    "\\newcommand{\\HH}{\\mathbb{H} }\n",
    "\\newcommand{\\spn}{\\mathrm{span} }\n",
    "\\newcommand{\\cov}{\\mathrm{cov} }\n",
    "\\newcommand{\\sgn}{\\mathrm{sgn} }\n",
    "\\newcommand{\\HS}{\\mathcal{L}_{\\mathrm{HS}} }\n",
    "%\\newcommand{\\HS}{\\mathrm{HS} }\n",
    "\\newcommand{\\trace}{\\mathrm{trace} }\n",
    "\\newcommand{\\LL}{\\mathcal{L} }\n",
    "%\\newcommand{\\LL}{\\mathrm{L} }\n",
    "\\newcommand{\\s}{\\mathcal{S} }\n",
    "\\newcommand{\\ee}{\\mathcal{E} }\n",
    "\\newcommand{\\ff}{\\mathcal{F} }\n",
    "\\newcommand{\\hh}{\\mathcal{H} }\n",
    "\\newcommand{\\bb}{\\mathcal{B} }\n",
    "\\newcommand{\\dd}{\\mathcal{D} }\n",
    "\\newcommand{\\g}{\\mathcal{G} }\n",
    "\\newcommand{\\p}{\\partial}\n",
    "\\newcommand{\\half}{\\frac{1}{2} }\n",
    "\\newcommand{\\T}{\\mathcal{T} }\n",
    "\\newcommand{\\bi}{\\begin{itemize}}\n",
    "\\newcommand{\\ei}{\\end{itemize}}\n",
    "\\newcommand{\\beq}{\\begin{equation}}\n",
    "\\newcommand{\\eeq}{\\end{equation}}\n",
    "\\newcommand{\\beas}{\\begin{eqnarray*}}\n",
    "\\newcommand{\\eeas}{\\end{eqnarray*}}\n",
    "\\newcommand{\\cO}{\\mathcal{O}}\n",
    "\\newcommand{\\cC}{\\mathcal{C}}\n",
    "\\newcommand{\\cF}{\\mathcal{F}}\n",
    "\\newcommand{\\cL}{\\mathcal{L}}\n",
    "\\newcommand{\\BS}{\\text{BS}}\n",
    "$$"
   ]
  },
  {
   "cell_type": "markdown",
   "metadata": {
    "deletable": true,
    "editable": true
   },
   "source": [
    "<font color = \"red\">Homework is to be done by each student individually.  To receive full credit, you must email a completed copy of this iPython notebook to Tai-Ho Wang (tai-ho.wang@baruch.cuny.edu) and Jim Gatheral (jim.gatheral@baruch.cuny.edu) by the due date and time.  All R-code must run correctly and solutions must be written up neatly in Markdown/LaTeX format.\n",
    "\n",
    "<font color=\"blue\">If you encounter problems with Markdown/LaTeX or iPython notebook, please contact Yuxi Liu, who has kindly offered to help.\n"
   ]
  },
  {
   "cell_type": "markdown",
   "metadata": {
    "deletable": true,
    "editable": true
   },
   "source": [
    "### 1. (18 points)\n",
    "Following Almgren and Chriss,  assume that the stock price $S_t$ evolves as\n",
    "\n",
    "$$\n",
    "dS_t = \\sigma\\,dZ_t\n",
    "$$\n",
    "\n",
    "and the price $\\tilde S_t$ at which we transact is given by\n",
    "\n",
    "$$\n",
    "\\tilde S_t = S_t - \\eta\\,v_t\n",
    "$$\n",
    "\n",
    "where $v_t:=-{\\dot x}_t$ is the rate of trading with $x_0 = X$ and $x_T = 0$.\n",
    "\n",
    "In the lecture notes, we showed that with a risk term that penalizes average VaR instead of variance, the risk-adjusted cost of trading associated with a given price path $\\{S_t\\}$ is given by\n",
    "\n",
    "$$\n",
    "C = \\int_0^T\\,(S_t - \\eta\\,v_t) \\,dx_t + \\lambda\\,\\sigma\\,\\int_0^T\\,x_t\\,dt\n",
    "$$\n",
    "\n",
    "for some price of risk $\\lambda$. We want to find a (possibly state-dependent) control $v_t$ that minimizes the expected cost $\\cC=\\E[C]$.\n",
    "\n",
    "(a) Apply the technique of integration by parts to simplify the term $\\int_0^T S_t dx_t$. Write down the HJB equation for the resulting problem.\n",
    "\n"
   ]
  },
  {
   "cell_type": "markdown",
   "metadata": {
    "deletable": true,
    "editable": true
   },
   "source": [
    "#### Solution\n",
    "$$\n",
    "\\int_0^T S_t dx_t = S_t x_t \\big|_0^T - \\int_0^T x_t dS_t = -S_0 X - \\int_0^T x_t dS_t\n",
    "$$\n",
    "\n",
    "$$\n",
    "\\min_{v \\in \\mathcal{G}} C = \\min_{v \\in \\mathcal{G}} \\mathbb{E}\\left[ -S_0X - \\int_0^T x_t dS_t - \\int_0^T \\eta v_t dx_t + \\lambda \\sigma \\int_0^T x_t dt \\right]\n",
    "$$\n",
    "$$\n",
    "= -S_0X + \\min_{v \\in \\mathcal{G}} \\mathbb{E}\\left[- \\eta \\int_0^T v_t dx_t + \\lambda \\sigma \\int_0^T x_t dt \\right]\n",
    "$$\n",
    "\n",
    "Define $ \\tilde{\\mathcal{C}}(t,x) = \\mathcal{C}(t,S,x) + S_0X $ and then,\n",
    "$$ \\tilde{\\mathcal{C}}(t,x) = \\min_{v_u \\in \\mathcal{G}} \\mathbb{E}\\left[ \\int_t^T \\eta v_u^2 du + \\lambda \\sigma \\int_t^T x_u du \\Bigm| x_t = x \\right] $$\n",
    "\n",
    "The HJB equation becomes\n",
    "$$ \\frac{\\partial \\tilde{\\mathcal{C}}}{\\partial t} + \\lambda \\sigma x_t + \\min_{v  \\in \\mathcal{G}} \\left\\{ -\\tilde{\\mathcal{C}}_x v + \\eta v^2  \\right\\} = 0 $$"
   ]
  },
  {
   "cell_type": "markdown",
   "metadata": {
    "deletable": true,
    "editable": true
   },
   "source": [
    "(b) Solve the first order condition to find the optimal trading rate $v^\\star$.    \n",
    "\n"
   ]
  },
  {
   "cell_type": "markdown",
   "metadata": {
    "deletable": true,
    "editable": true
   },
   "source": [
    "#### Solution\n",
    "$$\n",
    "v^ \\star= \\frac{1}{2\\,\\eta}\\,\\tilde{\\mathcal{C}}_x= \\frac{1}{2\\,\\eta}\\,(\\mathcal{C}_x+S_t)\n",
    "$$"
   ]
  },
  {
   "cell_type": "markdown",
   "metadata": {
    "deletable": true,
    "editable": true
   },
   "source": [
    "(c) Substitute $v^\\star$ back into the HJB equation to show that the value function $\\cC$ must satisfy\n",
    "\n",
    "$$\n",
    "\\cC_t = \\frac{\\cC_x^2}{4\\,\\eta\\,} - \\lambda \\sigma x.\n",
    "$$\n",
    "\n"
   ]
  },
  {
   "cell_type": "markdown",
   "metadata": {
    "deletable": true,
    "editable": true
   },
   "source": [
    "#### Solution\n",
    "Pluge in the $v^\\star$\n",
    "\n",
    "$$\n",
    "C_t = \\frac{C_x^2}{4 \\eta} - \\lambda \\sigma x\n",
    "$$"
   ]
  },
  {
   "cell_type": "markdown",
   "metadata": {
    "deletable": true,
    "editable": true
   },
   "source": [
    "(d) With the terminal condition, \n",
    "\n",
    "$$\\lim_{t\\uparrow T}\\cC(t,x) = \\begin{cases}0&\\text{if $x=0$,}\\\\\n",
    "+\\infty&\\text{if $x\\neq0$.}\n",
    "\\end{cases}$$\n",
    "\n",
    "solve the HJB equation with the ansatz $\\cC(t,x) = \\eta\\,\\left[a(t)\\,x^2 + b(t)\\,x + c(t)\\right]$. Verify that the optimal trading rate is given by\n",
    "\n",
    "$$\n",
    "v^\\star = \\frac{x}{T-t} - \\frac{1}{4}\\, \\kappa \\, (T-t)\n",
    "$$\n",
    "\n",
    "with \n",
    "\n",
    "$$\n",
    "\\kappa = \\frac{\\lambda\\,\\sigma}{\\eta}.\n",
    "$$\n",
    "\n"
   ]
  },
  {
   "cell_type": "markdown",
   "metadata": {
    "deletable": true,
    "editable": true
   },
   "source": [
    "#### solution\n",
    "Since $C(t,x) = a(t)x^2 + b(t)x + c(t)$\n",
    "\n",
    "$$\n",
    "a' \\,x^2 + b'\\,x + c' - \\frac{(2ax + b)^2}{4\\eta} + \\lambda\\sigma x = 0\n",
    "$$\n",
    "\n",
    "compare the coefficient\n",
    "\\begin{eqnarray*}\n",
    "x^2 &:& a' - \\frac{a^2}{\\eta} = 0, \\\\\n",
    "x &:& b' - \\frac{ab}{\\eta} + \\lambda\\sigma = 0, \\\\\n",
    "1 &:& c' - \\frac{b^2}{4\\eta} = 0.\n",
    "\\end{eqnarray*}\n",
    "\n",
    "So that:\n",
    "\\begin{eqnarray*}\n",
    "&& a(t) = \\frac{\\eta}{T-t}, \\\\\n",
    "&& b(t) = \\frac{\\lambda \\sigma}{2} (T-t), \\\\\n",
    "&& c(t) = \\frac{\\lambda^2 \\sigma^2}{48\\eta} (t-T)^3.\n",
    "\\end{eqnarray*}\n",
    "\n",
    "Using the boundary condition, we obtain the solution to the system of ODEs as\n",
    "\\begin{eqnarray*}\n",
    "&& a(t) = \\frac{\\eta}{T-t}, \\\\\n",
    "&& b(t) = \\frac{\\lambda \\sigma}{2} (T-t), \\\\\n",
    "&& c(t) = \\frac{\\lambda^2 \\sigma^2}{48\\eta} (t-T)^3.\n",
    "\\end{eqnarray*}\n",
    "\n",
    "$$\n",
    "v^\\star = \\frac{C_x}{2\\eta} = \\frac{2ax + b}{2\\eta}\n",
    "$$\n",
    "\n",
    "Pluge in the result:\n",
    "$$\n",
    "v^\\star = \\frac{x}{T-t} - \\frac{1}{4}\\, \\kappa \\, (T-t)\n",
    "$$"
   ]
  },
  {
   "cell_type": "markdown",
   "metadata": {
    "deletable": true,
    "editable": true
   },
   "source": [
    "(e) Define the characteristic time $T^\\star$ as\n",
    "\n",
    "$$\n",
    "T^\\star=\\sqrt{\\frac{4\\,X}{\\kappa}}=\\sqrt{\\frac{4\\,\\eta\\,X}{\\lambda\\,\\sigma}}.\n",
    "$$\n",
    "\n",
    "\n",
    "Verify that the optimal trading strategy with liquidation horizon $T$ set to the characteristic time $T^\\star$ is given by\n",
    "\n",
    "$$\n",
    "\\begin{eqnarray*}\n",
    "x_t&=&X\\,\\left(1-\\frac{t}{T}\\right)^2.\n",
    "\\end{eqnarray*}\n",
    "$$\n"
   ]
  },
  {
   "cell_type": "markdown",
   "metadata": {
    "deletable": true,
    "editable": true
   },
   "source": [
    "#### solution\n",
    "from (d)\n",
    "$$\n",
    "v^\\star = \\frac{x}{T-t} - \\frac{1}{4}\\, \\kappa \\, (T-t)\n",
    "$$\n",
    "which means\n",
    "$$\n",
    "\\frac{dx}{dt} = \\frac{x}{T-t} - \\frac{1}{4}\\, \\kappa \\, (T-t)\n",
    "$$\n",
    "\n",
    "solve this ODE, we can get\n",
    "$$\n",
    "x = c_1 (t-T) + \\frac{\\lambda \\sigma t(t-T)}{4 \\eta}\n",
    "$$\n",
    "$x(0) = X$ so that\n",
    "$$c_1 = \\frac{X}{-T}$$\n",
    "\n",
    "The solution is \n",
    "$$\n",
    "x(t) = \\frac{X}{-T}(t-T) + \\frac{xt}{(T^\\star)^2} (t-T) = \\left( \\frac{X}{T} - \\frac{XT}{(T^\\star)^2}t\\right)\\left(1-\\frac{t}{T}\\right)\n",
    "$$\n",
    "\n",
    "so that\n",
    "$$\n",
    "x_t = X\\,\\left(1-\\frac{t}{T}\\right)^2\n",
    "$$"
   ]
  },
  {
   "cell_type": "markdown",
   "metadata": {
    "deletable": true,
    "editable": true
   },
   "source": [
    "## ABM and GBM"
   ]
  },
  {
   "cell_type": "markdown",
   "metadata": {
    "deletable": true,
    "editable": true
   },
   "source": [
    "### Download MSFT data"
   ]
  },
  {
   "cell_type": "code",
   "execution_count": 7,
   "metadata": {
    "collapsed": false,
    "deletable": true,
    "editable": true
   },
   "outputs": [],
   "source": [
    "library(highfrequency)\n",
    "download.file(url=\"http://mfe.baruch.cuny.edu/wp-content/uploads/2015/03/MSFT130311.rData_.zip\", destfile=\"MSFT130311.zip\")\n",
    "unzip(zipfile=\"MSFT130311.zip\")\n",
    "load(\"MSFT130311.rData\")"
   ]
  },
  {
   "cell_type": "markdown",
   "metadata": {
    "deletable": true,
    "editable": true
   },
   "source": [
    "### 2. (8 points)\n",
    "\n",
    "Recall from the lecture slides that with time-averaged VaR as the risk penalty, and when the liquidation time $T$ is chosen to be the characteristic time, the optimal trading rate under ABM becomes\n",
    "\n",
    "$$\n",
    "v^A(t)= \\frac{x_t}{T-t}\\,+\\frac{X}{T}\\,\\left(1-\\frac t T\\right)\n",
    "$$\n",
    "\n",
    "and the optimal trading rate under GBM becomes\n",
    "\n",
    "$$\n",
    "v^G(t)= \\frac{x_t}{T-t}\\,+\\frac{X}{T}\\,\\frac{S_t}{S_0}\\,\\left(1-\\frac t T\\right).\n",
    "$$\n",
    "\n",
    "(a) The *msft.bats* dataset from *MSFT130311.rData* contains all trades on the BATS exchange on 11-Mar-2013.  One trading days has 390 minutes.  Sample the  *msft.bats* dataset evenly, roughly every minute of volume time.  Superimpose plots of the optimal strategy under ABM and GBM assuming liquidation takes place over one trading day.\n",
    "\n",
    "\n"
   ]
  },
  {
   "cell_type": "code",
   "execution_count": 8,
   "metadata": {
    "collapsed": false,
    "deletable": true,
    "editable": true
   },
   "outputs": [
    {
     "name": "stderr",
     "output_type": "stream",
     "text": [
      "Warning message:\n",
      "In plot.xy(xy.coords(x, y), type = type, ...): \"add\" is not a graphical parameter"
     ]
    },
    {
     "data": {
      "image/png": "[encoded data removed]",
      "image/svg+xml": [
       "<?xml version=\"1.0\" encoding=\"UTF-8\"?>\n",
       "<svg xmlns=\"http://www.w3.org/2000/svg\" xmlns:xlink=\"http://www.w3.org/1999/xlink\" width=\"504pt\" height=\"504pt\" viewBox=\"0 0 504 504\" version=\"1.1\">\n",
       "<defs>\n",
       "<g>\n",
       "<symbol overflow=\"visible\" id=\"glyph0-0\">\n",
       "<path style=\"stroke:none;\" d=\"M 0.390625 0 L 0.390625 -8.609375 L 7.21875 -8.609375 L 7.21875 0 Z M 6.140625 -1.078125 L 6.140625 -7.53125 L 1.46875 -7.53125 L 1.46875 -1.078125 Z M 6.140625 -1.078125 \"/>\n",
       "</symbol>\n",
       "<symbol overflow=\"visible\" id=\"glyph0-1\">\n",
       "<path style=\"stroke:none;\" d=\"M 3.25 -8.390625 C 4.332031 -8.390625 5.117188 -7.941406 5.609375 -7.046875 C 5.984375 -6.359375 6.171875 -5.410156 6.171875 -4.203125 C 6.171875 -3.066406 6 -2.125 5.65625 -1.375 C 5.164062 -0.300781 4.359375 0.234375 3.234375 0.234375 C 2.234375 0.234375 1.484375 -0.203125 0.984375 -1.078125 C 0.578125 -1.816406 0.375 -2.800781 0.375 -4.03125 C 0.375 -4.976562 0.5 -5.796875 0.75 -6.484375 C 1.207031 -7.753906 2.039062 -8.390625 3.25 -8.390625 Z M 3.234375 -0.734375 C 3.785156 -0.734375 4.222656 -0.972656 4.546875 -1.453125 C 4.867188 -1.941406 5.03125 -2.847656 5.03125 -4.171875 C 5.03125 -5.117188 4.910156 -5.898438 4.671875 -6.515625 C 4.441406 -7.128906 3.988281 -7.4375 3.3125 -7.4375 C 2.6875 -7.4375 2.226562 -7.144531 1.9375 -6.5625 C 1.65625 -5.976562 1.515625 -5.117188 1.515625 -3.984375 C 1.515625 -3.128906 1.609375 -2.441406 1.796875 -1.921875 C 2.078125 -1.128906 2.554688 -0.734375 3.234375 -0.734375 Z M 3.234375 -0.734375 \"/>\n",
       "</symbol>\n",
       "<symbol overflow=\"visible\" id=\"glyph0-2\">\n",
       "<path style=\"stroke:none;\" d=\"M 1.15625 -5.9375 L 1.15625 -6.75 C 1.914062 -6.820312 2.441406 -6.945312 2.734375 -7.125 C 3.035156 -7.300781 3.265625 -7.710938 3.421875 -8.359375 L 4.25 -8.359375 L 4.25 0 L 3.125 0 L 3.125 -5.9375 Z M 1.15625 -5.9375 \"/>\n",
       "</symbol>\n",
       "<symbol overflow=\"visible\" id=\"glyph0-3\">\n",
       "<path style=\"stroke:none;\" d=\"M 0.375 0 C 0.414062 -0.71875 0.566406 -1.34375 0.828125 -1.875 C 1.085938 -2.414062 1.59375 -2.90625 2.34375 -3.34375 L 3.46875 -4 C 3.96875 -4.289062 4.320312 -4.539062 4.53125 -4.75 C 4.851562 -5.070312 5.015625 -5.441406 5.015625 -5.859375 C 5.015625 -6.347656 4.863281 -6.734375 4.5625 -7.015625 C 4.269531 -7.304688 3.882812 -7.453125 3.40625 -7.453125 C 2.675781 -7.453125 2.175781 -7.179688 1.90625 -6.640625 C 1.75 -6.335938 1.664062 -5.929688 1.65625 -5.421875 L 0.578125 -5.421875 C 0.585938 -6.148438 0.722656 -6.742188 0.984375 -7.203125 C 1.441406 -8.015625 2.25 -8.421875 3.40625 -8.421875 C 4.363281 -8.421875 5.0625 -8.160156 5.5 -7.640625 C 5.945312 -7.117188 6.171875 -6.539062 6.171875 -5.90625 C 6.171875 -5.238281 5.9375 -4.664062 5.46875 -4.1875 C 5.195312 -3.90625 4.707031 -3.566406 4 -3.171875 L 3.1875 -2.734375 C 2.8125 -2.523438 2.515625 -2.320312 2.296875 -2.125 C 1.898438 -1.789062 1.648438 -1.414062 1.546875 -1 L 6.140625 -1 L 6.140625 0 Z M 0.375 0 \"/>\n",
       "</symbol>\n",
       "<symbol overflow=\"visible\" id=\"glyph0-4\">\n",
       "<path style=\"stroke:none;\" d=\"M 3.125 0.234375 C 2.125 0.234375 1.398438 -0.0351562 0.953125 -0.578125 C 0.503906 -1.128906 0.28125 -1.796875 0.28125 -2.578125 L 1.390625 -2.578125 C 1.429688 -2.035156 1.53125 -1.640625 1.6875 -1.390625 C 1.96875 -0.953125 2.460938 -0.734375 3.171875 -0.734375 C 3.734375 -0.734375 4.179688 -0.878906 4.515625 -1.171875 C 4.847656 -1.472656 5.015625 -1.859375 5.015625 -2.328125 C 5.015625 -2.898438 4.835938 -3.300781 4.484375 -3.53125 C 4.128906 -3.769531 3.640625 -3.890625 3.015625 -3.890625 C 2.941406 -3.890625 2.867188 -3.882812 2.796875 -3.875 C 2.722656 -3.875 2.648438 -3.875 2.578125 -3.875 L 2.578125 -4.8125 C 2.691406 -4.789062 2.785156 -4.78125 2.859375 -4.78125 C 2.929688 -4.78125 3.007812 -4.78125 3.09375 -4.78125 C 3.488281 -4.78125 3.8125 -4.84375 4.0625 -4.96875 C 4.507812 -5.1875 4.734375 -5.578125 4.734375 -6.140625 C 4.734375 -6.554688 4.582031 -6.875 4.28125 -7.09375 C 3.988281 -7.320312 3.644531 -7.4375 3.25 -7.4375 C 2.550781 -7.4375 2.066406 -7.203125 1.796875 -6.734375 C 1.648438 -6.484375 1.566406 -6.117188 1.546875 -5.640625 L 0.5 -5.640625 C 0.5 -6.265625 0.625 -6.796875 0.875 -7.234375 C 1.300781 -8.015625 2.054688 -8.40625 3.140625 -8.40625 C 3.992188 -8.40625 4.65625 -8.210938 5.125 -7.828125 C 5.59375 -7.453125 5.828125 -6.898438 5.828125 -6.171875 C 5.828125 -5.660156 5.691406 -5.242188 5.421875 -4.921875 C 5.242188 -4.722656 5.019531 -4.566406 4.75 -4.453125 C 5.1875 -4.328125 5.53125 -4.09375 5.78125 -3.75 C 6.03125 -3.40625 6.15625 -2.984375 6.15625 -2.484375 C 6.15625 -1.679688 5.890625 -1.023438 5.359375 -0.515625 C 4.835938 -0.015625 4.09375 0.234375 3.125 0.234375 Z M 3.125 0.234375 \"/>\n",
       "</symbol>\n",
       "<symbol overflow=\"visible\" id=\"glyph0-5\">\n",
       "<path style=\"stroke:none;\" d=\"M 3.96875 -2.96875 L 3.96875 -6.78125 L 1.28125 -2.96875 Z M 3.984375 0 L 3.984375 -2.046875 L 0.3125 -2.046875 L 0.3125 -3.078125 L 4.15625 -8.421875 L 5.046875 -8.421875 L 5.046875 -2.96875 L 6.28125 -2.96875 L 6.28125 -2.046875 L 5.046875 -2.046875 L 5.046875 0 Z M 3.984375 0 \"/>\n",
       "</symbol>\n",
       "<symbol overflow=\"visible\" id=\"glyph0-6\">\n",
       "<path style=\"stroke:none;\" d=\"M 1.59375 -8.609375 L 4.0625 -1.28125 L 6.515625 -8.609375 L 7.8125 -8.609375 L 4.671875 0 L 3.4375 0 L 0.3125 -8.609375 Z M 1.59375 -8.609375 \"/>\n",
       "</symbol>\n",
       "<symbol overflow=\"visible\" id=\"glyph0-7\">\n",
       "<path style=\"stroke:none;\" d=\"M 3.265625 -0.6875 C 3.960938 -0.6875 4.441406 -0.945312 4.703125 -1.46875 C 4.960938 -2 5.09375 -2.585938 5.09375 -3.234375 C 5.09375 -3.828125 5 -4.304688 4.8125 -4.671875 C 4.507812 -5.242188 4 -5.53125 3.28125 -5.53125 C 2.632812 -5.53125 2.164062 -5.285156 1.875 -4.796875 C 1.582031 -4.304688 1.4375 -3.710938 1.4375 -3.015625 C 1.4375 -2.347656 1.582031 -1.789062 1.875 -1.34375 C 2.164062 -0.90625 2.628906 -0.6875 3.265625 -0.6875 Z M 3.3125 -6.453125 C 4.113281 -6.453125 4.789062 -6.179688 5.34375 -5.640625 C 5.90625 -5.109375 6.1875 -4.316406 6.1875 -3.265625 C 6.1875 -2.253906 5.941406 -1.414062 5.453125 -0.75 C 4.960938 -0.09375 4.203125 0.234375 3.171875 0.234375 C 2.304688 0.234375 1.617188 -0.0546875 1.109375 -0.640625 C 0.597656 -1.234375 0.34375 -2.019531 0.34375 -3 C 0.34375 -4.050781 0.609375 -4.890625 1.140625 -5.515625 C 1.679688 -6.140625 2.40625 -6.453125 3.3125 -6.453125 Z M 3.265625 -6.421875 Z M 3.265625 -6.421875 \"/>\n",
       "</symbol>\n",
       "<symbol overflow=\"visible\" id=\"glyph0-8\">\n",
       "<path style=\"stroke:none;\" d=\"M 0.796875 -8.609375 L 1.859375 -8.609375 L 1.859375 0 L 0.796875 0 Z M 0.796875 -8.609375 \"/>\n",
       "</symbol>\n",
       "<symbol overflow=\"visible\" id=\"glyph0-9\">\n",
       "<path style=\"stroke:none;\" d=\"M 1.828125 -6.28125 L 1.828125 -2.109375 C 1.828125 -1.785156 1.878906 -1.523438 1.984375 -1.328125 C 2.171875 -0.953125 2.519531 -0.765625 3.03125 -0.765625 C 3.757812 -0.765625 4.257812 -1.09375 4.53125 -1.75 C 4.675781 -2.101562 4.75 -2.582031 4.75 -3.1875 L 4.75 -6.28125 L 5.796875 -6.28125 L 5.796875 0 L 4.8125 0 L 4.8125 -0.921875 C 4.675781 -0.679688 4.507812 -0.484375 4.3125 -0.328125 C 3.90625 0.00390625 3.414062 0.171875 2.84375 0.171875 C 1.945312 0.171875 1.335938 -0.128906 1.015625 -0.734375 C 0.835938 -1.046875 0.75 -1.472656 0.75 -2.015625 L 0.75 -6.28125 Z M 3.28125 -6.421875 Z M 3.28125 -6.421875 \"/>\n",
       "</symbol>\n",
       "<symbol overflow=\"visible\" id=\"glyph0-10\">\n",
       "<path style=\"stroke:none;\" d=\"M 0.78125 -6.28125 L 1.8125 -6.28125 L 1.8125 -5.390625 C 2.0625 -5.691406 2.289062 -5.914062 2.5 -6.0625 C 2.84375 -6.300781 3.238281 -6.421875 3.6875 -6.421875 C 4.1875 -6.421875 4.585938 -6.296875 4.890625 -6.046875 C 5.054688 -5.910156 5.210938 -5.703125 5.359375 -5.421875 C 5.585938 -5.765625 5.859375 -6.015625 6.171875 -6.171875 C 6.492188 -6.335938 6.851562 -6.421875 7.25 -6.421875 C 8.09375 -6.421875 8.664062 -6.113281 8.96875 -5.5 C 9.132812 -5.175781 9.21875 -4.734375 9.21875 -4.171875 L 9.21875 0 L 8.125 0 L 8.125 -4.359375 C 8.125 -4.773438 8.019531 -5.0625 7.8125 -5.21875 C 7.601562 -5.375 7.347656 -5.453125 7.046875 -5.453125 C 6.628906 -5.453125 6.269531 -5.3125 5.96875 -5.03125 C 5.675781 -4.757812 5.53125 -4.300781 5.53125 -3.65625 L 5.53125 0 L 4.453125 0 L 4.453125 -4.09375 C 4.453125 -4.519531 4.398438 -4.832031 4.296875 -5.03125 C 4.140625 -5.320312 3.84375 -5.46875 3.40625 -5.46875 C 3.007812 -5.46875 2.644531 -5.3125 2.3125 -5 C 1.988281 -4.695312 1.828125 -4.140625 1.828125 -3.328125 L 1.828125 0 L 0.78125 0 Z M 0.78125 -6.28125 \"/>\n",
       "</symbol>\n",
       "<symbol overflow=\"visible\" id=\"glyph0-11\">\n",
       "<path style=\"stroke:none;\" d=\"M 3.390625 -6.421875 C 3.835938 -6.421875 4.269531 -6.316406 4.6875 -6.109375 C 5.101562 -5.898438 5.421875 -5.628906 5.640625 -5.296875 C 5.847656 -4.972656 5.988281 -4.601562 6.0625 -4.1875 C 6.125 -3.894531 6.15625 -3.429688 6.15625 -2.796875 L 1.546875 -2.796875 C 1.566406 -2.160156 1.71875 -1.648438 2 -1.265625 C 2.28125 -0.878906 2.71875 -0.6875 3.3125 -0.6875 C 3.863281 -0.6875 4.300781 -0.867188 4.625 -1.234375 C 4.8125 -1.441406 4.945312 -1.6875 5.03125 -1.96875 L 6.0625 -1.96875 C 6.039062 -1.738281 5.953125 -1.484375 5.796875 -1.203125 C 5.640625 -0.921875 5.46875 -0.6875 5.28125 -0.5 C 4.957031 -0.1875 4.554688 0.0195312 4.078125 0.125 C 3.828125 0.1875 3.539062 0.21875 3.21875 0.21875 C 2.4375 0.21875 1.773438 -0.0625 1.234375 -0.625 C 0.691406 -1.195312 0.421875 -1.992188 0.421875 -3.015625 C 0.421875 -4.023438 0.691406 -4.84375 1.234375 -5.46875 C 1.785156 -6.101562 2.503906 -6.421875 3.390625 -6.421875 Z M 5.0625 -3.640625 C 5.019531 -4.097656 4.921875 -4.460938 4.765625 -4.734375 C 4.484375 -5.242188 4.003906 -5.5 3.328125 -5.5 C 2.835938 -5.5 2.425781 -5.320312 2.09375 -4.96875 C 1.769531 -4.625 1.597656 -4.179688 1.578125 -3.640625 Z M 3.28125 -6.421875 Z M 3.28125 -6.421875 \"/>\n",
       "</symbol>\n",
       "<symbol overflow=\"visible\" id=\"glyph0-12\">\n",
       "<path style=\"stroke:none;\" d=\"\"/>\n",
       "</symbol>\n",
       "<symbol overflow=\"visible\" id=\"glyph0-13\">\n",
       "<path style=\"stroke:none;\" d=\"M 7.171875 -8.609375 L 7.171875 -7.578125 L 4.28125 -7.578125 L 4.28125 0 L 3.09375 0 L 3.09375 -7.578125 L 0.1875 -7.578125 L 0.1875 -8.609375 Z M 7.171875 -8.609375 \"/>\n",
       "</symbol>\n",
       "<symbol overflow=\"visible\" id=\"glyph0-14\">\n",
       "<path style=\"stroke:none;\" d=\"M 0.78125 -6.25 L 1.84375 -6.25 L 1.84375 0 L 0.78125 0 Z M 0.78125 -8.609375 L 1.84375 -8.609375 L 1.84375 -7.40625 L 0.78125 -7.40625 Z M 0.78125 -8.609375 \"/>\n",
       "</symbol>\n",
       "<symbol overflow=\"visible\" id=\"glyph0-15\">\n",
       "<path style=\"stroke:none;\" d=\"M 3.546875 -8.75 C 2.929688 -7.5625 2.535156 -6.6875 2.359375 -6.125 C 2.078125 -5.257812 1.9375 -4.269531 1.9375 -3.15625 C 1.9375 -2.019531 2.097656 -0.984375 2.421875 -0.046875 C 2.609375 0.535156 2.988281 1.367188 3.5625 2.453125 L 2.859375 2.453125 C 2.285156 1.554688 1.929688 0.984375 1.796875 0.734375 C 1.660156 0.492188 1.515625 0.160156 1.359375 -0.265625 C 1.140625 -0.835938 0.984375 -1.453125 0.890625 -2.109375 C 0.847656 -2.453125 0.828125 -2.773438 0.828125 -3.078125 C 0.828125 -4.234375 1.007812 -5.265625 1.375 -6.171875 C 1.601562 -6.742188 2.082031 -7.601562 2.8125 -8.75 Z M 3.546875 -8.75 \"/>\n",
       "</symbol>\n",
       "<symbol overflow=\"visible\" id=\"glyph0-16\">\n",
       "<path style=\"stroke:none;\" d=\"M 0.78125 -6.28125 L 1.78125 -6.28125 L 1.78125 -5.390625 C 2.070312 -5.753906 2.382812 -6.015625 2.71875 -6.171875 C 3.050781 -6.335938 3.421875 -6.421875 3.828125 -6.421875 C 4.710938 -6.421875 5.3125 -6.109375 5.625 -5.484375 C 5.800781 -5.140625 5.890625 -4.65625 5.890625 -4.03125 L 5.890625 0 L 4.8125 0 L 4.8125 -3.953125 C 4.8125 -4.335938 4.753906 -4.644531 4.640625 -4.875 C 4.453125 -5.269531 4.113281 -5.46875 3.625 -5.46875 C 3.375 -5.46875 3.171875 -5.441406 3.015625 -5.390625 C 2.722656 -5.304688 2.46875 -5.132812 2.25 -4.875 C 2.070312 -4.664062 1.957031 -4.453125 1.90625 -4.234375 C 1.851562 -4.015625 1.828125 -3.695312 1.828125 -3.28125 L 1.828125 0 L 0.78125 0 Z M 3.25 -6.421875 Z M 3.25 -6.421875 \"/>\n",
       "</symbol>\n",
       "<symbol overflow=\"visible\" id=\"glyph0-17\">\n",
       "<path style=\"stroke:none;\" d=\"M 0.984375 -8.03125 L 2.046875 -8.03125 L 2.046875 -6.28125 L 3.046875 -6.28125 L 3.046875 -5.421875 L 2.046875 -5.421875 L 2.046875 -1.3125 C 2.046875 -1.09375 2.125 -0.945312 2.28125 -0.875 C 2.351562 -0.832031 2.488281 -0.8125 2.6875 -0.8125 C 2.738281 -0.8125 2.789062 -0.8125 2.84375 -0.8125 C 2.90625 -0.820312 2.972656 -0.828125 3.046875 -0.828125 L 3.046875 0 C 2.929688 0.03125 2.804688 0.0507812 2.671875 0.0625 C 2.546875 0.0820312 2.40625 0.09375 2.25 0.09375 C 1.757812 0.09375 1.425781 -0.03125 1.25 -0.28125 C 1.070312 -0.53125 0.984375 -0.859375 0.984375 -1.265625 L 0.984375 -5.421875 L 0.140625 -5.421875 L 0.140625 -6.28125 L 0.984375 -6.28125 Z M 0.984375 -8.03125 \"/>\n",
       "</symbol>\n",
       "<symbol overflow=\"visible\" id=\"glyph0-18\">\n",
       "<path style=\"stroke:none;\" d=\"M 1.40625 -1.96875 C 1.4375 -1.613281 1.523438 -1.34375 1.671875 -1.15625 C 1.929688 -0.820312 2.390625 -0.65625 3.046875 -0.65625 C 3.441406 -0.65625 3.785156 -0.738281 4.078125 -0.90625 C 4.378906 -1.070312 4.53125 -1.332031 4.53125 -1.6875 C 4.53125 -1.957031 4.410156 -2.164062 4.171875 -2.3125 C 4.015625 -2.394531 3.710938 -2.492188 3.265625 -2.609375 L 2.421875 -2.8125 C 1.890625 -2.945312 1.5 -3.097656 1.25 -3.265625 C 0.789062 -3.546875 0.5625 -3.941406 0.5625 -4.453125 C 0.5625 -5.046875 0.773438 -5.523438 1.203125 -5.890625 C 1.628906 -6.253906 2.207031 -6.4375 2.9375 -6.4375 C 3.875 -6.4375 4.550781 -6.160156 4.96875 -5.609375 C 5.238281 -5.253906 5.367188 -4.875 5.359375 -4.46875 L 4.359375 -4.46875 C 4.335938 -4.707031 4.253906 -4.925781 4.109375 -5.125 C 3.867188 -5.394531 3.445312 -5.53125 2.84375 -5.53125 C 2.445312 -5.53125 2.144531 -5.453125 1.9375 -5.296875 C 1.738281 -5.148438 1.640625 -4.953125 1.640625 -4.703125 C 1.640625 -4.429688 1.773438 -4.210938 2.046875 -4.046875 C 2.203125 -3.953125 2.429688 -3.867188 2.734375 -3.796875 L 3.421875 -3.625 C 4.179688 -3.4375 4.691406 -3.257812 4.953125 -3.09375 C 5.359375 -2.820312 5.5625 -2.394531 5.5625 -1.8125 C 5.5625 -1.257812 5.347656 -0.78125 4.921875 -0.375 C 4.503906 0.03125 3.863281 0.234375 3 0.234375 C 2.0625 0.234375 1.394531 0.0234375 1 -0.390625 C 0.613281 -0.816406 0.410156 -1.34375 0.390625 -1.96875 Z M 2.953125 -6.421875 Z M 2.953125 -6.421875 \"/>\n",
       "</symbol>\n",
       "<symbol overflow=\"visible\" id=\"glyph0-19\">\n",
       "<path style=\"stroke:none;\" d=\"M 0.421875 2.453125 C 1.035156 1.242188 1.4375 0.359375 1.625 -0.203125 C 1.894531 -1.035156 2.03125 -2.019531 2.03125 -3.15625 C 2.03125 -4.28125 1.867188 -5.3125 1.546875 -6.25 C 1.359375 -6.832031 0.976562 -7.664062 0.40625 -8.75 L 1.109375 -8.75 C 1.710938 -7.789062 2.078125 -7.195312 2.203125 -6.96875 C 2.328125 -6.75 2.460938 -6.441406 2.609375 -6.046875 C 2.796875 -5.554688 2.929688 -5.070312 3.015625 -4.59375 C 3.097656 -4.113281 3.140625 -3.65625 3.140625 -3.21875 C 3.140625 -2.0625 2.953125 -1.03125 2.578125 -0.125 C 2.347656 0.457031 1.875 1.316406 1.15625 2.453125 Z M 0.421875 2.453125 \"/>\n",
       "</symbol>\n",
       "<symbol overflow=\"visible\" id=\"glyph0-20\">\n",
       "<path style=\"stroke:none;\" d=\"M 5.328125 -3.53125 L 4.03125 -7.328125 L 2.640625 -3.53125 Z M 3.421875 -8.609375 L 4.734375 -8.609375 L 7.859375 0 L 6.578125 0 L 5.703125 -2.578125 L 2.296875 -2.578125 L 1.375 0 L 0.171875 0 Z M 4.015625 -8.609375 Z M 4.015625 -8.609375 \"/>\n",
       "</symbol>\n",
       "<symbol overflow=\"visible\" id=\"glyph0-21\">\n",
       "<path style=\"stroke:none;\" d=\"M 4.15625 -4.96875 C 4.644531 -4.96875 5.023438 -5.035156 5.296875 -5.171875 C 5.722656 -5.390625 5.9375 -5.773438 5.9375 -6.328125 C 5.9375 -6.890625 5.707031 -7.269531 5.25 -7.46875 C 5 -7.582031 4.617188 -7.640625 4.109375 -7.640625 L 2.03125 -7.640625 L 2.03125 -4.96875 Z M 4.546875 -1 C 5.253906 -1 5.765625 -1.207031 6.078125 -1.625 C 6.265625 -1.882812 6.359375 -2.195312 6.359375 -2.5625 C 6.359375 -3.1875 6.078125 -3.613281 5.515625 -3.84375 C 5.222656 -3.96875 4.832031 -4.03125 4.34375 -4.03125 L 2.03125 -4.03125 L 2.03125 -1 Z M 0.890625 -8.609375 L 4.578125 -8.609375 C 5.585938 -8.609375 6.304688 -8.304688 6.734375 -7.703125 C 6.984375 -7.347656 7.109375 -6.9375 7.109375 -6.46875 C 7.109375 -5.925781 6.953125 -5.484375 6.640625 -5.140625 C 6.484375 -4.953125 6.253906 -4.785156 5.953125 -4.640625 C 6.390625 -4.472656 6.71875 -4.28125 6.9375 -4.0625 C 7.332031 -3.6875 7.53125 -3.171875 7.53125 -2.515625 C 7.53125 -1.960938 7.351562 -1.460938 7 -1.015625 C 6.476562 -0.335938 5.65625 0 4.53125 0 L 0.890625 0 Z M 0.890625 -8.609375 \"/>\n",
       "</symbol>\n",
       "<symbol overflow=\"visible\" id=\"glyph0-22\">\n",
       "<path style=\"stroke:none;\" d=\"M 0.890625 -8.609375 L 2.5625 -8.609375 L 5.03125 -1.328125 L 7.484375 -8.609375 L 9.140625 -8.609375 L 9.140625 0 L 8.03125 0 L 8.03125 -5.078125 C 8.03125 -5.253906 8.03125 -5.546875 8.03125 -5.953125 C 8.039062 -6.359375 8.046875 -6.796875 8.046875 -7.265625 L 5.59375 0 L 4.4375 0 L 1.96875 -7.265625 L 1.96875 -7 C 1.96875 -6.789062 1.972656 -6.46875 1.984375 -6.03125 C 1.992188 -5.601562 2 -5.285156 2 -5.078125 L 2 0 L 0.890625 0 Z M 0.890625 -8.609375 \"/>\n",
       "</symbol>\n",
       "<symbol overflow=\"visible\" id=\"glyph0-23\">\n",
       "<path style=\"stroke:none;\" d=\"M 4.640625 -8.828125 C 5.441406 -8.828125 6.140625 -8.671875 6.734375 -8.359375 C 7.585938 -7.910156 8.109375 -7.125 8.296875 -6 L 7.15625 -6 C 7.007812 -6.625 6.710938 -7.082031 6.265625 -7.375 C 5.828125 -7.664062 5.273438 -7.8125 4.609375 -7.8125 C 3.804688 -7.8125 3.132812 -7.507812 2.59375 -6.90625 C 2.050781 -6.3125 1.78125 -5.421875 1.78125 -4.234375 C 1.78125 -3.210938 2.003906 -2.378906 2.453125 -1.734375 C 2.898438 -1.097656 3.628906 -0.78125 4.640625 -0.78125 C 5.421875 -0.78125 6.066406 -1.003906 6.578125 -1.453125 C 7.085938 -1.898438 7.347656 -2.628906 7.359375 -3.640625 L 4.671875 -3.640625 L 4.671875 -4.609375 L 8.4375 -4.609375 L 8.4375 0 L 7.6875 0 L 7.40625 -1.109375 C 7.019531 -0.671875 6.671875 -0.367188 6.359375 -0.203125 C 5.847656 0.0859375 5.195312 0.234375 4.40625 0.234375 C 3.394531 0.234375 2.519531 -0.0976562 1.78125 -0.765625 C 0.976562 -1.585938 0.578125 -2.722656 0.578125 -4.171875 C 0.578125 -5.609375 0.96875 -6.753906 1.75 -7.609375 C 2.488281 -8.421875 3.453125 -8.828125 4.640625 -8.828125 Z M 4.4375 -8.84375 Z M 4.4375 -8.84375 \"/>\n",
       "</symbol>\n",
       "<symbol overflow=\"visible\" id=\"glyph1-0\">\n",
       "<path style=\"stroke:none;\" d=\"M 0 -0.390625 L -8.609375 -0.390625 L -8.609375 -7.21875 L 0 -7.21875 Z M -1.078125 -6.140625 L -7.53125 -6.140625 L -7.53125 -1.46875 L -1.078125 -1.46875 Z M -1.078125 -6.140625 \"/>\n",
       "</symbol>\n",
       "<symbol overflow=\"visible\" id=\"glyph1-1\">\n",
       "<path style=\"stroke:none;\" d=\"M -8.390625 -3.25 C -8.390625 -4.332031 -7.941406 -5.117188 -7.046875 -5.609375 C -6.359375 -5.984375 -5.410156 -6.171875 -4.203125 -6.171875 C -3.066406 -6.171875 -2.125 -6 -1.375 -5.65625 C -0.300781 -5.164062 0.234375 -4.359375 0.234375 -3.234375 C 0.234375 -2.234375 -0.203125 -1.484375 -1.078125 -0.984375 C -1.816406 -0.578125 -2.800781 -0.375 -4.03125 -0.375 C -4.976562 -0.375 -5.796875 -0.5 -6.484375 -0.75 C -7.753906 -1.207031 -8.390625 -2.039062 -8.390625 -3.25 Z M -0.734375 -3.234375 C -0.734375 -3.785156 -0.972656 -4.222656 -1.453125 -4.546875 C -1.941406 -4.867188 -2.847656 -5.03125 -4.171875 -5.03125 C -5.117188 -5.03125 -5.898438 -4.910156 -6.515625 -4.671875 C -7.128906 -4.441406 -7.4375 -3.988281 -7.4375 -3.3125 C -7.4375 -2.6875 -7.144531 -2.226562 -6.5625 -1.9375 C -5.976562 -1.65625 -5.117188 -1.515625 -3.984375 -1.515625 C -3.128906 -1.515625 -2.441406 -1.609375 -1.921875 -1.796875 C -1.128906 -2.078125 -0.734375 -2.554688 -0.734375 -3.234375 Z M -0.734375 -3.234375 \"/>\n",
       "</symbol>\n",
       "<symbol overflow=\"visible\" id=\"glyph1-2\">\n",
       "<path style=\"stroke:none;\" d=\"M -2.140625 -1.484375 C -1.535156 -1.554688 -1.117188 -1.835938 -0.890625 -2.328125 C -0.773438 -2.578125 -0.71875 -2.863281 -0.71875 -3.1875 C -0.71875 -3.8125 -0.914062 -4.273438 -1.3125 -4.578125 C -1.707031 -4.878906 -2.148438 -5.03125 -2.640625 -5.03125 C -3.222656 -5.03125 -3.675781 -4.847656 -4 -4.484375 C -4.320312 -4.128906 -4.484375 -3.703125 -4.484375 -3.203125 C -4.484375 -2.835938 -4.410156 -2.523438 -4.265625 -2.265625 C -4.128906 -2.003906 -3.9375 -1.785156 -3.6875 -1.609375 L -3.734375 -0.6875 L -8.25 -1.328125 L -8.25 -5.6875 L -7.234375 -5.6875 L -7.234375 -2.125 L -4.90625 -1.765625 C -5.050781 -1.960938 -5.160156 -2.148438 -5.234375 -2.328125 C -5.359375 -2.640625 -5.421875 -3 -5.421875 -3.40625 C -5.421875 -4.175781 -5.171875 -4.828125 -4.671875 -5.359375 C -4.179688 -5.898438 -3.554688 -6.171875 -2.796875 -6.171875 C -2.003906 -6.171875 -1.300781 -5.921875 -0.6875 -5.421875 C -0.0820312 -4.929688 0.21875 -4.148438 0.21875 -3.078125 C 0.21875 -2.398438 0.0234375 -1.796875 -0.359375 -1.265625 C -0.742188 -0.742188 -1.335938 -0.453125 -2.140625 -0.390625 Z M -2.140625 -1.484375 \"/>\n",
       "</symbol>\n",
       "<symbol overflow=\"visible\" id=\"glyph1-3\">\n",
       "<path style=\"stroke:none;\" d=\"M -5.9375 -1.15625 L -6.75 -1.15625 C -6.820312 -1.914062 -6.945312 -2.441406 -7.125 -2.734375 C -7.300781 -3.035156 -7.710938 -3.265625 -8.359375 -3.421875 L -8.359375 -4.25 L 0 -4.25 L 0 -3.125 L -5.9375 -3.125 Z M -5.9375 -1.15625 \"/>\n",
       "</symbol>\n",
       "<symbol overflow=\"visible\" id=\"glyph1-4\">\n",
       "<path style=\"stroke:none;\" d=\"M 0 -0.375 C -0.71875 -0.414062 -1.34375 -0.566406 -1.875 -0.828125 C -2.414062 -1.085938 -2.90625 -1.59375 -3.34375 -2.34375 L -4 -3.46875 C -4.289062 -3.96875 -4.539062 -4.320312 -4.75 -4.53125 C -5.070312 -4.851562 -5.441406 -5.015625 -5.859375 -5.015625 C -6.347656 -5.015625 -6.734375 -4.863281 -7.015625 -4.5625 C -7.304688 -4.269531 -7.453125 -3.882812 -7.453125 -3.40625 C -7.453125 -2.675781 -7.179688 -2.175781 -6.640625 -1.90625 C -6.335938 -1.75 -5.929688 -1.664062 -5.421875 -1.65625 L -5.421875 -0.578125 C -6.148438 -0.585938 -6.742188 -0.722656 -7.203125 -0.984375 C -8.015625 -1.441406 -8.421875 -2.25 -8.421875 -3.40625 C -8.421875 -4.363281 -8.160156 -5.0625 -7.640625 -5.5 C -7.117188 -5.945312 -6.539062 -6.171875 -5.90625 -6.171875 C -5.238281 -6.171875 -4.664062 -5.9375 -4.1875 -5.46875 C -3.90625 -5.195312 -3.566406 -4.707031 -3.171875 -4 L -2.734375 -3.1875 C -2.523438 -2.8125 -2.320312 -2.515625 -2.125 -2.296875 C -1.789062 -1.898438 -1.414062 -1.648438 -1 -1.546875 L -1 -6.140625 L 0 -6.140625 Z M 0 -0.375 \"/>\n",
       "</symbol>\n",
       "<symbol overflow=\"visible\" id=\"glyph1-5\">\n",
       "<path style=\"stroke:none;\" d=\"M -8.609375 -7.171875 L -7.578125 -7.171875 L -7.578125 -4.28125 L 0 -4.28125 L 0 -3.09375 L -7.578125 -3.09375 L -7.578125 -0.1875 L -8.609375 -0.1875 Z M -8.609375 -7.171875 \"/>\n",
       "</symbol>\n",
       "<symbol overflow=\"visible\" id=\"glyph1-6\">\n",
       "<path style=\"stroke:none;\" d=\"M -6.28125 -0.796875 L -6.28125 -1.8125 L -5.1875 -1.8125 C -5.40625 -1.882812 -5.664062 -2.082031 -5.96875 -2.40625 C -6.269531 -2.726562 -6.421875 -3.097656 -6.421875 -3.515625 C -6.421875 -3.535156 -6.414062 -3.566406 -6.40625 -3.609375 C -6.40625 -3.660156 -6.398438 -3.742188 -6.390625 -3.859375 L -5.28125 -3.859375 C -5.289062 -3.796875 -5.296875 -3.738281 -5.296875 -3.6875 C -5.296875 -3.632812 -5.296875 -3.578125 -5.296875 -3.515625 C -5.296875 -2.984375 -5.125 -2.570312 -4.78125 -2.28125 C -4.445312 -2 -4.054688 -1.859375 -3.609375 -1.859375 L 0 -1.859375 L 0 -0.796875 Z M -6.28125 -0.796875 \"/>\n",
       "</symbol>\n",
       "<symbol overflow=\"visible\" id=\"glyph1-7\">\n",
       "<path style=\"stroke:none;\" d=\"M -1.671875 -1.578125 C -1.367188 -1.578125 -1.128906 -1.6875 -0.953125 -1.90625 C -0.773438 -2.132812 -0.6875 -2.398438 -0.6875 -2.703125 C -0.6875 -3.078125 -0.769531 -3.4375 -0.9375 -3.78125 C -1.226562 -4.375 -1.695312 -4.671875 -2.34375 -4.671875 L -3.1875 -4.671875 C -3.113281 -4.535156 -3.046875 -4.363281 -2.984375 -4.15625 C -2.929688 -3.957031 -2.894531 -3.757812 -2.875 -3.5625 L -2.796875 -2.9375 C -2.742188 -2.550781 -2.660156 -2.257812 -2.546875 -2.0625 C -2.367188 -1.738281 -2.078125 -1.578125 -1.671875 -1.578125 Z M -3.796875 -4.140625 C -3.828125 -4.378906 -3.929688 -4.539062 -4.109375 -4.625 C -4.203125 -4.664062 -4.335938 -4.6875 -4.515625 -4.6875 C -4.867188 -4.6875 -5.125 -4.554688 -5.28125 -4.296875 C -5.445312 -4.046875 -5.53125 -3.6875 -5.53125 -3.21875 C -5.53125 -2.664062 -5.382812 -2.273438 -5.09375 -2.046875 C -4.925781 -1.910156 -4.679688 -1.820312 -4.359375 -1.78125 L -4.359375 -0.796875 C -5.128906 -0.816406 -5.664062 -1.066406 -5.96875 -1.546875 C -6.269531 -2.035156 -6.421875 -2.597656 -6.421875 -3.234375 C -6.421875 -3.972656 -6.28125 -4.570312 -6 -5.03125 C -5.71875 -5.488281 -5.28125 -5.71875 -4.6875 -5.71875 L -1.078125 -5.71875 C -0.972656 -5.71875 -0.882812 -5.738281 -0.8125 -5.78125 C -0.75 -5.832031 -0.71875 -5.929688 -0.71875 -6.078125 C -0.71875 -6.117188 -0.71875 -6.164062 -0.71875 -6.21875 C -0.726562 -6.28125 -0.738281 -6.347656 -0.75 -6.421875 L 0.03125 -6.421875 C 0.0703125 -6.253906 0.0976562 -6.125 0.109375 -6.03125 C 0.128906 -5.945312 0.140625 -5.832031 0.140625 -5.6875 C 0.140625 -5.320312 0.0078125 -5.0625 -0.25 -4.90625 C -0.382812 -4.8125 -0.578125 -4.75 -0.828125 -4.71875 C -0.546875 -4.5 -0.300781 -4.1875 -0.09375 -3.78125 C 0.113281 -3.382812 0.21875 -2.945312 0.21875 -2.46875 C 0.21875 -1.882812 0.0390625 -1.40625 -0.3125 -1.03125 C -0.664062 -0.664062 -1.109375 -0.484375 -1.640625 -0.484375 C -2.222656 -0.484375 -2.675781 -0.664062 -3 -1.03125 C -3.320312 -1.394531 -3.519531 -1.867188 -3.59375 -2.453125 Z M -6.421875 -3.265625 Z M -6.421875 -3.265625 \"/>\n",
       "</symbol>\n",
       "<symbol overflow=\"visible\" id=\"glyph1-8\">\n",
       "<path style=\"stroke:none;\" d=\"M -3.0625 -1.4375 C -2.394531 -1.4375 -1.832031 -1.578125 -1.375 -1.859375 C -0.925781 -2.148438 -0.703125 -2.609375 -0.703125 -3.234375 C -0.703125 -3.722656 -0.910156 -4.125 -1.328125 -4.4375 C -1.742188 -4.757812 -2.347656 -4.921875 -3.140625 -4.921875 C -3.929688 -4.921875 -4.515625 -4.753906 -4.890625 -4.421875 C -5.273438 -4.097656 -5.46875 -3.703125 -5.46875 -3.234375 C -5.46875 -2.703125 -5.265625 -2.269531 -4.859375 -1.9375 C -4.453125 -1.601562 -3.851562 -1.4375 -3.0625 -1.4375 Z M -6.390625 -3.03125 C -6.390625 -3.507812 -6.285156 -3.910156 -6.078125 -4.234375 C -5.960938 -4.421875 -5.757812 -4.632812 -5.46875 -4.875 L -8.640625 -4.875 L -8.640625 -5.890625 L 0 -5.890625 L 0 -4.9375 L -0.875 -4.9375 C -0.488281 -4.695312 -0.207031 -4.40625 -0.03125 -4.0625 C 0.132812 -3.726562 0.21875 -3.34375 0.21875 -2.90625 C 0.21875 -2.207031 -0.0703125 -1.601562 -0.65625 -1.09375 C -1.25 -0.582031 -2.03125 -0.328125 -3 -0.328125 C -3.914062 -0.328125 -4.707031 -0.5625 -5.375 -1.03125 C -6.050781 -1.5 -6.390625 -2.164062 -6.390625 -3.03125 Z M -6.390625 -3.03125 \"/>\n",
       "</symbol>\n",
       "<symbol overflow=\"visible\" id=\"glyph1-9\">\n",
       "<path style=\"stroke:none;\" d=\"M -6.25 -0.78125 L -6.25 -1.84375 L 0 -1.84375 L 0 -0.78125 Z M -8.609375 -0.78125 L -8.609375 -1.84375 L -7.40625 -1.84375 L -7.40625 -0.78125 Z M -8.609375 -0.78125 \"/>\n",
       "</symbol>\n",
       "<symbol overflow=\"visible\" id=\"glyph1-10\">\n",
       "<path style=\"stroke:none;\" d=\"M -6.28125 -0.78125 L -6.28125 -1.78125 L -5.390625 -1.78125 C -5.753906 -2.070312 -6.015625 -2.382812 -6.171875 -2.71875 C -6.335938 -3.050781 -6.421875 -3.421875 -6.421875 -3.828125 C -6.421875 -4.710938 -6.109375 -5.3125 -5.484375 -5.625 C -5.140625 -5.800781 -4.65625 -5.890625 -4.03125 -5.890625 L 0 -5.890625 L 0 -4.8125 L -3.953125 -4.8125 C -4.335938 -4.8125 -4.644531 -4.753906 -4.875 -4.640625 C -5.269531 -4.453125 -5.46875 -4.113281 -5.46875 -3.625 C -5.46875 -3.375 -5.441406 -3.171875 -5.390625 -3.015625 C -5.304688 -2.722656 -5.132812 -2.46875 -4.875 -2.25 C -4.664062 -2.070312 -4.453125 -1.957031 -4.234375 -1.90625 C -4.015625 -1.851562 -3.695312 -1.828125 -3.28125 -1.828125 L 0 -1.828125 L 0 -0.78125 Z M -6.421875 -3.25 Z M -6.421875 -3.25 \"/>\n",
       "</symbol>\n",
       "<symbol overflow=\"visible\" id=\"glyph1-11\">\n",
       "<path style=\"stroke:none;\" d=\"M -6.390625 -2.984375 C -6.390625 -3.484375 -6.269531 -3.914062 -6.03125 -4.28125 C -5.882812 -4.476562 -5.679688 -4.679688 -5.421875 -4.890625 L -6.21875 -4.890625 L -6.21875 -5.859375 L -0.515625 -5.859375 C 0.285156 -5.859375 0.914062 -5.742188 1.375 -5.515625 C 2.226562 -5.078125 2.65625 -4.25 2.65625 -3.03125 C 2.65625 -2.351562 2.503906 -1.785156 2.203125 -1.328125 C 1.898438 -0.867188 1.425781 -0.609375 0.78125 -0.546875 L 0.78125 -1.625 C 1.0625 -1.675781 1.28125 -1.773438 1.4375 -1.921875 C 1.664062 -2.160156 1.78125 -2.535156 1.78125 -3.046875 C 1.78125 -3.859375 1.492188 -4.390625 0.921875 -4.640625 C 0.585938 -4.785156 -0.0078125 -4.851562 -0.875 -4.84375 C -0.550781 -4.632812 -0.3125 -4.378906 -0.15625 -4.078125 C 0 -3.785156 0.078125 -3.394531 0.078125 -2.90625 C 0.078125 -2.226562 -0.160156 -1.632812 -0.640625 -1.125 C -1.128906 -0.613281 -1.929688 -0.359375 -3.046875 -0.359375 C -4.097656 -0.359375 -4.914062 -0.613281 -5.5 -1.125 C -6.09375 -1.644531 -6.390625 -2.265625 -6.390625 -2.984375 Z M -3.171875 -4.890625 C -3.941406 -4.890625 -4.515625 -4.726562 -4.890625 -4.40625 C -5.265625 -4.082031 -5.453125 -3.675781 -5.453125 -3.1875 C -5.453125 -2.4375 -5.101562 -1.925781 -4.40625 -1.65625 C -4.039062 -1.507812 -3.554688 -1.4375 -2.953125 -1.4375 C -2.242188 -1.4375 -1.703125 -1.578125 -1.328125 -1.859375 C -0.960938 -2.148438 -0.78125 -2.539062 -0.78125 -3.03125 C -0.78125 -3.789062 -1.125 -4.320312 -1.8125 -4.625 C -2.195312 -4.800781 -2.648438 -4.890625 -3.171875 -4.890625 Z M -6.421875 -3.109375 Z M -6.421875 -3.109375 \"/>\n",
       "</symbol>\n",
       "<symbol overflow=\"visible\" id=\"glyph1-12\">\n",
       "<path style=\"stroke:none;\" d=\"\"/>\n",
       "</symbol>\n",
       "<symbol overflow=\"visible\" id=\"glyph1-13\">\n",
       "<path style=\"stroke:none;\" d=\"M -8.03125 -0.984375 L -8.03125 -2.046875 L -6.28125 -2.046875 L -6.28125 -3.046875 L -5.421875 -3.046875 L -5.421875 -2.046875 L -1.3125 -2.046875 C -1.09375 -2.046875 -0.945312 -2.125 -0.875 -2.28125 C -0.832031 -2.351562 -0.8125 -2.488281 -0.8125 -2.6875 C -0.8125 -2.738281 -0.8125 -2.789062 -0.8125 -2.84375 C -0.820312 -2.90625 -0.828125 -2.972656 -0.828125 -3.046875 L 0 -3.046875 C 0.03125 -2.929688 0.0507812 -2.804688 0.0625 -2.671875 C 0.0820312 -2.546875 0.09375 -2.40625 0.09375 -2.25 C 0.09375 -1.757812 -0.03125 -1.425781 -0.28125 -1.25 C -0.53125 -1.070312 -0.859375 -0.984375 -1.265625 -0.984375 L -5.421875 -0.984375 L -5.421875 -0.140625 L -6.28125 -0.140625 L -6.28125 -0.984375 Z M -8.03125 -0.984375 \"/>\n",
       "</symbol>\n",
       "<symbol overflow=\"visible\" id=\"glyph1-14\">\n",
       "<path style=\"stroke:none;\" d=\"M -6.421875 -3.390625 C -6.421875 -3.835938 -6.316406 -4.269531 -6.109375 -4.6875 C -5.898438 -5.101562 -5.628906 -5.421875 -5.296875 -5.640625 C -4.972656 -5.847656 -4.601562 -5.988281 -4.1875 -6.0625 C -3.894531 -6.125 -3.429688 -6.15625 -2.796875 -6.15625 L -2.796875 -1.546875 C -2.160156 -1.566406 -1.648438 -1.71875 -1.265625 -2 C -0.878906 -2.28125 -0.6875 -2.71875 -0.6875 -3.3125 C -0.6875 -3.863281 -0.867188 -4.300781 -1.234375 -4.625 C -1.441406 -4.8125 -1.6875 -4.945312 -1.96875 -5.03125 L -1.96875 -6.0625 C -1.738281 -6.039062 -1.484375 -5.953125 -1.203125 -5.796875 C -0.921875 -5.640625 -0.6875 -5.46875 -0.5 -5.28125 C -0.1875 -4.957031 0.0195312 -4.554688 0.125 -4.078125 C 0.1875 -3.828125 0.21875 -3.539062 0.21875 -3.21875 C 0.21875 -2.4375 -0.0625 -1.773438 -0.625 -1.234375 C -1.195312 -0.691406 -1.992188 -0.421875 -3.015625 -0.421875 C -4.023438 -0.421875 -4.84375 -0.691406 -5.46875 -1.234375 C -6.101562 -1.785156 -6.421875 -2.503906 -6.421875 -3.390625 Z M -3.640625 -5.0625 C -4.097656 -5.019531 -4.460938 -4.921875 -4.734375 -4.765625 C -5.242188 -4.484375 -5.5 -4.003906 -5.5 -3.328125 C -5.5 -2.835938 -5.320312 -2.425781 -4.96875 -2.09375 C -4.625 -1.769531 -4.179688 -1.597656 -3.640625 -1.578125 Z M -6.421875 -3.28125 Z M -6.421875 -3.28125 \"/>\n",
       "</symbol>\n",
       "</g>\n",
       "<clipPath id=\"clip1\">\n",
       "  <path d=\"M 397 59.039062 L 474.757812 59.039062 L 474.757812 103 L 397 103 Z M 397 59.039062 \"/>\n",
       "</clipPath>\n",
       "</defs>\n",
       "<g id=\"surface16\">\n",
       "<rect x=\"0\" y=\"0\" width=\"504\" height=\"504\" style=\"fill:rgb(100%,100%,100%);fill-opacity:1;stroke:none;\"/>\n",
       "<path style=\"fill:none;stroke-width:0.75;stroke-linecap:round;stroke-linejoin:round;stroke:rgb(100%,0%,0%);stroke-opacity:1;stroke-miterlimit:10;\" d=\"M 74.398438 72.800781 L 76.375 74.558594 L 77.363281 75.441406 L 78.347656 76.320312 L 79.335938 77.199219 L 80.324219 78.082031 L 81.308594 78.960938 L 82.296875 79.839844 L 83.285156 80.722656 L 84.269531 81.601562 L 85.257812 82.484375 L 87.234375 84.242188 L 88.21875 85.125 L 90.195312 86.882812 L 91.179688 87.765625 L 92.167969 88.644531 L 93.15625 89.527344 L 94.144531 90.40625 L 95.128906 91.285156 L 96.117188 92.167969 L 97.105469 93.046875 L 98.089844 93.925781 L 99.078125 94.808594 L 100.066406 95.6875 L 101.054688 96.570312 L 102.039062 97.449219 L 103.027344 98.328125 L 104.015625 99.210938 L 105 100.089844 L 105.988281 100.972656 L 107.964844 102.730469 L 108.949219 103.613281 L 110.925781 105.371094 L 111.910156 106.253906 L 112.898438 107.132812 L 113.886719 108.015625 L 114.871094 108.894531 L 115.859375 109.773438 L 116.847656 110.65625 L 117.835938 111.535156 L 118.820312 112.417969 L 120.796875 114.175781 L 121.78125 115.058594 L 122.769531 115.9375 L 123.757812 116.820312 L 124.746094 117.699219 L 125.730469 118.578125 L 126.71875 119.460938 L 127.707031 120.339844 L 128.691406 121.222656 L 129.679688 122.101562 L 130.667969 122.984375 L 131.65625 123.863281 L 132.640625 124.742188 L 133.628906 125.625 L 134.617188 126.503906 L 135.601562 127.386719 L 137.578125 129.144531 L 138.566406 130.027344 L 139.550781 130.90625 L 140.539062 131.789062 L 141.527344 132.667969 L 142.511719 133.550781 L 144.488281 135.308594 L 145.472656 136.191406 L 146.460938 137.070312 L 147.449219 137.953125 L 148.4375 138.832031 L 149.421875 139.714844 L 151.398438 141.472656 L 152.382812 142.355469 L 153.371094 143.234375 L 154.359375 144.117188 L 155.347656 144.996094 L 156.332031 145.878906 L 157.320312 146.757812 L 158.308594 147.640625 L 159.292969 148.519531 L 160.28125 149.398438 L 161.269531 150.28125 L 162.257812 151.160156 L 163.242188 152.042969 L 164.230469 152.921875 L 165.21875 153.804688 L 166.203125 154.683594 L 167.191406 155.566406 L 169.167969 157.324219 L 170.152344 158.207031 L 171.140625 159.085938 L 172.128906 159.96875 L 173.113281 160.847656 L 174.101562 161.730469 L 175.089844 162.609375 L 176.074219 163.492188 L 177.0625 164.371094 L 178.050781 165.253906 L 179.039062 166.132812 L 180.023438 167.015625 L 181.011719 167.894531 L 182 168.777344 L 182.984375 169.65625 L 183.972656 170.535156 L 184.960938 171.417969 L 185.949219 172.296875 L 186.933594 173.179688 L 187.921875 174.058594 L 188.910156 174.941406 L 189.894531 175.820312 L 190.882812 176.703125 L 191.871094 177.582031 L 192.859375 178.464844 L 193.84375 179.34375 L 194.832031 180.226562 L 195.820312 181.105469 L 196.804688 181.988281 L 197.792969 182.867188 L 198.78125 183.75 L 199.769531 184.628906 L 200.753906 185.511719 L 201.742188 186.390625 L 202.730469 187.273438 L 203.714844 188.152344 L 204.703125 189.035156 L 205.691406 189.914062 L 206.675781 190.796875 L 207.664062 191.675781 L 208.652344 192.558594 L 209.640625 193.4375 L 210.625 194.320312 L 211.613281 195.203125 L 212.601562 196.082031 L 213.585938 196.964844 L 214.574219 197.84375 L 215.5625 198.726562 L 216.550781 199.605469 L 217.535156 200.488281 L 218.523438 201.367188 L 219.511719 202.25 L 220.496094 203.128906 L 221.484375 204.011719 L 222.472656 204.890625 L 223.460938 205.773438 L 224.445312 206.652344 L 226.421875 208.417969 L 227.40625 209.296875 L 228.394531 210.179688 L 229.382812 211.058594 L 230.371094 211.941406 L 231.355469 212.820312 L 232.34375 213.703125 L 233.332031 214.582031 L 234.316406 215.464844 L 235.304688 216.347656 L 236.292969 217.226562 L 237.277344 218.109375 L 238.265625 218.988281 L 240.242188 220.753906 L 241.226562 221.632812 L 242.214844 222.515625 L 243.203125 223.394531 L 244.1875 224.277344 L 245.175781 225.15625 L 247.152344 226.921875 L 248.136719 227.800781 L 249.125 228.683594 L 250.113281 229.5625 L 251.097656 230.445312 L 252.085938 231.328125 L 253.074219 232.207031 L 254.0625 233.089844 L 255.046875 233.972656 L 256.035156 234.851562 L 257.023438 235.734375 L 258.007812 236.613281 L 259.984375 238.378906 L 260.96875 239.257812 L 262.945312 241.023438 L 263.933594 241.902344 L 264.917969 242.785156 L 265.90625 243.667969 L 266.894531 244.546875 L 267.878906 245.429688 L 268.867188 246.3125 L 269.855469 247.191406 L 270.84375 248.074219 L 271.828125 248.957031 L 272.816406 249.835938 L 273.804688 250.71875 L 274.789062 251.601562 L 275.777344 252.480469 L 277.753906 254.246094 L 278.738281 255.125 L 280.714844 256.890625 L 281.699219 257.769531 L 284.664062 260.417969 L 285.648438 261.296875 L 287.625 263.0625 L 288.609375 263.941406 L 290.585938 265.707031 L 291.570312 266.589844 L 292.558594 267.46875 L 294.535156 269.234375 L 295.519531 270.117188 L 296.507812 270.996094 L 297.496094 271.878906 L 298.480469 272.761719 L 299.46875 273.644531 L 300.457031 274.523438 L 301.445312 275.40625 L 302.429688 276.289062 L 304.40625 278.054688 L 305.390625 278.933594 L 308.355469 281.582031 L 309.339844 282.464844 L 310.328125 283.34375 L 311.316406 284.226562 L 312.300781 285.109375 L 315.265625 287.757812 L 316.25 288.636719 L 318.226562 290.402344 L 319.210938 291.285156 L 321.1875 293.050781 L 322.171875 293.933594 L 324.148438 295.699219 L 325.136719 296.578125 L 326.121094 297.460938 L 328.097656 299.226562 L 329.082031 300.109375 L 332.046875 302.757812 L 333.03125 303.640625 L 335.007812 305.40625 L 335.992188 306.289062 L 338.957031 308.9375 L 339.941406 309.820312 L 341.917969 311.585938 L 342.902344 312.46875 L 345.867188 315.117188 L 346.851562 316 L 348.828125 317.765625 L 349.8125 318.648438 L 350.800781 319.535156 L 351.789062 320.417969 L 352.773438 321.300781 L 355.738281 323.949219 L 356.722656 324.832031 L 357.710938 325.71875 L 358.699219 326.601562 L 359.683594 327.484375 L 361.660156 329.25 L 362.648438 330.136719 L 363.632812 331.019531 L 365.609375 332.785156 L 366.59375 333.671875 L 368.570312 335.4375 L 369.558594 336.324219 L 370.542969 337.207031 L 371.53125 338.089844 L 372.519531 338.976562 L 373.503906 339.859375 L 374.492188 340.742188 L 375.480469 341.628906 L 376.46875 342.511719 L 377.453125 343.398438 L 378.441406 344.28125 L 379.429688 345.167969 L 380.414062 346.050781 L 381.402344 346.9375 L 382.390625 347.820312 L 383.375 348.707031 L 384.363281 349.589844 L 386.339844 351.363281 L 387.324219 352.246094 L 388.3125 353.132812 L 389.300781 354.015625 L 390.285156 354.902344 L 392.261719 356.675781 L 393.25 357.558594 L 394.234375 358.445312 L 396.210938 360.21875 L 397.195312 361.105469 L 400.160156 363.765625 L 401.144531 364.652344 L 403.121094 366.425781 L 404.105469 367.3125 L 406.082031 369.085938 L 407.070312 369.976562 L 408.054688 370.863281 L 409.042969 371.75 L 410.03125 372.640625 L 411.015625 373.527344 L 412.003906 374.414062 L 412.992188 375.304688 L 413.976562 376.191406 L 416.941406 378.863281 L 417.925781 379.75 L 419.902344 381.53125 L 420.886719 382.421875 L 421.875 383.3125 L 422.863281 384.207031 L 423.851562 385.097656 L 424.835938 385.988281 L 425.824219 386.882812 L 426.8125 387.773438 L 427.796875 388.667969 L 430.761719 391.351562 L 431.746094 392.246094 L 432.734375 393.144531 L 433.722656 394.039062 L 434.707031 394.9375 L 437.671875 397.632812 L 438.65625 398.535156 L 440.632812 400.339844 L 441.617188 401.246094 L 442.605469 402.152344 L 443.59375 403.0625 L 444.578125 403.972656 L 446.554688 405.800781 L 447.542969 406.71875 L 448.527344 407.644531 L 449.515625 408.570312 L 450.503906 409.503906 L 451.488281 410.449219 L 452.476562 411.398438 L 453.464844 412.367188 L 454.453125 413.355469 L 455.4375 414.382812 L 456.425781 415.480469 L 457.414062 416.800781 L 458.398438 415.683594 \"/>\n",
       "<path style=\"fill:none;stroke-width:0.75;stroke-linecap:round;stroke-linejoin:round;stroke:rgb(0%,0%,0%);stroke-opacity:1;stroke-miterlimit:10;\" d=\"M 73.414062 430.558594 L 468.269531 430.558594 \"/>\n",
       "<path style=\"fill:none;stroke-width:0.75;stroke-linecap:round;stroke-linejoin:round;stroke:rgb(0%,0%,0%);stroke-opacity:1;stroke-miterlimit:10;\" d=\"M 73.414062 430.558594 L 73.414062 437.761719 \"/>\n",
       "<path style=\"fill:none;stroke-width:0.75;stroke-linecap:round;stroke-linejoin:round;stroke:rgb(0%,0%,0%);stroke-opacity:1;stroke-miterlimit:10;\" d=\"M 172.128906 430.558594 L 172.128906 437.761719 \"/>\n",
       "<path style=\"fill:none;stroke-width:0.75;stroke-linecap:round;stroke-linejoin:round;stroke:rgb(0%,0%,0%);stroke-opacity:1;stroke-miterlimit:10;\" d=\"M 270.84375 430.558594 L 270.84375 437.761719 \"/>\n",
       "<path style=\"fill:none;stroke-width:0.75;stroke-linecap:round;stroke-linejoin:round;stroke:rgb(0%,0%,0%);stroke-opacity:1;stroke-miterlimit:10;\" d=\"M 369.558594 430.558594 L 369.558594 437.761719 \"/>\n",
       "<path style=\"fill:none;stroke-width:0.75;stroke-linecap:round;stroke-linejoin:round;stroke:rgb(0%,0%,0%);stroke-opacity:1;stroke-miterlimit:10;\" d=\"M 468.269531 430.558594 L 468.269531 437.761719 \"/>\n",
       "<g style=\"fill:rgb(0%,0%,0%);fill-opacity:1;\">\n",
       "  <use xlink:href=\"#glyph0-1\" x=\"70.078125\" y=\"456.480469\"/>\n",
       "</g>\n",
       "<g style=\"fill:rgb(0%,0%,0%);fill-opacity:1;\">\n",
       "  <use xlink:href=\"#glyph0-2\" x=\"162.117188\" y=\"456.480469\"/>\n",
       "  <use xlink:href=\"#glyph0-1\" x=\"168.791016\" y=\"456.480469\"/>\n",
       "  <use xlink:href=\"#glyph0-1\" x=\"175.464844\" y=\"456.480469\"/>\n",
       "</g>\n",
       "<g style=\"fill:rgb(0%,0%,0%);fill-opacity:1;\">\n",
       "  <use xlink:href=\"#glyph0-3\" x=\"260.832031\" y=\"456.480469\"/>\n",
       "  <use xlink:href=\"#glyph0-1\" x=\"267.505859\" y=\"456.480469\"/>\n",
       "  <use xlink:href=\"#glyph0-1\" x=\"274.179688\" y=\"456.480469\"/>\n",
       "</g>\n",
       "<g style=\"fill:rgb(0%,0%,0%);fill-opacity:1;\">\n",
       "  <use xlink:href=\"#glyph0-4\" x=\"359.546875\" y=\"456.480469\"/>\n",
       "  <use xlink:href=\"#glyph0-1\" x=\"366.220703\" y=\"456.480469\"/>\n",
       "  <use xlink:href=\"#glyph0-1\" x=\"372.894531\" y=\"456.480469\"/>\n",
       "</g>\n",
       "<g style=\"fill:rgb(0%,0%,0%);fill-opacity:1;\">\n",
       "  <use xlink:href=\"#glyph0-5\" x=\"458.257812\" y=\"456.480469\"/>\n",
       "  <use xlink:href=\"#glyph0-1\" x=\"464.931641\" y=\"456.480469\"/>\n",
       "  <use xlink:href=\"#glyph0-1\" x=\"471.605469\" y=\"456.480469\"/>\n",
       "</g>\n",
       "<path style=\"fill:none;stroke-width:0.75;stroke-linecap:round;stroke-linejoin:round;stroke:rgb(0%,0%,0%);stroke-opacity:1;stroke-miterlimit:10;\" d=\"M 59.039062 415.683594 L 59.039062 81.371094 \"/>\n",
       "<path style=\"fill:none;stroke-width:0.75;stroke-linecap:round;stroke-linejoin:round;stroke:rgb(0%,0%,0%);stroke-opacity:1;stroke-miterlimit:10;\" d=\"M 59.039062 415.683594 L 51.839844 415.683594 \"/>\n",
       "<path style=\"fill:none;stroke-width:0.75;stroke-linecap:round;stroke-linejoin:round;stroke:rgb(0%,0%,0%);stroke-opacity:1;stroke-miterlimit:10;\" d=\"M 59.039062 348.820312 L 51.839844 348.820312 \"/>\n",
       "<path style=\"fill:none;stroke-width:0.75;stroke-linecap:round;stroke-linejoin:round;stroke:rgb(0%,0%,0%);stroke-opacity:1;stroke-miterlimit:10;\" d=\"M 59.039062 281.960938 L 51.839844 281.960938 \"/>\n",
       "<path style=\"fill:none;stroke-width:0.75;stroke-linecap:round;stroke-linejoin:round;stroke:rgb(0%,0%,0%);stroke-opacity:1;stroke-miterlimit:10;\" d=\"M 59.039062 215.097656 L 51.839844 215.097656 \"/>\n",
       "<path style=\"fill:none;stroke-width:0.75;stroke-linecap:round;stroke-linejoin:round;stroke:rgb(0%,0%,0%);stroke-opacity:1;stroke-miterlimit:10;\" d=\"M 59.039062 148.234375 L 51.839844 148.234375 \"/>\n",
       "<path style=\"fill:none;stroke-width:0.75;stroke-linecap:round;stroke-linejoin:round;stroke:rgb(0%,0%,0%);stroke-opacity:1;stroke-miterlimit:10;\" d=\"M 59.039062 81.371094 L 51.839844 81.371094 \"/>\n",
       "<g style=\"fill:rgb(0%,0%,0%);fill-opacity:1;\">\n",
       "  <use xlink:href=\"#glyph1-1\" x=\"41.761719\" y=\"419.019531\"/>\n",
       "</g>\n",
       "<g style=\"fill:rgb(0%,0%,0%);fill-opacity:1;\">\n",
       "  <use xlink:href=\"#glyph1-2\" x=\"41.761719\" y=\"352.15625\"/>\n",
       "</g>\n",
       "<g style=\"fill:rgb(0%,0%,0%);fill-opacity:1;\">\n",
       "  <use xlink:href=\"#glyph1-3\" x=\"41.761719\" y=\"288.632812\"/>\n",
       "  <use xlink:href=\"#glyph1-1\" x=\"41.761719\" y=\"281.958984\"/>\n",
       "</g>\n",
       "<g style=\"fill:rgb(0%,0%,0%);fill-opacity:1;\">\n",
       "  <use xlink:href=\"#glyph1-3\" x=\"41.761719\" y=\"221.769531\"/>\n",
       "  <use xlink:href=\"#glyph1-2\" x=\"41.761719\" y=\"215.095703\"/>\n",
       "</g>\n",
       "<g style=\"fill:rgb(0%,0%,0%);fill-opacity:1;\">\n",
       "  <use xlink:href=\"#glyph1-4\" x=\"41.761719\" y=\"154.90625\"/>\n",
       "  <use xlink:href=\"#glyph1-1\" x=\"41.761719\" y=\"148.232422\"/>\n",
       "</g>\n",
       "<g style=\"fill:rgb(0%,0%,0%);fill-opacity:1;\">\n",
       "  <use xlink:href=\"#glyph1-4\" x=\"41.761719\" y=\"88.042969\"/>\n",
       "  <use xlink:href=\"#glyph1-2\" x=\"41.761719\" y=\"81.369141\"/>\n",
       "</g>\n",
       "<path style=\"fill:none;stroke-width:0.75;stroke-linecap:round;stroke-linejoin:round;stroke:rgb(0%,0%,0%);stroke-opacity:1;stroke-miterlimit:10;\" d=\"M 59.039062 430.558594 L 473.761719 430.558594 L 473.761719 59.039062 L 59.039062 59.039062 L 59.039062 430.558594 \"/>\n",
       "<g style=\"fill:rgb(0%,0%,0%);fill-opacity:1;\">\n",
       "  <use xlink:href=\"#glyph0-6\" x=\"204.382812\" y=\"485.28125\"/>\n",
       "  <use xlink:href=\"#glyph0-7\" x=\"212.386719\" y=\"485.28125\"/>\n",
       "  <use xlink:href=\"#glyph0-8\" x=\"219.060547\" y=\"485.28125\"/>\n",
       "  <use xlink:href=\"#glyph0-9\" x=\"221.726562\" y=\"485.28125\"/>\n",
       "  <use xlink:href=\"#glyph0-10\" x=\"228.400391\" y=\"485.28125\"/>\n",
       "  <use xlink:href=\"#glyph0-11\" x=\"238.396484\" y=\"485.28125\"/>\n",
       "  <use xlink:href=\"#glyph0-12\" x=\"245.070312\" y=\"485.28125\"/>\n",
       "  <use xlink:href=\"#glyph0-13\" x=\"248.404297\" y=\"485.28125\"/>\n",
       "  <use xlink:href=\"#glyph0-14\" x=\"255.734375\" y=\"485.28125\"/>\n",
       "  <use xlink:href=\"#glyph0-10\" x=\"258.400391\" y=\"485.28125\"/>\n",
       "  <use xlink:href=\"#glyph0-11\" x=\"268.396484\" y=\"485.28125\"/>\n",
       "  <use xlink:href=\"#glyph0-12\" x=\"275.070312\" y=\"485.28125\"/>\n",
       "  <use xlink:href=\"#glyph0-15\" x=\"278.404297\" y=\"485.28125\"/>\n",
       "  <use xlink:href=\"#glyph0-10\" x=\"282.400391\" y=\"485.28125\"/>\n",
       "  <use xlink:href=\"#glyph0-14\" x=\"292.396484\" y=\"485.28125\"/>\n",
       "  <use xlink:href=\"#glyph0-16\" x=\"295.0625\" y=\"485.28125\"/>\n",
       "  <use xlink:href=\"#glyph0-9\" x=\"301.736328\" y=\"485.28125\"/>\n",
       "  <use xlink:href=\"#glyph0-17\" x=\"308.410156\" y=\"485.28125\"/>\n",
       "  <use xlink:href=\"#glyph0-11\" x=\"311.744141\" y=\"485.28125\"/>\n",
       "  <use xlink:href=\"#glyph0-18\" x=\"318.417969\" y=\"485.28125\"/>\n",
       "  <use xlink:href=\"#glyph0-19\" x=\"324.417969\" y=\"485.28125\"/>\n",
       "</g>\n",
       "<g style=\"fill:rgb(0%,0%,0%);fill-opacity:1;\">\n",
       "  <use xlink:href=\"#glyph1-5\" x=\"12.960938\" y=\"277.152344\"/>\n",
       "  <use xlink:href=\"#glyph1-6\" x=\"12.960938\" y=\"269.822266\"/>\n",
       "  <use xlink:href=\"#glyph1-7\" x=\"12.960938\" y=\"265.826172\"/>\n",
       "  <use xlink:href=\"#glyph1-8\" x=\"12.960938\" y=\"259.152344\"/>\n",
       "  <use xlink:href=\"#glyph1-9\" x=\"12.960938\" y=\"252.478516\"/>\n",
       "  <use xlink:href=\"#glyph1-10\" x=\"12.960938\" y=\"249.8125\"/>\n",
       "  <use xlink:href=\"#glyph1-11\" x=\"12.960938\" y=\"243.138672\"/>\n",
       "  <use xlink:href=\"#glyph1-12\" x=\"12.960938\" y=\"236.464844\"/>\n",
       "  <use xlink:href=\"#glyph1-6\" x=\"12.960938\" y=\"233.130859\"/>\n",
       "  <use xlink:href=\"#glyph1-7\" x=\"12.960938\" y=\"229.134766\"/>\n",
       "  <use xlink:href=\"#glyph1-13\" x=\"12.960938\" y=\"222.460938\"/>\n",
       "  <use xlink:href=\"#glyph1-14\" x=\"12.960938\" y=\"219.126953\"/>\n",
       "</g>\n",
       "<path style=\"fill:none;stroke-width:0.75;stroke-linecap:round;stroke-linejoin:round;stroke:rgb(0%,0%,100%);stroke-opacity:1;stroke-miterlimit:10;\" d=\"M 74.398438 72.800781 L 75.386719 73.984375 L 76.375 74.800781 L 77.363281 75.5 L 78.347656 76.378906 L 79.335938 77.257812 L 80.324219 78.289062 L 81.308594 79.078125 L 82.296875 79.898438 L 83.285156 80.839844 L 84.269531 81.660156 L 85.257812 82.539062 L 86.246094 83.359375 L 87.234375 84.359375 L 88.21875 85.121094 L 90.195312 86.878906 L 91.179688 87.761719 L 92.167969 88.875 L 93.15625 89.753906 L 94.144531 90.515625 L 95.128906 91.339844 L 96.117188 92.21875 L 97.105469 93.042969 L 98.089844 93.921875 L 99.078125 94.800781 L 100.066406 95.683594 L 101.054688 96.5625 L 102.039062 97.5 L 103.027344 98.378906 L 104.015625 99.261719 L 105 100.140625 L 105.988281 101.019531 L 106.976562 102.070312 L 107.964844 102.949219 L 108.949219 103.828125 L 110.925781 105.585938 L 111.910156 106.464844 L 112.898438 107.34375 L 113.886719 108.195312 L 114.871094 109.046875 L 116.847656 110.804688 L 117.835938 111.6875 L 118.820312 112.511719 L 119.808594 113.5 L 120.796875 114.378906 L 121.78125 115.257812 L 124.746094 117.894531 L 125.730469 118.773438 L 126.71875 119.679688 L 127.707031 120.53125 L 128.691406 121.414062 L 129.679688 122.316406 L 130.667969 123.171875 L 131.65625 124.050781 L 132.640625 124.929688 L 134.617188 126.6875 L 135.601562 127.566406 L 138.566406 130.203125 L 139.550781 131.085938 L 140.539062 132.015625 L 141.527344 132.992188 L 142.511719 133.871094 L 144.488281 135.628906 L 145.472656 136.507812 L 147.449219 138.265625 L 148.4375 139.191406 L 149.421875 140.070312 L 150.410156 140.949219 L 151.398438 141.875 L 152.382812 142.605469 L 153.371094 143.484375 L 154.359375 144.316406 L 155.347656 145.195312 L 156.332031 146.074219 L 158.308594 147.832031 L 159.292969 148.664062 L 161.269531 150.421875 L 162.257812 151.441406 L 163.242188 152.320312 L 165.21875 154.078125 L 166.203125 155.003906 L 167.191406 155.882812 L 168.179688 156.714844 L 169.167969 157.59375 L 170.152344 158.46875 L 171.140625 159.347656 L 172.128906 160.183594 L 173.113281 161.0625 L 174.101562 161.941406 L 175.089844 162.816406 L 176.074219 163.652344 L 177.0625 164.488281 L 178.050781 165.367188 L 179.039062 166.289062 L 180.023438 167.125 L 181.011719 167.960938 L 182 168.839844 L 182.984375 169.71875 L 183.972656 170.597656 L 184.960938 171.4375 L 185.949219 172.359375 L 186.933594 173.238281 L 187.921875 174.117188 L 188.910156 175 L 189.894531 175.835938 L 190.882812 176.714844 L 191.871094 177.597656 L 192.859375 178.476562 L 193.84375 179.355469 L 194.832031 180.238281 L 195.820312 181.117188 L 196.804688 181.996094 L 197.792969 182.878906 L 198.78125 183.757812 L 199.769531 184.71875 L 200.753906 185.601562 L 201.742188 186.519531 L 202.730469 187.398438 L 203.714844 188.28125 L 205.691406 190.039062 L 206.675781 190.878906 L 207.664062 191.71875 L 208.652344 192.675781 L 209.640625 193.554688 L 210.625 194.433594 L 211.613281 195.316406 L 212.601562 196.195312 L 213.585938 197.074219 L 216.550781 199.710938 L 217.535156 200.589844 L 218.523438 201.46875 L 219.511719 202.351562 L 220.496094 203.230469 L 221.484375 204.148438 L 223.460938 205.90625 L 224.445312 206.820312 L 225.433594 207.664062 L 226.421875 208.542969 L 227.40625 209.421875 L 228.394531 210.300781 L 229.382812 211.144531 L 230.371094 212.023438 L 231.355469 212.902344 L 232.34375 213.78125 L 233.332031 214.625 L 234.316406 215.503906 L 235.304688 216.351562 L 236.292969 217.195312 L 237.277344 218.074219 L 238.265625 218.921875 L 239.253906 219.800781 L 240.242188 220.71875 L 241.226562 221.527344 L 243.203125 223.425781 L 244.1875 224.308594 L 246.164062 226.136719 L 247.152344 227.015625 L 248.136719 227.894531 L 250.113281 229.652344 L 251.097656 230.53125 L 252.085938 231.378906 L 254.0625 233.136719 L 255.046875 234.050781 L 257.023438 235.808594 L 258.007812 236.71875 L 258.996094 237.597656 L 259.984375 238.480469 L 260.96875 239.328125 L 263.933594 241.964844 L 264.917969 242.84375 L 265.90625 243.722656 L 266.894531 244.574219 L 267.878906 245.453125 L 269.855469 247.210938 L 270.84375 248.09375 L 271.828125 248.972656 L 272.816406 249.851562 L 273.804688 250.734375 L 274.789062 251.640625 L 275.777344 252.519531 L 276.765625 253.402344 L 277.753906 254.308594 L 278.738281 255.1875 L 279.726562 256.097656 L 280.714844 256.976562 L 281.699219 257.828125 L 282.6875 258.734375 L 283.675781 259.585938 L 284.664062 260.464844 L 285.648438 261.34375 L 286.636719 262.195312 L 287.625 263.078125 L 288.609375 263.957031 L 290.585938 265.714844 L 291.570312 266.597656 L 292.558594 267.449219 L 293.546875 268.328125 L 294.535156 269.210938 L 295.519531 270.089844 L 296.507812 270.972656 L 297.496094 271.851562 L 298.480469 272.730469 L 299.46875 273.613281 L 301.445312 275.371094 L 302.429688 276.253906 L 303.417969 277.109375 L 304.40625 277.988281 L 305.390625 278.941406 L 306.378906 279.824219 L 307.367188 280.703125 L 308.355469 281.605469 L 309.339844 282.484375 L 310.328125 283.34375 L 311.316406 284.222656 L 312.300781 285.101562 L 313.289062 286.003906 L 314.277344 286.886719 L 315.265625 287.765625 L 316.25 288.667969 L 318.226562 290.425781 L 319.210938 291.304688 L 320.199219 292.183594 L 321.1875 293.042969 L 322.171875 293.921875 L 323.160156 294.800781 L 324.148438 295.683594 L 325.136719 296.5625 L 326.121094 297.441406 L 327.109375 298.300781 L 328.097656 299.179688 L 329.082031 300.0625 L 330.070312 300.941406 L 331.058594 301.832031 L 332.046875 302.683594 L 333.03125 303.5625 L 334.019531 304.445312 L 335.007812 305.324219 L 335.992188 306.226562 L 336.980469 307.105469 L 337.96875 308.003906 L 338.957031 308.886719 L 339.941406 309.765625 L 340.929688 310.664062 L 341.917969 311.546875 L 342.902344 312.425781 L 343.890625 313.304688 L 344.878906 314.1875 L 345.867188 315.066406 L 346.851562 315.945312 L 347.839844 316.828125 L 348.828125 317.707031 L 349.8125 318.585938 L 350.800781 319.46875 L 351.789062 320.347656 L 352.773438 321.226562 L 353.761719 322.109375 L 354.75 322.988281 L 355.738281 323.871094 L 356.722656 324.75 L 357.710938 325.632812 L 358.699219 326.511719 L 359.683594 327.394531 L 360.671875 328.273438 L 361.660156 329.148438 L 362.648438 330.019531 L 363.632812 330.902344 L 364.621094 331.78125 L 365.609375 332.679688 L 366.59375 333.558594 L 367.582031 334.441406 L 368.570312 335.320312 L 369.558594 336.203125 L 370.542969 337.085938 L 371.53125 337.964844 L 372.519531 338.847656 L 373.503906 339.730469 L 374.492188 340.609375 L 376.46875 342.375 L 377.453125 343.253906 L 379.429688 345.019531 L 380.414062 345.902344 L 381.402344 346.78125 L 382.390625 347.664062 L 383.375 348.546875 L 384.363281 349.417969 L 386.339844 351.183594 L 387.324219 352.066406 L 389.300781 353.832031 L 390.285156 354.714844 L 393.25 357.363281 L 394.234375 358.257812 L 396.210938 360.023438 L 397.195312 360.90625 L 398.183594 361.789062 L 399.171875 362.675781 L 400.160156 363.558594 L 401.144531 364.433594 L 402.132812 365.316406 L 403.121094 366.203125 L 404.105469 367.085938 L 405.09375 367.972656 L 406.082031 368.855469 L 407.070312 369.742188 L 408.054688 370.625 L 410.03125 372.398438 L 411.015625 373.285156 L 412.003906 374.164062 L 412.992188 375.050781 L 413.976562 375.9375 L 416.941406 378.597656 L 417.925781 379.484375 L 418.914062 380.371094 L 419.902344 381.261719 L 420.886719 382.148438 L 421.875 383.039062 L 422.863281 383.925781 L 423.851562 384.816406 L 424.835938 385.707031 L 425.824219 386.601562 L 426.8125 387.492188 L 427.796875 388.382812 L 428.785156 389.273438 L 429.773438 390.167969 L 430.761719 391.058594 L 431.746094 391.949219 L 432.734375 392.839844 L 433.722656 393.734375 L 434.707031 394.632812 L 435.695312 395.527344 L 436.683594 396.425781 L 437.671875 397.320312 L 438.65625 398.222656 L 439.644531 399.121094 L 440.632812 400.023438 L 441.617188 400.929688 L 442.605469 401.828125 L 443.59375 402.738281 L 444.578125 403.644531 L 445.566406 404.554688 L 447.542969 406.382812 L 448.527344 407.304688 L 449.515625 408.230469 L 450.503906 409.160156 L 451.488281 410.101562 L 452.476562 411.050781 L 453.464844 412.015625 L 454.453125 413.003906 L 455.4375 414.027344 L 456.425781 415.125 L 457.414062 416.441406 L 458.398438 415.683594 \"/>\n",
       "<g clip-path=\"url(#clip1)\" clip-rule=\"nonzero\">\n",
       "<path style=\"fill:none;stroke-width:0.75;stroke-linecap:round;stroke-linejoin:round;stroke:rgb(0%,0%,0%);stroke-opacity:1;stroke-miterlimit:10;\" d=\"M 397.824219 59.039062 L 473.761719 59.039062 L 473.761719 102.238281 L 397.824219 102.238281 Z M 397.824219 59.039062 \"/>\n",
       "</g>\n",
       "<path style=\"fill:none;stroke-width:0.75;stroke-linecap:round;stroke-linejoin:round;stroke:rgb(100%,0%,0%);stroke-opacity:1;stroke-miterlimit:10;\" d=\"M 408.625 73.441406 L 430.222656 73.441406 \"/>\n",
       "<path style=\"fill:none;stroke-width:0.75;stroke-linecap:round;stroke-linejoin:round;stroke:rgb(0%,0%,100%);stroke-opacity:1;stroke-miterlimit:10;\" d=\"M 408.625 87.839844 L 430.222656 87.839844 \"/>\n",
       "<g style=\"fill:rgb(0%,0%,0%);fill-opacity:1;\">\n",
       "  <use xlink:href=\"#glyph0-20\" x=\"441.023438\" y=\"77.746094\"/>\n",
       "  <use xlink:href=\"#glyph0-21\" x=\"449.027344\" y=\"77.746094\"/>\n",
       "  <use xlink:href=\"#glyph0-22\" x=\"457.03125\" y=\"77.746094\"/>\n",
       "</g>\n",
       "<g style=\"fill:rgb(0%,0%,0%);fill-opacity:1;\">\n",
       "  <use xlink:href=\"#glyph0-23\" x=\"441.023438\" y=\"92.144531\"/>\n",
       "  <use xlink:href=\"#glyph0-21\" x=\"450.357422\" y=\"92.144531\"/>\n",
       "  <use xlink:href=\"#glyph0-22\" x=\"458.361328\" y=\"92.144531\"/>\n",
       "</g>\n",
       "</g>\n",
       "</svg>\n"
      ],
      "text/plain": [
       "plot without title"
      ]
     },
     "metadata": {
      "image/svg+xml": {
       "isolated": true
      }
     },
     "output_type": "display_data"
    }
   ],
   "source": [
    "A <- function(xt, t, T, X) {\n",
    "    (xt/ (T-t)) + (X/T) * (1 - (t/T))\n",
    "}\n",
    "\n",
    "G <- function(xt, t, T, X, s0, st) {\n",
    "    (xt / (T-t)) + (X/T) * (st/s0) * (1 - (t/T))\n",
    "}\n",
    "\n",
    "prices <- msft130311.bats$trade.price\n",
    "volume <- msft130311.bats$signed.shares\n",
    "tot_volume <- sum(abs(volume))\n",
    "\n",
    "X <- 5000\n",
    "min_volume_time <- X / 390\n",
    "min_time <- (length(volume)) / 390\n",
    "\n",
    "s_0 <- prices[1]\n",
    "x_A <- rep(0,390)\n",
    "v_A <- rep(0,390)\n",
    "x_G <- rep(0,390)\n",
    "v_G <- rep(0,390)\n",
    "\n",
    "sampled_prices <- prices[!duplicated(floor(cumsum(abs(volume))/min_volume_time))]\n",
    "v_A[1] <- A(X,0,390,X); x_A[1] <- X - v_A[1];\n",
    "v_G[1] <- G(X,0,390,X,s_0,s_0); x_G[1] <- X - v_G[1]\n",
    "\n",
    "\n",
    "curr_volume_time <- t * min_volume_time\n",
    "for (t in 2:389) {\n",
    "        v_A[t] <- A(x_A[t-1],t,390,X)\n",
    "        v_G[t] <- G(x_G[t-1],t,390,X,s_0,sampled_prices[t])\n",
    "        x_A[t] <- x_A[t-1] - v_A[t]\n",
    "        x_G[t] <- x_G[t-1] - v_G[t]\n",
    "}\n",
    "\n",
    "plot(v_A,xlab='Volume Time (minutes)',ylab='Trading rate',type='l',col='red')\n",
    "lines(v_G,type='l',add=TRUE,col='blue')\n",
    "legend(\"topright\",c(\"ABM\",\"GBM\"),lty=c(1,1),col=c(\"red\",\"blue\"))"
   ]
  },
  {
   "cell_type": "markdown",
   "metadata": {
    "deletable": true,
    "editable": true
   },
   "source": [
    "(b) Denote the corresponding position sizes by $x^A(t)$ and $x^G(t)$ respectively.  What is the maximum deviation of the two position sizes as a percentage of the initial position $X$?  How significant is this deviation?\n"
   ]
  },
  {
   "cell_type": "code",
   "execution_count": 10,
   "metadata": {
    "collapsed": false,
    "deletable": true,
    "editable": true
   },
   "outputs": [
    {
     "data": {
      "text/html": [
       "0.000383282989645636"
      ],
      "text/latex": [
       "0.000383282989645636"
      ],
      "text/markdown": [
       "0.000383282989645636"
      ],
      "text/plain": [
       "[1] 0.000383283"
      ]
     },
     "execution_count": 10,
     "metadata": {},
     "output_type": "execute_result"
    }
   ],
   "source": [
    "max_deviation <- max(abs(x_A-x_G))\n",
    "deviation_perc <- max_deviation / X\n",
    "deviation_perc\n"
   ]
  },
  {
   "cell_type": "markdown",
   "metadata": {
    "deletable": true,
    "editable": true
   },
   "source": [
    "## Kratz and Schöneborn with time-averaged VaR risk charge"
   ]
  },
  {
   "cell_type": "markdown",
   "metadata": {
    "deletable": true,
    "editable": true
   },
   "source": [
    "### 3. (12 points)\n",
    "\n",
    "(a) Repeat the computation of the optimal strategy from the lecture notes with time-averaged VaR\n",
    "\n",
    "$$\n",
    "\\lambda\\,\\sigma\\,\\int_0^T\\,x_t\\,dt\n",
    "$$\n",
    "\n",
    "as the risk term (rather than the quadratic variation $\\lambda\\,\\sigma^2\\,\\int_0^T\\,x_t^2\\,dt$).  Show that the optimal position\n",
    "\n",
    "$$\n",
    "x^\\star(t)=\\left(X-\\frac{A\\, T}{\\theta }\\right)\\,\\frac{1-e^{-\\theta\\,(T-t)} }{1-e^{-\\theta\\,T }}+\\frac{A }{\\theta }\\,(T-t)\n",
    "$$\n",
    "and deduce the optimal trading rate $v^\\star(t)$.\n",
    "\n"
   ]
  },
  {
   "cell_type": "markdown",
   "metadata": {
    "deletable": true,
    "editable": true
   },
   "source": [
    "#### solution\n",
    "The expected cost of liquidation with time-averaged VaR risk penalty is\n",
    "$$\n",
    "C(t) = \\eta \\mathbb{E}\\left[ \\int_t^T\\,\\dot x_u^2 + \\kappa x_u\\,du \\right]\n",
    "$$\n",
    "where $\\kappa := \\lambda\\sigma / \\eta$\n",
    "\n",
    "$$\n",
    "dC^C = \\eta (v_t^2 + \\kappa x_t)dt - v_t C_x dt\n",
    "$$\n",
    "\n",
    "Contribution from dark pool execution (if it occurs) is<br>\n",
    "$$\n",
    "dC^D = C(x_t - y_t) - C(x)\n",
    "$$\n",
    "\n",
    "\n",
    "Thus the HJB equation\n",
    "$$\n",
    "C_t + \\eta\\kappa x_t + \\min_{v,y \\in \\mathcal{G}} \\left\\{ -vC_x +\\eta v^2 + \\theta \\left[C(x_t-y_t)-C(x_t)\\right] \\right\\} = 0\n",
    "$$\n",
    "\n",
    "The y that minimizes $[C(x_t-y)-C(x_t)]$ is $y^\\star=x_t$ and  $v^\\star =\\frac{C_x}{2\\eta}$ \n",
    "\n",
    "$$\n",
    "C_t+\\eta\\kappa x_t-\\frac{C_x^2}{4\\eta}-\\theta C=0\n",
    "$$\n",
    "\n",
    "Since\n",
    "$$\\lim_{t\\uparrow T} C(t,x) = \\begin{cases}0&\\text{if $x=0$,}\\\\\n",
    "+\\infty&\\text{if $x\\neq0$.}\n",
    "\\end{cases}$$\n",
    "\n",
    "Again we use the ansatz $C(t,x) = a(t)x^2 + b(t)x + c(t)$, the pde becomes\n",
    "\n",
    "$$\n",
    "(a' \\,x^2 + b'\\,x + c') + \\lambda\\sigma x - \\frac{(2ax + b)^2}{4\\eta} - \\theta (ax^2 + bx + c) = 0\n",
    "$$\n",
    "\n",
    "so that\n",
    "\\begin{eqnarray*}\n",
    "x^2 &:& a' - \\frac{a^2}{\\eta} - \\theta a= 0, \\\\\n",
    "x &:& b' - \\frac{ab}{\\eta} + \\lambda\\sigma - \\theta b = 0, \\\\\n",
    "1 &:& c' - \\frac{b^2}{4\\eta} - \\theta c= 0.\n",
    "\\end{eqnarray*}\n",
    "\n",
    "The result is:\n",
    "\\begin{eqnarray*}\n",
    "&& a(t) = -\\frac{\\theta\\eta}{2} \\left(1-\\mbox{coth}(\\frac{\\theta}{2}(T-t))\\right), \\\\\n",
    "&& b(t) = \\frac{2A\\eta}{\\theta} + A\\eta (T-t) \\left(1-\\mbox{coth}(\\frac{\\theta}{2}(T-t))\\right), \\\\\n",
    "\\end{eqnarray*}\n",
    "\n",
    "since:\n",
    "$$\n",
    "v^\\star = \\frac{C_x}{2 \\eta} = \\frac{2ax + b}{2 \\eta}\n",
    "$$\n",
    "plug in a(t) and b(t)\n",
    "$$\n",
    "= \\frac{1}{2\\eta}\\left[ -2\\frac{\\theta\\eta}{2} \\left(1-\\mbox{coth}(\\frac{\\theta}{2}(T-t))\\right)\\cdot x + \\frac{2A\\eta}{\\theta} + A\\eta (T-t) \\left(1-\\mbox{coth}(\\frac{\\theta}{2}(T-t))\\right) \\right]\n",
    "$$\n",
    "\n",
    "Since $v^\\star = -\\frac{dx}{dt}$ and $x(0) = X$ so that \n",
    "$$\n",
    "x(t) = \\frac{A}{\\theta}(T-t) + \\left(X-\\frac{AT}{\\theta}\\right) \\frac{1-e^{-\\theta(T-t)}}{1-e^{-\\theta T}}\n",
    "$$\n",
    "\n"
   ]
  },
  {
   "cell_type": "markdown",
   "metadata": {
    "collapsed": true,
    "deletable": true,
    "editable": true
   },
   "source": [
    "(b) By Taylor-expanding the solution around $\\theta=0$, show that we retrieve the solution derived in the slides with no dark pool\n",
    "\n",
    "$$\n",
    "x^\\star(t)=\\left(X-\\frac{A \\, T}{2}\\,t\\right)\\,\\left(1-\\frac{t}{T}\\right) .\n",
    "$$\n",
    "\n",
    "in the limit $\\theta \\to 0$.\n"
   ]
  },
  {
   "cell_type": "markdown",
   "metadata": {
    "deletable": true,
    "editable": true
   },
   "source": [
    "#### solution\n",
    "From (a) \n",
    "$$\n",
    "x^\\star(t)=\\left(X-\\frac{A\\, T}{\\theta }\\right)\\,\\frac{1-e^{-\\theta\\,(T-t)} }{1-e^{-\\theta\\,T }}+\\frac{A }{\\theta }\\,(T-t)= X \\frac{1-e^{-\\theta(T-t)}}{1-e^{-\\theta T}} - A \\left(\\frac{T-t}{\\theta} - \\frac{T(1-e^{-\\theta(T-t)})}{\\theta(1-e^{-\\theta T})}\\right)\n",
    "$$\n",
    "\n",
    "for the first part use L'Hôpital's rule \n",
    "$$\n",
    "\\lim_{\\theta \\to 0} \\frac{1-e^{-\\theta\\,(T-t)} }{1-e^{-\\theta\\,T }} = \\lim_{\\theta \\to 0} \\frac{(T-t)e^{-\\theta\\,(T-t)} }{Te^{-\\theta\\,T }} \\mbox{(by l'Hôpital's rule)}= \\lim_{\\theta \\to 0} e^{\\theta t} - \\frac{t}{T} e^{-\\theta (T-t) + \\theta T} = 1 - \\frac{t}{T}\n",
    "$$\n",
    "\n",
    "for the second part use L'Hôpital's rule several times\n",
    "$$\n",
    "\\lim_{\\theta \\to 0} A \\left(\\frac{T-t}{\\theta} - \\frac{T(1-e^{-\\theta(T-t)})}{\\theta(1-e^{-\\theta T})} \\right) = \\lim_{\\theta \\to 0} A\\,\\left( \\frac{T\\,(e^{-\\theta(T-t)}-e^{-\\theta T}) - t(1-e^{-\\theta T})}{\\theta (1-e^{-\\theta T})}\\right)$$ $$=\\lim_{\\theta \\to 0} A\\,\\left( \\frac{T\\,(-(T-t)e^{-\\theta(T-t)}+Te^{-\\theta T}) - t(Te^{-\\theta T})}{1-e^{-\\theta T}+\\theta T (e^{-\\theta T})}\\right)=\\lim_{\\theta \\to 0} A\\,\\left( \\frac{T\\,((T-t)^2e^{-\\theta(T-t)}-T^2e^{-\\theta T}) + t T^2 e^{-\\theta T}}{2Te^{-\\theta T}-\\theta T^2 e^{-\\theta T}}\\right) \n",
    "$$\n",
    "\n",
    "$$\n",
    "= A\\, \\left(\\frac{t^2-tT}{2}\\right) = \\frac{At}{2} (t-T)\n",
    "$$\n",
    "\n",
    "So that\n",
    "$$\n",
    "x^\\star(t)=\\left(X-\\frac{A \\, T}{2}\\,t\\right)\\,\\left(1-\\frac{t}{T}\\right) .\n",
    "$$"
   ]
  }
 ],
 "metadata": {
  "kernelspec": {
   "display_name": "R",
   "language": "R",
   "name": "ir"
  },
  "language_info": {
   "codemirror_mode": "r",
   "file_extension": ".r",
   "mimetype": "text/x-r-source",
   "name": "R",
   "pygments_lexer": "r",
   "version": "3.3.2"
  }
 },
 "nbformat": 4,
 "nbformat_minor": 0
}
