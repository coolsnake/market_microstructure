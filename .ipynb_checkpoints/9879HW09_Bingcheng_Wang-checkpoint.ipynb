{
 "cells": [
  {
   "cell_type": "markdown",
   "metadata": {
    "deletable": true,
    "editable": true
   },
   "source": [
    "** Student name : Bingcheng Wang **"
   ]
  },
  {
   "cell_type": "markdown",
   "metadata": {
    "deletable": true,
    "editable": true
   },
   "source": [
    "# MTH9879 Homework 9\n",
    "\n",
    "Assigned: April 25, 2017.\n",
    "Due: May 9, 2017 by 6pm. \n",
    "\n",
    "Late homework **will not be accepted**.\n",
    "\n",
    "$$\n",
    "\\newcommand{\\supp}{\\mathrm{supp}}\n",
    "\\newcommand{\\E}{\\mathbb{E}}\n",
    "\\newcommand{\\Eof}[1]{\\mathbb{E}\\left[ #1 \\right]}\n",
    "\\def\\Cov{{ \\mbox{Cov} }}\n",
    "\\def\\Var{{ \\mbox{Var} }}\n",
    "\\newcommand{\\1}{\\mathbf{1} }\n",
    "\\newcommand{\\PP}{\\mathbb{P} }\n",
    "%\\newcommand{\\Pr}{\\mathrm{Pr} }\n",
    "\\newcommand{\\QQ}{\\mathbb{Q} }\n",
    "\\newcommand{\\RR}{\\mathbb{R} }\n",
    "\\newcommand{\\DD}{\\mathbb{D} }\n",
    "\\newcommand{\\HH}{\\mathbb{H} }\n",
    "\\newcommand{\\spn}{\\mathrm{span} }\n",
    "\\newcommand{\\cov}{\\mathrm{cov} }\n",
    "\\newcommand{\\sgn}{\\mathrm{sgn} }\n",
    "\\newcommand{\\HS}{\\mathcal{L}_{\\mathrm{HS}} }\n",
    "%\\newcommand{\\HS}{\\mathrm{HS} }\n",
    "\\newcommand{\\trace}{\\mathrm{trace} }\n",
    "\\newcommand{\\LL}{\\mathcal{L} }\n",
    "%\\newcommand{\\LL}{\\mathrm{L} }\n",
    "\\newcommand{\\s}{\\mathcal{S} }\n",
    "\\newcommand{\\ee}{\\mathcal{E} }\n",
    "\\newcommand{\\ff}{\\mathcal{F} }\n",
    "\\newcommand{\\hh}{\\mathcal{H} }\n",
    "\\newcommand{\\bb}{\\mathcal{B} }\n",
    "\\newcommand{\\dd}{\\mathcal{D} }\n",
    "\\newcommand{\\g}{\\mathcal{G} }\n",
    "\\newcommand{\\p}{\\partial}\n",
    "\\newcommand{\\half}{\\frac{1}{2} }\n",
    "\\newcommand{\\T}{\\mathcal{T} }\n",
    "\\newcommand{\\bi}{\\begin{itemize}}\n",
    "\\newcommand{\\ei}{\\end{itemize}}\n",
    "\\newcommand{\\beq}{\\begin{equation}}\n",
    "\\newcommand{\\eeq}{\\end{equation}}\n",
    "\\newcommand{\\beas}{\\begin{eqnarray*}}\n",
    "\\newcommand{\\eeas}{\\end{eqnarray*}}\n",
    "\\newcommand{\\cO}{\\mathcal{O}}\n",
    "\\newcommand{\\cC}{\\mathcal{C}}\n",
    "\\newcommand{\\cF}{\\mathcal{F}}\n",
    "\\newcommand{\\cL}{\\mathcal{L}}\n",
    "\\newcommand{\\BS}{\\text{BS}}\n",
    "$$"
   ]
  },
  {
   "cell_type": "markdown",
   "metadata": {
    "deletable": true,
    "editable": true
   },
   "source": [
    "<font color = \"red\">Homework is to be done by each student individually.  To receive full credit, you must email a completed copy of this iPython notebook to Victor Istratov (stavka@gmail.com), Yassine Ghalem (yassine.ghalem@gmail.com) and Jim Gatheral (jim.gatheral@gmail.com) by the due date and time.  All R-code must run correctly and solutions must be written up neatly in Markdown/LaTeX format.\n"
   ]
  },
  {
   "cell_type": "markdown",
   "metadata": {
    "deletable": true,
    "editable": true
   },
   "source": [
    "### 1. (20 points)\n",
    "Following Almgren and Chriss,  assume that the stock price $S_t$ evolves as\n",
    "\n",
    "$$\n",
    "dS_t = \\sigma\\,dZ_t\n",
    "$$\n",
    "\n",
    "and the price $\\tilde S_t$ at which we transact is given by\n",
    "\n",
    "$$\n",
    "\\tilde S_t = S_t - \\eta\\,v_t\n",
    "$$\n",
    "\n",
    "where $v_t:=-{\\dot x}_t$ is the rate of trading with $x_0 = X$ and $x_T = 0$.\n",
    "\n",
    "In the lecture notes, we showed that with a risk term that penalizes average VaR instead of variance, the risk-adjusted cost of trading associated with a given price path $\\{S_t\\}$ is given by\n",
    "\n",
    "$$\n",
    "C = \\int_0^T\\,(S_t - \\eta\\,v_t) \\,dx_t + \\lambda\\,\\sigma\\,\\int_0^T\\,x_t\\,dt\n",
    "$$\n",
    "\n",
    "for some price of risk $\\lambda$. We want to find a (possibly state-dependent) control $v_t$ that minimizes the expected cost $\\cC=\\E[C]$.\n",
    "\n",
    "(a) Apply the technique of integration by parts to simplify the term $\\int_0^T S_t dx_t$. Does the optimal strategy depend on the stock price $S_t$?  Why not?  Write down the HJB equation for the resulting problem.\n",
    "\n",
    "(b) Solve the first order condition to find the optimal trading rate $v^\\star$.    \n",
    "\n",
    "(c) Substitute $v^\\star$ back into the HJB equation to show that the value function $\\cC$ must satisfy\n",
    "$$\n",
    "\\cC_t = \\frac{\\cC_x^2}{4\\,\\eta\\,} - \\lambda \\sigma x.\n",
    "$$\n",
    "\n",
    "(d) With the terminal condition, \n",
    "\n",
    "$$\\lim_{t\\uparrow T}\\cC(t,x) = \\begin{cases}0&\\text{if $x=0$,}\\\\\n",
    "+\\infty&\\text{if $x\\neq0$.}\n",
    "\\end{cases}$$\n",
    "\n",
    "solve the HJB equaiton with the ansatz $\\cC(t,x) = \\eta\\,\\left[a(t)\\,x^2 + b(t)\\,x + c(t)\\right]$. Verify that the optimal trading rate is given by\n",
    "\n",
    "$$\n",
    "v^\\star = \\frac{x}{T-t} - \\frac{1}{4}\\, \\kappa \\, (T-t)\n",
    "$$\n",
    "\n",
    "with \n",
    "\n",
    "$$\n",
    "\\kappa = \\frac{\\lambda\\,\\sigma}{\\eta}.\n",
    "$$\n",
    "\n",
    "(e) Define the characteristic time $T^\\star$ as\n",
    "\n",
    "$$\n",
    "T^\\star=\\sqrt{\\frac{4\\,X}{\\kappa}}=\\sqrt{\\frac{4\\,\\eta\\,X}{\\lambda\\,\\sigma}}.\n",
    "$$\n",
    "\n",
    "\n",
    "Verify that the optimal trading strategy with liquidation horizon set to the characteristic time $T^\\star$ is given by\n",
    "\n",
    "$$\n",
    "\\begin{eqnarray*}\n",
    "x_t&=&X\\,\\left(1-\\frac{t}{T}\\right)^2.\n",
    "\\end{eqnarray*}\n",
    "$$\n"
   ]
  },
  {
   "cell_type": "markdown",
   "metadata": {
    "deletable": true,
    "editable": true
   },
   "source": [
    "<font color = blue>\n",
    "**Answer:**\n",
    "\n",
    "(a) \n",
    "\n",
    "from $dS_t = \\sigma\\,dZ_t$ we get $S_t - S_0 = \\sigma Z_t$, and thus\n",
    "\\begin{align*}\n",
    "    C &= \\int_0^T\\,(S_t - \\eta\\,v_t) \\,dx_t + \\lambda\\,\\sigma\\,\\int_0^T\\,x_t\\,dt \\\\\n",
    "    &= \\int_0^T\\,(S_0 + \\sigma Z_t - \\eta v_t) dx_t + \\lambda\\sigma\\int_0^T\\, x_t dt \\\\\n",
    "    &= S_0(x_T - x_0) + \\sigma\\left(Z_Tx_T - Z_0x_0 - \\int_0^T x_tdZ_t\\right) + \\int_0^T\\eta v_t^2dt + \\lambda\\sigma\\int_0^T x_t dt \\\\\n",
    "    &= -S_0X - \\sigma\\int_0^T x_tdZ_t + \\int_0^T(\\lambda \\sigma x_t + \\eta v_t^2)dt\n",
    "\\end{align*}\n",
    "\n",
    "i.e., $\\int_0^T S_t dx_t = -S_0X - \\sigma\\int_0^T x_tdZ_t$.\n",
    "\n",
    "So the optimal strategy is to minimize\n",
    "$$\n",
    "    \\cC=\\E[C] = -S_0X + \\E\\left[\\int_0^T(\\lambda \\sigma x_t + \\eta v_t^2)dt\\right]\n",
    "$$\n",
    "\n",
    "which does not depend on the stock price $S_t$, because $S_t$ is a martingale and the only term depending on the stock price $\\int_0^T S_t dx_t$ has been transformed to $-S_0X$ by expectation.\n",
    "\n",
    "The value function $J$ is defined by\n",
    "$$\n",
    "    J(t,\\, x) = \\min_{v_t\\in\\mathcal G_{[t, T]}} \\left\\{\\int_t^T(\\lambda \\sigma x_t + \\eta v_t^2) dt \\right\\}\n",
    "$$\n",
    "\n",
    "with $x_t =x$.\n",
    "\n",
    "The HJB equation reads\n",
    "$$\n",
    "    \\frac{\\partial J}{\\partial t} + \\lambda \\sigma x + \\min_{v\\in \\mathcal G}\\left\\{ \\eta v^2 - vJ_x \\right\\} = 0\n",
    "$$"
   ]
  },
  {
   "cell_type": "markdown",
   "metadata": {
    "deletable": true,
    "editable": true
   },
   "source": [
    "<font color = blue>\n",
    "(b)\n",
    "\n",
    "By minimize $\\eta v^2 - vJ_x$, we let $2\\eta v - J_x = 0$.\n",
    "\n",
    "The optimal choice of $v$ is\n",
    "$$ v^\\star = \\frac{J_x}{2\\eta} $$"
   ]
  },
  {
   "cell_type": "markdown",
   "metadata": {
    "deletable": true,
    "editable": true
   },
   "source": [
    "<font color = blue>\n",
    "(c)\n",
    "\n",
    "Substitute $v^\\star$ back to the HJB equation, we get\n",
    "$$\n",
    "    J_t -\\frac{1}{4\\eta} J_x^2 = -\\lambda \\sigma x\n",
    "$$\n",
    "\n",
    "The optimal value function $\\cC$ satisfies $\\cC_t = J_t$, $\\cC_x = J_x$, so the optimal value function $\\cC$ must satisfy\n",
    "$$\n",
    "\\cC_t = \\frac{\\cC_x^2}{4\\,\\eta\\,} - \\lambda \\sigma x.\n",
    "$$"
   ]
  },
  {
   "cell_type": "markdown",
   "metadata": {
    "deletable": true,
    "editable": true
   },
   "source": [
    "<font color = blue>\n",
    "(d)\n",
    "\n",
    "Let $\\cC(t,x) = \\eta\\,\\left[a(t)\\,x^2 + b(t)\\,x + c(t)\\right]$. And we substitute the guess solution into the PDE, we get\n",
    "$$\n",
    "    \\eta(a'-a^2)x^2 + (\\eta b'-\\eta ab+\\lambda \\sigma)x = \\frac{b^2\\eta}{4} - \\eta c'\n",
    "$$\n",
    "\n",
    "Since the right term does not include $x$, we let\n",
    "\\begin{align*}\n",
    "    a' - a^2 &= 0 \\\\\n",
    "    \\eta b' - \\eta ab + \\lambda\\sigma &= 0 \\\\\n",
    "    \\frac{b^2}{4} &= c'\n",
    "\\end{align*}\n",
    "\n",
    "By solving the first equation, we get $a(t) = \\frac{1}{M - t}$ where $M$ is a constant.\n",
    "\n",
    "Then the second equation becomes\n",
    "   $$ \\eta b' - \\frac{\\eta}{M-t}b+\\lambda\\sigma = 0,$$\n",
    "   \n",
    "thus the solution of $b$ is given by $b = A(t) (M-t)^{-1}$. Substitute this into the equation yields\n",
    "$$A' = -\\frac{\\lambda\\sigma(M-t)}{\\eta},$$\n",
    "\n",
    "so $A(t) = H + \\frac{\\lambda\\sigma}{2\\eta}(M-t)^{2}$, and $b = \\frac{H}{M-t} + \\frac{\\lambda\\sigma}{2\\eta}(M-t)$, where $H$ is a constant.\n",
    "\n",
    "From $\\cC(T, 0) = 0$, we get $c(T) = 0$. So $\\cC(T,x) = \\eta[a(T)x^2 + b(T)x]$, when $x\\neq 0$, this term goes to infinity. The only solution to make $a(T)$ or $b(T)$ infinity is by letting $M = T$.\n",
    "\n",
    "Thus\n",
    "\\begin{align*}\n",
    "    a(t) &= \\frac{1}{T-t} \\\\\n",
    "    b(t) &= \\frac{H}{T-t} + \\frac{\\lambda\\sigma}{2\\eta}(T-t)\n",
    "\\end{align*}\n",
    "\n",
    "We continue to substitute these $a(t)$ and $b(t)$ into the third equation, $\\frac{b^2}{4} = c'$, and get\n",
    "$$\n",
    "    4c' = \\frac{H^2}{(T-t)^2} + \\frac{\\lambda^2\\sigma^2}{4\\eta^2}(T-t)^2 + \\frac{H\\lambda\\sigma}{\\eta}\n",
    "$$\n",
    "\n",
    "The solution is\n",
    "$$\n",
    "    c = U + \\frac{H^2}{4(T-t)} - \\frac{\\lambda^2\\sigma^2}{48\\eta^2}(T-t)^2 + \\frac{H\\lambda\\sigma}{4\\eta}t\n",
    "$$\n",
    "\n",
    "where $U$ is a constant. To make $c(T) = 0$, we let $H=0$, $U = 0$, so\n",
    "$$\n",
    "    c(t) = - \\frac{\\lambda^2\\sigma^2}{48\\eta^2}(T-t)^2\n",
    "$$\n",
    "\n",
    "Therefore, the optimal value function $\\cC$ is\n",
    "$$\n",
    "    \\cC = \\eta\\left[\\frac{1}{T-t}x^2 + \\frac{\\lambda\\sigma}{2\\eta}(T-t) x - \\frac{\\lambda^2\\sigma^2}{48\\eta^2}(T-t)^2\\right]\n",
    "$$\n",
    "\n",
    "So\n",
    "$$\n",
    "    v^\\star = \\frac{\\cC_x}{2\\eta} = \\frac{x}{T-t} + \\frac{\\lambda\\sigma}{4\\eta}(T-t) = \\frac{x}{T-t} + \\frac{1}{4}\\, \\kappa \\, (T-t)\n",
    "$$\n",
    "\n",
    "with $\\kappa = \\frac{\\lambda\\,\\sigma}{\\eta}$."
   ]
  },
  {
   "cell_type": "markdown",
   "metadata": {
    "deletable": true,
    "editable": true
   },
   "source": [
    "<font color = blue>\n",
    "(e)\n",
    "\n",
    "By solving\n",
    "    $$-\\frac{dx}{dt} = \\frac{x}{T-t} + \\frac{1}{4}\\kappa(T-t) $$\n",
    "we get\n",
    "$$\n",
    "    x_t = (C-\\frac{1}{4}\\kappa t)(T-t)\n",
    "$$\n",
    "where $C$ is a constant.\n",
    "\n",
    "Since $x_0 = X$, then $C = \\frac{X}{T}$, so\n",
    "$$\n",
    "    x_t = \\left(\\frac{X}{T} - \\frac{1}{4}\\kappa t\\right)(T-t)\n",
    "$$\n",
    "\n",
    "Let $T=\\sqrt{\\frac{4\\,X}{\\kappa}}$, i.e. $\\kappa = \\frac{4X}{T^2}$, \n",
    "\n",
    "$$\n",
    "    x_t = \\left(\\frac{X}{T} - \\frac{Xt}{T^2}\\right)(T-t) = X\\left(1-\\frac{t}{T}\\right)^2\n",
    "$$"
   ]
  },
  {
   "cell_type": "markdown",
   "metadata": {
    "deletable": true,
    "editable": true
   },
   "source": [
    "## ABM and GBM"
   ]
  },
  {
   "cell_type": "markdown",
   "metadata": {
    "deletable": true,
    "editable": true
   },
   "source": [
    "### Download MSFT data"
   ]
  },
  {
   "cell_type": "code",
   "execution_count": 1,
   "metadata": {
    "collapsed": false,
    "deletable": true,
    "editable": true
   },
   "outputs": [
    {
     "name": "stderr",
     "output_type": "stream",
     "text": [
      "Loading required package: xts\n",
      "Loading required package: zoo\n",
      "\n",
      "Attaching package: ‘zoo’\n",
      "\n",
      "The following objects are masked from ‘package:base’:\n",
      "\n",
      "    as.Date, as.Date.numeric\n",
      "\n"
     ]
    }
   ],
   "source": [
    "library(highfrequency)\n",
    "download.file(url=\"http://mfe.baruch.cuny.edu/wp-content/uploads/2015/03/MSFT130311.rData_.zip\", destfile=\"MSFT130311.zip\")\n",
    "unzip(zipfile=\"MSFT130311.zip\")\n",
    "load(\"MSFT130311.rData\")"
   ]
  },
  {
   "cell_type": "code",
   "execution_count": 2,
   "metadata": {
    "collapsed": true,
    "deletable": true,
    "editable": true
   },
   "outputs": [],
   "source": [
    "library(repr)\n",
    "options(repr.plot.height=5)"
   ]
  },
  {
   "cell_type": "markdown",
   "metadata": {
    "deletable": true,
    "editable": true
   },
   "source": [
    "### 2. (8 points)\n",
    "\n",
    "Recall from the lecture slides that with time-averaged VaR as the risk penalty, and when the liquidation time $T$ is chosen to be the characteristic time, the optimal trading rate under ABM becomes\n",
    "\n",
    "$$\n",
    "v^A(t)= \\frac{x_t}{T-t}\\,+\\frac{X}{T}\\,\\left(1-\\frac t T\\right)\n",
    "$$\n",
    "\n",
    "and the optimal trading rate under GBM becomes\n",
    "\n",
    "$$\n",
    "v^G(t)= \\frac{x_t}{T-t}\\,+\\frac{X}{T}\\,\\frac{S_t}{S_0}\\,\\left(1-\\frac t T\\right).\n",
    "$$\n",
    "\n",
    "(a) The *msft.bats* dataset from *MSFT130311.rData* contains all trades on the BATS exchange on 11-Mar-2013.  One trading days has 390 minutes.  Sample the  *msft.bats* dataset evenly, roughly every minute of volume time.  Superimpose plots of the optimal strategy under ABM and GBM assuming liquidation takes place over one trading day.\n",
    "\n",
    "(b) Denote the corresponding position sizes by $x^A(t)$ and $x^G(t)$ respectively.  What is the maximum deviation of the two position sizes as a percentage of the initial position $X$?  How significant is this deviation?\n",
    "\n"
   ]
  },
  {
   "cell_type": "markdown",
   "metadata": {
    "deletable": true,
    "editable": true
   },
   "source": [
    "<font color = blue>\n",
    "**Answer:**\n",
    "\n",
    "(a) "
   ]
  },
  {
   "cell_type": "code",
   "execution_count": 3,
   "metadata": {
    "collapsed": false,
    "deletable": true,
    "editable": true
   },
   "outputs": [
    {
     "data": {
      "image/png": "[encoded data removed]",
      "text/plain": [
       "plot without title"
      ]
     },
     "metadata": {},
     "output_type": "display_data"
    },
    {
     "data": {
      "image/png": "[encoded data removed]",
      "text/plain": [
       "plot without title"
      ]
     },
     "metadata": {},
     "output_type": "display_data"
    }
   ],
   "source": [
    "X <- 10000\n",
    "T_liq <- 390\n",
    "\n",
    "msftdata <- msft130311.bats\n",
    "msftdata[,1] <- cumsum(abs(msftdata[,1]))\n",
    "d_volume <- msftdata[nrow(msftdata),1] / T_liq\n",
    "\n",
    "S_t <- NULL\n",
    "for(i in 1:T_liq) {\n",
    "  temp <- head(msftdata[msftdata[,1]>=d_volume*i,2],1)\n",
    "  S_t <- c(S_t,temp)\n",
    "}\n",
    "\n",
    "xA_t <- x <- X\n",
    "vA_t <- NULL\n",
    "for(t in 1:(T_liq-1)) {\n",
    "  vA <- x/(T_liq-t)+(X/T_liq)*(1-t/T_liq)\n",
    "  x <- x-vA\n",
    "  xA_t <- c(xA_t,x)\n",
    "  vA_t <- c(vA_t,vA)\n",
    "}\n",
    "vA_t <- c(vA_t,x)\n",
    "\n",
    "xG_t <- x <- X\n",
    "vG_t <- NULL\n",
    "for(t in 1:(T_liq-1)) {\n",
    "  vG <- x/(T_liq-t)+(X*S_t[t])/(T_liq*msftdata[1,2])*(1-t/T_liq)\n",
    "  x <- x-vG\n",
    "  xG_t <- c(xG_t,x)\n",
    "  vG_t <- c(vG_t,vG)\n",
    "}\n",
    "vG_t <- c(vG_t,x)\n",
    "\n",
    "plot(1:T_liq,vA_t,xlab=\"volume time\",ylab=\"trading rate\", col=\"red\", type=\"l\")\n",
    "lines(1:T_liq,vG_t,col=\"green\", type=\"l\")\n",
    "legend(\"bottomleft\",pch=-1,lty=1,col=c(\"red\",\"green\"),legend=c(\"ABM\",\"GBM\"))\n",
    "\n",
    "plot(1:T_liq,xA_t,xlab=\"volume time\",ylab=\"position size\", col=\"red\", type=\"l\")\n",
    "lines(1:T_liq,xG_t,col=\"green\", type=\"l\")\n",
    "legend(\"bottomleft\",pch=-1,lty=1,col=c(\"red\",\"green\"),legend=c(\"ABM\",\"GBM\"))"
   ]
  },
  {
   "cell_type": "markdown",
   "metadata": {
    "deletable": true,
    "editable": true
   },
   "source": [
    "<font color = blue>\n",
    "(b)"
   ]
  },
  {
   "cell_type": "code",
   "execution_count": 4,
   "metadata": {
    "collapsed": false,
    "deletable": true,
    "editable": true
   },
   "outputs": [
    {
     "data": {
      "text/html": [
       "0.0012352006490687"
      ],
      "text/latex": [
       "0.0012352006490687"
      ],
      "text/markdown": [
       "0.0012352006490687"
      ],
      "text/plain": [
       "[1] 0.001235201"
      ]
     },
     "metadata": {},
     "output_type": "display_data"
    }
   ],
   "source": [
    "max(abs(xA_t-xG_t) / X)"
   ]
  },
  {
   "cell_type": "markdown",
   "metadata": {
    "deletable": true,
    "editable": true
   },
   "source": [
    "<font color = blue>\n",
    "So the maximum deviation of the two position sizes as a percentage of the initial position X is\n",
    "\n",
    "$$\n",
    "0.1235\\%\n",
    "$$\n",
    "\n",
    "From this deviation we can see that the position sizes using ABM and GBM are almost the same."
   ]
  },
  {
   "cell_type": "markdown",
   "metadata": {
    "deletable": true,
    "editable": true
   },
   "source": [
    "## Kratz and Schöneborn with time-averaged VaR risk charge"
   ]
  },
  {
   "cell_type": "markdown",
   "metadata": {
    "deletable": true,
    "editable": true
   },
   "source": [
    "### 3. (12 points)\n",
    "\n",
    "(a) Repeat the computation of the optimal strategy from the lecture notes with time-averaged VaR\n",
    "\n",
    "$$\n",
    "\\lambda\\,\\sigma\\,\\int_0^T\\,x_t\\,dt\n",
    "$$\n",
    "\n",
    "as the risk term (rather than the quadratic variation $\\lambda\\,\\sigma^2\\,\\int_0^T\\,x_t^2\\,dt$).  Show that the optimal position\n",
    "\n",
    "$$\n",
    "x^\\star(t)=\\left(X-\\frac{A\\, T}{\\theta }\\right)\\,\\frac{1-e^{-\\theta\\,(T-t)} }{1-e^{-\\theta\\,T }}+\\frac{A }{\\theta }\\,(T-t)\n",
    "$$\n",
    "and deduce the optimal trading rate $v^\\star(t)$.\n",
    "\n",
    "(b) By Taylor-expanding the solution around $\\theta=0$, show that we retrieve the solution derived in the slides with no dark pool\n",
    "\n",
    "$$\n",
    "x^\\star(t)=\\left(X-\\frac{A \\, T}{2}\\,t\\right)\\,\\left(1-\\frac{t}{T}\\right) .\n",
    "$$\n",
    "\n",
    "in the limit $\\theta \\to 0$.\n"
   ]
  },
  {
   "cell_type": "markdown",
   "metadata": {
    "deletable": true,
    "editable": true
   },
   "source": [
    "<font color = blue>\n",
    "**Answer:**\n",
    "\n",
    "(a) \n",
    "\n",
    "The expected cost of liquidation is given by\n",
    "$$\n",
    "    \\cC = \\E\\int_t^T(\\eta v_t^2 + \\lambda\\sigma x_t)dt\n",
    "$$\n",
    "\n",
    "The corresponding HJB equation is\n",
    "$$\n",
    "    \\frac{\\partial \\cC}{\\partial t} + \\lambda\\sigma x_t + \\min_{v, y\\in \\mathcal G}\\left\\{ -v\\cC_x + \\eta v^2 + \\theta[\\cC(x_t -y) - \\cC(x_t)]\\right\\} = 0\n",
    "$$\n",
    "\n",
    "$y^\\star = x_t$, and the first order condition yields\n",
    "$$\n",
    "    v^\\star = \\frac{\\cC_x}{2\\eta}\n",
    "$$\n",
    "\n",
    "Then the HJB equation becomes\n",
    "$$\n",
    "    \\frac{\\partial \\cC}{\\partial t} + \\lambda\\sigma x -\\frac{\\cC_x^2}{4\\eta} - \\theta\\cC = 0\n",
    "$$\n",
    "\n",
    "with terminal condition\n",
    "\n",
    "$$\\lim_{t\\uparrow T}\\cC(t,x) = \\begin{cases}0&\\text{if $x=0$,}\\\\\n",
    "+\\infty&\\text{if $x\\neq0$.}\n",
    "\\end{cases}$$\n",
    "\n",
    "Let $\\cC(t,x) = a(t)\\,x^2 + b(t)\\,x + c(t)$, substitue into the HJB equation and we now need to solve\n",
    "\\begin{align*}\n",
    "    a' - \\frac{a^2}{\\eta} - \\theta a = 0 \\\\\n",
    "    b' - \\left(\\frac{a}{\\eta}+\\theta\\right) b + \\lambda\\sigma = 0 \\\\\n",
    "    c' - \\theta c -\\frac{b^2}{4\\eta} = 0\n",
    "\\end{align*}\n",
    "\n",
    "By solving the first ODE, we get\n",
    "$$\n",
    "    a(t) = \\frac{\\eta\\theta}{Me^{-\\theta t}-1}\n",
    "$$\n",
    "where $M$ is a constant.\n",
    "\n",
    "By solving the second ODE, we get\n",
    "$$\n",
    "    b(t) = \\frac{H+\\lambda\\sigma t}{Me^{-\\theta t}-1} + \\frac{\\lambda\\sigma M e^{-\\theta t}}{\\theta\\left(Me^{-\\theta t}-1 \\right)}\n",
    "$$\n",
    "\n",
    "Similar to Question 1, we want $a(T)$ or $b(T)$ goes to infinity, so $M = e^{\\theta T}$ \n",
    "\n",
    "Thus\n",
    "\\begin{align*}\n",
    "    a(t) &= \\frac{\\eta\\theta}{e^{\\theta(T-t)}-1} \\\\\n",
    "    b(t) &= \\frac{H+\\lambda\\sigma t}{e^{\\theta(T-t)}-1} + \\frac{\\lambda\\sigma e^{\\theta(T-t)}}{\\theta\\left(e^{\\theta(T-t)}-1 \\right)}\n",
    "\\end{align*}\n",
    "\n",
    "Since $c(T) = 0$, when $t\\to T$, \n",
    "$$    c'(T) = \\frac{b^2(T)}{4\\eta}$$\n",
    "\n",
    "should be a finite number, i.e.,\n",
    "$$\n",
    "    \\lim_{t\\to T}\\frac{\\theta H +\\theta \\lambda\\sigma t+\\lambda\\sigma e^{\\theta(T-t)}}{\\theta(e^{\\theta(T-t)}-1)}\n",
    "$$\n",
    "\n",
    "is a finite number. The only solution is $H = -\\frac{\\lambda\\sigma}{\\theta}-\\lambda\\sigma T$, and in that case $c'(T) = 0$ by using L'Hopital's rule.\n",
    "\n",
    "Therefore,\n",
    "\n",
    "$$\n",
    "    \\cC = \\frac{\\eta\\theta}{e^{\\theta(T-t)}-1} x^2 + \\left[\\frac{\\lambda\\sigma(t-T)}{e^{\\theta(T-t)}-1} + \\frac{\\lambda\\sigma}{\\theta}\\right] x + c(t)\n",
    "$$\n",
    "\n",
    "So\n",
    "$$\n",
    "    v^\\star = \\frac{\\theta}{e^{\\theta(T-t)}-1} x + \\frac{1}{2\\eta}\\left[\\frac{\\lambda\\sigma(t-T)}{e^{\\theta(T-t)}-1} + \\frac{\\lambda\\sigma}{\\theta}\\right]\n",
    "$$\n",
    "\n",
    "i.e., \n",
    "$$\n",
    "-\\frac{dx}{dt} = \\frac{\\theta}{e^{\\theta(T-t)}-1} x + \\frac{1}{2\\eta}\\left[\\frac{\\lambda\\sigma(t-T)}{e^{\\theta(T-t)}-1} + \\frac{\\lambda\\sigma}{\\theta}\\right]\n",
    "$$\n",
    "\n",
    "By solving this ODE, we let $A = \\frac{\\lambda\\sigma}{2\\eta}$, and by using $x_0 = X$, we get the solution\n",
    "\n",
    "$$\n",
    "x^\\star(t)=\\left(X-\\frac{A\\, T}{\\theta }\\right)\\,\\frac{1-e^{-\\theta\\,(T-t)} }{1-e^{-\\theta\\,T }}+\\frac{A }{\\theta }\\,(T-t)\n",
    "$$\n",
    "\n",
    "And \n",
    "$$ v^{\\star}(t) = -\\dot x^{\\star} = \\left(\\theta X - AT\\right)\\frac{e^{-\\theta(T-t)}}{1-e^{-\\theta T}} - \\frac{A}{\\theta}\n",
    "$$"
   ]
  },
  {
   "cell_type": "markdown",
   "metadata": {
    "deletable": true,
    "editable": true
   },
   "source": [
    "<font color = blue>\n",
    "\n",
    "(b)\n",
    "\n",
    "By using Taylor expansion to the first order, we get\n",
    "\\begin{align*}\n",
    "x^\\star (t) &= \\left(X-\\frac{A\\, T}{\\theta }\\right)\\,\\frac{1-e^{-\\theta\\,(T-t)} }{1-e^{-\\theta\\,T }}+\\frac{A }{\\theta }\\,(T-t) \\\\\n",
    "&\\approx \\left(\\frac{X\\theta - AT}{\\theta}\\right)\\frac{1-\\left(1-\\theta(T-t)+\\frac{\\theta^2(T-t)^2}{2}\\right)}{1-\\left(1-\\theta T+\\frac{\\theta^2T^2}{2}\\right)} + \\frac{A}{\\theta}(T-t) \\\\\n",
    "&=\\left(\\frac{X\\theta - AT}{\\theta}\\right)\\frac{(T-t)\\theta-\\frac{1}{2}(T-t)^2\\theta^2}{T\\theta - \\frac{1}{2}T^2\\theta^2}+\\frac{A }{\\theta }\\,(T-t) \\\\\n",
    "&= X \\frac{(T-t)-\\frac{1}{2}(T-t)^2\\theta}{T - \\frac{1}{2}T^2\\theta} - \\frac{AT(T-t)-\\frac{1}{2}AT(T-t)^2\\theta-A(T-t)(T-\\frac{1}{2}T^2\\theta)}{\\theta(T-\\frac{1}{2}T^2\\theta)} \\\\\n",
    "&=X \\frac{(T-t)-\\frac{1}{2}(T-t)^2\\theta}{T - \\frac{1}{2}T^2\\theta} - \\frac{\\frac{1}{2}AT(T-t)t}{T-\\frac{1}{2}T^2\\theta}\n",
    "\\end{align*}\n",
    "\n",
    "Thus\n",
    "\\begin{align*}\n",
    "\\lim_{\\theta\\to 0}x^\\star (t) &= \\frac{X(T-t)}{T} - \\frac{A(T-t)t}{2} \\\\\n",
    "&=\\left(X-\\frac{A \\, T}{2}\\,t\\right)\\,\\left(1-\\frac{t}{T}\\right)\n",
    "\\end{align*}"
   ]
  }
 ],
 "metadata": {
  "anaconda-cloud": {},
  "kernelspec": {
   "display_name": "R",
   "language": "R",
   "name": "ir"
  },
  "language_info": {
   "codemirror_mode": "r",
   "file_extension": ".r",
   "mimetype": "text/x-r-source",
   "name": "R",
   "pygments_lexer": "r",
   "version": "3.3.2"
  }
 },
 "nbformat": 4,
 "nbformat_minor": 0
}
