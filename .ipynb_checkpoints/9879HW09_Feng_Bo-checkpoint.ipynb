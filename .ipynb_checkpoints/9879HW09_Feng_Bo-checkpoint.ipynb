{
 "cells": [
  {
   "cell_type": "markdown",
   "metadata": {
    "deletable": true,
    "editable": true
   },
   "source": [
    "#### Bo Feng"
   ]
  },
  {
   "cell_type": "markdown",
   "metadata": {
    "deletable": true,
    "editable": true
   },
   "source": [
    "#<font color='blue'> Score: 36/36 </font>\n",
    "\n",
    "<font color='blue'>\n",
    "Please see the corresponding cells for comments (in blue) on each individual question, if there's any.\n",
    "</font>"
   ]
  },
  {
   "cell_type": "markdown",
   "metadata": {
    "deletable": true,
    "editable": true
   },
   "source": [
    "# MTH9879 Homework 9\n",
    "\n",
    "Assigned: April 21, 2015.\n",
    "Due: May 5, 2015 by 6pm. \n",
    "\n",
    "Late homework **will not be accepted**.\n",
    "\n",
    "$$\n",
    "\\newcommand{\\supp}{\\mathrm{supp}}\n",
    "\\newcommand{\\E}{\\mathbb{E}}\n",
    "\\newcommand{\\Eof}[1]{\\mathbb{E}\\left[ #1 \\right]}\n",
    "\\def\\Cov{{ \\mbox{Cov} }}\n",
    "\\def\\Var{{ \\mbox{Var} }}\n",
    "\\newcommand{\\1}{\\mathbf{1} }\n",
    "\\newcommand{\\PP}{\\mathbb{P} }\n",
    "%\\newcommand{\\Pr}{\\mathrm{Pr} }\n",
    "\\newcommand{\\QQ}{\\mathbb{Q} }\n",
    "\\newcommand{\\RR}{\\mathbb{R} }\n",
    "\\newcommand{\\DD}{\\mathbb{D} }\n",
    "\\newcommand{\\HH}{\\mathbb{H} }\n",
    "\\newcommand{\\spn}{\\mathrm{span} }\n",
    "\\newcommand{\\cov}{\\mathrm{cov} }\n",
    "\\newcommand{\\sgn}{\\mathrm{sgn} }\n",
    "\\newcommand{\\HS}{\\mathcal{L}_{\\mathrm{HS}} }\n",
    "%\\newcommand{\\HS}{\\mathrm{HS} }\n",
    "\\newcommand{\\trace}{\\mathrm{trace} }\n",
    "\\newcommand{\\LL}{\\mathcal{L} }\n",
    "%\\newcommand{\\LL}{\\mathrm{L} }\n",
    "\\newcommand{\\s}{\\mathcal{S} }\n",
    "\\newcommand{\\ee}{\\mathcal{E} }\n",
    "\\newcommand{\\ff}{\\mathcal{F} }\n",
    "\\newcommand{\\hh}{\\mathcal{H} }\n",
    "\\newcommand{\\bb}{\\mathcal{B} }\n",
    "\\newcommand{\\dd}{\\mathcal{D} }\n",
    "\\newcommand{\\g}{\\mathcal{G} }\n",
    "\\newcommand{\\p}{\\partial}\n",
    "\\newcommand{\\half}{\\frac{1}{2} }\n",
    "\\newcommand{\\T}{\\mathcal{T} }\n",
    "\\newcommand{\\bi}{\\begin{itemize}}\n",
    "\\newcommand{\\ei}{\\end{itemize}}\n",
    "\\newcommand{\\beq}{\\begin{equation}}\n",
    "\\newcommand{\\eeq}{\\end{equation}}\n",
    "\\newcommand{\\beas}{\\begin{eqnarray*}}\n",
    "\\newcommand{\\eeas}{\\end{eqnarray*}}\n",
    "\\newcommand{\\cO}{\\mathcal{O}}\n",
    "\\newcommand{\\cC}{\\mathcal{C}}\n",
    "\\newcommand{\\cF}{\\mathcal{F}}\n",
    "\\newcommand{\\cL}{\\mathcal{L}}\n",
    "\\newcommand{\\BS}{\\text{BS}}\n",
    "$$"
   ]
  },
  {
   "cell_type": "markdown",
   "metadata": {
    "deletable": true,
    "editable": true
   },
   "source": [
    "<font color = \"red\">Homework is to be done by each student individually.  To receive full credit, you must email a completed copy of this iPython notebook to Yu Gan (yugan323@gmail.com), Fubo Shi (fubo.shi.baruch@gmail.com), and Tai-Ho Wang (tai-ho.wang@baruch.cuny.edu) by the due date and time.  All R-code must run correctly and solutions must be written up neatly in Markdown/LaTeX format.\n",
    "\n",
    "<font color=\"blue\">If you encounter problems with Markdown/LaTeX or iPython notebook, please contact your TAs Yu Gan and/or Fubo Shi.\n"
   ]
  },
  {
   "cell_type": "markdown",
   "metadata": {
    "deletable": true,
    "editable": true
   },
   "source": [
    "### 1. (12 points) <font color='blue'> Score: 12/12 </font>\n",
    "Following Almgren and Chriss,  assume that the stock price $S_t$ evolves as\n",
    "\n",
    "$$\n",
    "dS_t = \\sigma\\,dZ_t\n",
    "$$\n",
    "\n",
    "and the price $\\tilde S_t$ at which we transact is given by\n",
    "\n",
    "$$\n",
    "\\tilde S_t = S_t - \\eta\\,v_t\n",
    "$$\n",
    "\n",
    "where $v_t:=-{\\dot x}_t$ is the rate of trading with $x_0 = X$ and $x_T = 0$.\n",
    "\n",
    "In the lecture slides, we showed that with a risk term that penalizes average VaR instead of variance, the risk-adjusted cost of trading associated with a given price path $\\{S_t\\}$ is given by\n",
    "\n",
    "$$\n",
    "C = \\int_0^T\\,(S_t - \\eta\\,v_t) dx_t + \\lambda\\,\\sigma\\,\\int_0^T\\,x_t\\,dt\n",
    "$$\n",
    "\n",
    "for some price of risk $\\lambda$. We want to find a (possibly state-dependent) control $v_t$ that minimizes the expected cost $\\cC=\\E[C]$.\n",
    "\n",
    "(a) Apply the technique of integration by parts to simplify the term $\\int_0^T S_t dx_t$. Write down the HJB equation for the resulting problem."
   ]
  },
  {
   "cell_type": "markdown",
   "metadata": {
    "deletable": true,
    "editable": true
   },
   "source": [
    "#### <font color = 'green'>Solution(a):"
   ]
  },
  {
   "cell_type": "markdown",
   "metadata": {
    "deletable": true,
    "editable": true
   },
   "source": [
    "\\begin{eqnarray*}\n",
    "\\cC &=& \\min_{v_t\\in\\mathcal G} \\E\\left[\\int_0^T\\,(S_t - \\eta\\,v_t) dx_t + \\lambda\\,\\sigma\\,\\int_0^T\\,x_t\\,dt\\,|\\,x_0 = X, S_0 = S\\right]\\\\\n",
    "&=& \\min_{v_t\\in\\mathcal G} \\left\\{\\E\\left[\\int_0^T\\,S_t dx_t \\right] - \\E\\left[\\int_0^T\\,\\eta\\,v_t dx_t\\right]+\\E\\left[\\lambda\\,\\sigma\\,\\int_0^T\\,x_t\\,dt\\,\\right]\\right\\}\n",
    "\\end{eqnarray*}"
   ]
  },
  {
   "cell_type": "markdown",
   "metadata": {
    "deletable": true,
    "editable": true
   },
   "source": [
    "FIRST TERM:\n",
    "\n",
    "\n",
    "Since\n",
    "$$\n",
    "\\int_0^T S_t\\,dx_t = S_t\\,x_t|_0^T - \\int_0^T x_t\\,dS_t = -XS -\\int_0^T\\sigma x_tdZ_t,\n",
    "$$\n",
    "we have\n",
    "$$\n",
    "\\E\\left[ \\int_0^T S_t\\,dx_t \\right] = -XS\n",
    "$$"
   ]
  },
  {
   "cell_type": "markdown",
   "metadata": {
    "deletable": true,
    "editable": true
   },
   "source": [
    "\\begin{eqnarray*}\n",
    "\\cC &=& \\min_{v_t\\in\\mathcal G} \\E\\left[\\int_0^T\\,(S_t - \\eta\\,v_t) dx_t + \\lambda\\,\\sigma\\,\\int_0^T\\,x_t\\,dt\\,\\middle|\\,x_0 = X, S_0 = S\\right]\\\\\n",
    "&=& -XS + \\min_{v_t\\in\\mathcal G} \\left\\{\\E\\left[ - \\int_0^T\\,\\eta\\,v_t dx_t + \\lambda\\,\\sigma\\,\\int_0^T\\,x_t\\,dt\\,\\middle|\\,x_0 = X, S_0 = S \\right]\\right\\}\\\\\n",
    "&=& -XS + \\min_{v_t\\in\\mathcal G} \\left\\{\\E\\left[\\int_0^T\\,\\eta\\,v_t^2 dt\\lambda\\,\\sigma\\,\\int_0^T\\,x_t\\,dt\\,\\middle|\\,x_0 = X, S_0 = S\\right]\\right\\}\n",
    "\\end{eqnarray*}"
   ]
  },
  {
   "cell_type": "markdown",
   "metadata": {
    "deletable": true,
    "editable": true
   },
   "source": [
    "We now have a deterministic optimal control problem to solve with value function\n",
    "$$\n",
    "\\tilde{C}(t,x) = \\min_{v_t\\in\\mathcal G} \\left\\{\\E\\left[\\int_0^T\\,\\eta\\,v_t^2 dt + \\lambda\\,\\sigma\\,\\int_0^T\\,x_t\\,dt\\,\\middle|\\,x_0 = X, S_0 = S\\right]\\right\\}\n",
    "$$"
   ]
  },
  {
   "cell_type": "markdown",
   "metadata": {
    "deletable": true,
    "editable": true
   },
   "source": [
    "The HJB equation then becomes\n",
    "$$\n",
    "\\frac{\\partial{\\tilde C}}{\\partial t} + \\lambda\\sigma x_t + \\min_{v_t\\in\\mathcal G} \\left\\{-\\tilde C_x v + \\eta v^2 \\right\\} = 0\n",
    "$$"
   ]
  },
  {
   "cell_type": "markdown",
   "metadata": {
    "deletable": true,
    "editable": true
   },
   "source": [
    "<font color = \"green\">End of Solution(a)"
   ]
  },
  {
   "cell_type": "markdown",
   "metadata": {
    "deletable": true,
    "editable": true
   },
   "source": [
    "(b) Solve the first order condition to find the optimal trading rate $v^\\star$.    "
   ]
  },
  {
   "cell_type": "markdown",
   "metadata": {
    "deletable": true,
    "editable": true
   },
   "source": [
    "#### <font color = \"green\"> Solution(b)"
   ]
  },
  {
   "cell_type": "markdown",
   "metadata": {
    "deletable": true,
    "editable": true
   },
   "source": [
    "The optimal trading rate $v^\\star$ can be found by taking first derivate of $(-\\tilde C_x v + \\eta v^2)$ w.r.t $v$, and set it to zero:\n",
    "$$\n",
    "-\\tilde C_x + 2\\eta v = 0.\n",
    "$$\n",
    "So\n",
    "$$\n",
    "v^\\star = \\frac{1}{2\\eta}\\tilde C_x.\n",
    "$$"
   ]
  },
  {
   "cell_type": "markdown",
   "metadata": {
    "deletable": true,
    "editable": true
   },
   "source": [
    "<font color = \"green\">End of Solution(b)"
   ]
  },
  {
   "cell_type": "markdown",
   "metadata": {
    "deletable": true,
    "editable": true
   },
   "source": [
    "(c) Substitute $v^\\star$ back into the HJB equation to show that the value function $\\cC$ must satisfy\n",
    "$$\n",
    "\\cC_t = \\frac{\\cC_x^2}{4\\,\\eta\\,} - \\lambda \\sigma x.\n",
    "$$"
   ]
  },
  {
   "cell_type": "markdown",
   "metadata": {
    "deletable": true,
    "editable": true
   },
   "source": [
    "#### <font color = \"green\"> Solution(c)"
   ]
  },
  {
   "cell_type": "markdown",
   "metadata": {
    "deletable": true,
    "editable": true
   },
   "source": [
    "Substitute $v^\\star$ back into the HJB equation, we get\n",
    "$$\n",
    "\\frac{\\partial{\\tilde C}}{\\partial t} + \\lambda\\sigma x_t + \\left\\{-\\tilde C_x \\cdot \\frac{1}{2\\eta}\\tilde C_x + \\eta \\cdot \\frac{1}{4\\eta^2}\\tilde C_x^2 \\right\\} = 0\n",
    "$$"
   ]
  },
  {
   "cell_type": "markdown",
   "metadata": {
    "deletable": true,
    "editable": true
   },
   "source": [
    "$$\n",
    "\\Rightarrow \\frac{\\partial{\\tilde C}}{\\partial t} + \\lambda\\sigma x_t - \\frac{1}{4\\eta}(\\tilde C_x)^2 = 0\n",
    "$$"
   ]
  },
  {
   "cell_type": "markdown",
   "metadata": {
    "deletable": true,
    "editable": true
   },
   "source": [
    "$$\n",
    "\\Rightarrow \\tilde C_t = \\frac{\\partial{\\tilde C}}{\\partial t} = \\frac{1}{4\\eta}(\\tilde C_x)^2 - \\lambda\\sigma x_t\n",
    "$$"
   ]
  },
  {
   "cell_type": "markdown",
   "metadata": {
    "deletable": true,
    "editable": true
   },
   "source": [
    "<font color = \"green\">End of Solution(c)"
   ]
  },
  {
   "cell_type": "markdown",
   "metadata": {
    "deletable": true,
    "editable": true
   },
   "source": [
    "(d) With the terminal condition, \n",
    "$$\\lim_{t\\uparrow T}\\cC(t,x) = \\begin{cases}0&\\text{if $x=0$,}\\\\\n",
    "+\\infty&\\text{if $x\\neq0$.}\n",
    "\\end{cases}$$\n",
    "solve the HJB equaiton with the ansatz $\\cC(t,x) = a(t)x^2 + b(t)x + c(t)$. Verify that the optimal trading strategy with liquidation horizon set to the characteristic time is given by\n",
    "\\begin{eqnarray*}\n",
    "x_t&=&X\\,\\left(1-\\frac{t}{T}\\right)^2.\n",
    "\\end{eqnarray*}\n",
    "Recall that with the notation of the lecture slides, the characteristic time is defined as\n",
    "$$\n",
    "T^\\star=\\sqrt{\\frac{2\\,X}{A}}=\\sqrt{\\frac{4\\,\\eta\\,X}{\\lambda\\,\\sigma}}\n",
    "$$\n",
    "Compute the risk-adjusted cost function $\\cC$ associated with this strategy. "
   ]
  },
  {
   "cell_type": "markdown",
   "metadata": {
    "deletable": true,
    "editable": true
   },
   "source": [
    "#### <font color = \"green\"> Solution(d)"
   ]
  },
  {
   "cell_type": "markdown",
   "metadata": {
    "deletable": true,
    "editable": true
   },
   "source": [
    "We know that\n",
    "$$\n",
    "x_t = X\\left( 1 - \\frac{t}{T}\\right)^2,\n",
    "$$\n",
    "so\n",
    "$$\n",
    "v_t = -\\dot{x}_t = \\frac{2X}{T}\\left( 1 - \\frac{t}{T}\\right),\n",
    "$$\n",
    "and\n",
    "$$\n",
    "v_t^2 = \\frac{4X^2}{T^2}\\left( 1 - \\frac{t}{T}\\right)^2 = \\frac{4X}{T^2}x_t = \\frac{\\lambda\\sigma}{\\eta} x_t,\n",
    "$$"
   ]
  },
  {
   "cell_type": "markdown",
   "metadata": {
    "deletable": true,
    "editable": true
   },
   "source": [
    "The cost function \n",
    "\\begin{eqnarray*}\n",
    "\\tilde{\\mathcal C}(t,x) &=& \\int_t^T \\eta\\,v_s^2\\,ds+\\lambda\\sigma\\int_t^T x_s\\,ds\n",
    "\\end{eqnarray*}"
   ]
  },
  {
   "cell_type": "markdown",
   "metadata": {
    "deletable": true,
    "editable": true
   },
   "source": [
    "The cost function \n",
    "\\begin{eqnarray*}\n",
    "\\tilde{\\mathcal C}(t,x) &=& \\int_t^T \\lambda\\sigma\\,x_s\\,ds+\\lambda\\sigma\\int_t^T x_s\\,ds\\\\\n",
    "&=& 2\\lambda\\sigma\\int_t^T X\\left( 1 - \\frac{s}{T}\\right)^2\\,ds\\\\\n",
    "&=& 2\\lambda\\sigma \\frac{XT}{3}\\left(1-\\frac{t}{T}\\right)^3\\\\\n",
    "&=& \\frac{2\\lambda\\sigma T x^{\\frac{3}{2}}}{3X^{\\frac{1}{2}}}\n",
    "\\end{eqnarray*}"
   ]
  },
  {
   "cell_type": "markdown",
   "metadata": {
    "deletable": true,
    "editable": true
   },
   "source": [
    "<font color = \"green\"> End of solution(d)"
   ]
  },
  {
   "cell_type": "markdown",
   "metadata": {
    "deletable": true,
    "editable": true
   },
   "source": [
    "## ABM and GBM"
   ]
  },
  {
   "cell_type": "markdown",
   "metadata": {
    "deletable": true,
    "editable": true
   },
   "source": [
    "### Set up R environment"
   ]
  },
  {
   "cell_type": "code",
   "execution_count": 1,
   "metadata": {
    "collapsed": false,
    "deletable": true,
    "editable": true
   },
   "outputs": [],
   "source": [
    "%load_ext rpy2.ipython"
   ]
  },
  {
   "cell_type": "code",
   "execution_count": 2,
   "metadata": {
    "collapsed": false,
    "deletable": true,
    "editable": true
   },
   "outputs": [
    {
     "data": {
      "text/plain": [
       "Loading required package: xts\n",
       "Loading required package: zoo\n",
       "\n",
       "Attaching package: ‘zoo’\n",
       "\n",
       "The following object is masked from ‘package:base’:\n",
       "\n",
       "    as.Date, as.Date.numeric\n",
       "\n",
       "trying URL 'http://mfe.baruch.cuny.edu/wp-content/uploads/2015/03/MSFT130311.rData_.zip'\n",
       "Content type 'application/zip' length 71919 bytes (70 Kb)\n",
       "opened URL\n",
       "==================================================\n",
       "downloaded 70 Kb\n",
       "\n"
      ]
     },
     "metadata": {},
     "output_type": "display_data"
    }
   ],
   "source": [
    "%%R\n",
    "library(highfrequency)\n",
    "download.file(url=\"http://mfe.baruch.cuny.edu/wp-content/uploads/2015/03/MSFT130311.rData_.zip\", destfile=\"MSFT130311.zip\")\n",
    "unzip(zipfile=\"MSFT130311.zip\")\n",
    "load(\"MSFT130311.rData\")"
   ]
  },
  {
   "cell_type": "code",
   "execution_count": 4,
   "metadata": {
    "collapsed": false,
    "deletable": true,
    "editable": true
   },
   "outputs": [
    {
     "data": {
      "text/plain": [
       "[1] \"msft130311.bats\" \"msft130311.both\" \"msft130311.inet\"\n"
      ]
     },
     "metadata": {},
     "output_type": "display_data"
    }
   ],
   "source": [
    "%%R\n",
    "ls()"
   ]
  },
  {
   "cell_type": "code",
   "execution_count": 5,
   "metadata": {
    "collapsed": false,
    "deletable": true,
    "editable": true
   },
   "outputs": [
    {
     "data": {
      "text/plain": [
       "  signed.shares trade.price\n",
       "1            35       27.95\n",
       "2           100       27.90\n",
       "3           900       27.91\n",
       "4           400       27.94\n",
       "5           100       27.94\n",
       "6           100       27.94\n",
       "  signed.shares trade.price\n",
       "1            35       27.95\n",
       "2           -40       27.91\n",
       "3        542309       27.91\n",
       "4           100       27.90\n",
       "5             2       27.94\n",
       "6           900       27.91\n",
       "  signed.shares trade.price\n",
       "1           -40       27.91\n",
       "2        542309       27.91\n",
       "3             2       27.94\n",
       "4            16       27.94\n",
       "5            84       27.94\n",
       "6          -900       27.91\n"
      ]
     },
     "metadata": {},
     "output_type": "display_data"
    }
   ],
   "source": [
    "%%R\n",
    "print(head(msft130311.bats))\n",
    "print(head(msft130311.both))\n",
    "print(head(msft130311.inet))"
   ]
  },
  {
   "cell_type": "markdown",
   "metadata": {
    "deletable": true,
    "editable": true
   },
   "source": [
    "### 2. (8 points) <font color='blue'> Score: 8/8 </font>\n",
    "\n",
    "Recall from the lecture slides that with time-averaged VaR as the risk penalty, and when the liquidation time $T$ is chosen to be the characteristic time, the optimal trading rate under ABM becomes\n",
    "\n",
    "$$\n",
    "v^A(t)= \\frac{x_t}{T-t}\\,+\\frac{X}{T}\\,\\left(1-\\frac t T\\right)\n",
    "$$\n",
    "\n",
    "and the optimal trading rate under GBM becomes\n",
    "\n",
    "$$\n",
    "v^G(t)= \\frac{x_t}{T-t}\\,+\\frac{X}{T}\\,\\frac{S_t}{S_0}\\,\\left(1-\\frac t T\\right).\n",
    "$$\n",
    "\n",
    "(a) The *msft.bats* dataset from *MSFT130311.rData* contains all trades on the BATS exchange on 11-Mar-2013.  One trading days has 390 minutes.  Sample the  *msft.bats* dataset evenly, roughly every minute of volume time.  Superimpose plots of the optimal strategy under ABM and GBM assuming liquidation takes place over one trading day."
   ]
  },
  {
   "cell_type": "code",
   "execution_count": 3,
   "metadata": {
    "collapsed": false,
    "deletable": true,
    "editable": true
   },
   "outputs": [
    {
     "data": {
      "image/png": "[encoded data removed]"
     },
     "metadata": {},
     "output_type": "display_data"
    }
   ],
   "source": [
    "%%R\n",
    "msftBatsData <- msft130311.bats\n",
    "\n",
    "# total trading time within one day\n",
    "T <- 390\n",
    "\n",
    "# initial position assumption:\n",
    "X <- 10000\n",
    "\n",
    "timeseq <- c(1:T)\n",
    "\n",
    "msftBatsData$sum <- cumsum(abs(msftBatsData$signed.shares))\n",
    "\n",
    "# total number of trades within one day\n",
    "numTrade <- length(msftBatsData$sum)\n",
    "\n",
    "# total volumn traded within one day\n",
    "totalVol <- msftBatsData$sum[numTrade]\n",
    "\n",
    "# evenly sampled trading sequence\n",
    "samplePts <- seq(1, totalVol, totalVol/T)\n",
    "\n",
    "# find the corresponding sample index in the origional data set\n",
    "index <- c(1:length(samplePts))\n",
    "\n",
    "j = 1\n",
    "for(i in 1:numTrade)\n",
    "{\n",
    "    if (msftBatsData$sum[i] > samplePts[j] && j <=390)\n",
    "    {\n",
    "        index[j] = i\n",
    "        j = j+1\n",
    "    }\n",
    "}\n",
    "\n",
    "# find the price series S_t, the first entry is S_0\n",
    "price <- msftBatsData[index, 'trade.price']\n",
    "S0 = price[1]\n",
    "\n",
    "#initialize position vector and trading rate vector\n",
    "xABM <- c(0:T)\n",
    "xGBM <- c(0:T)\n",
    "xABM[1] = X\n",
    "xGBM[1] = X\n",
    "\n",
    "rABM <- c(1:T) \n",
    "rGBM <- c(1:T) \n",
    "\n",
    "#calculating trading rate and positions\n",
    "for(t in 1:T){\n",
    "    rABM[t] = abs(xABM[t])/(T - t) + X / T * (1 - t/T)\n",
    "    xABM[t+1] = max(xABM[t] - rABM[t], 0)\n",
    "    \n",
    "    rGBM[t] = abs(xGBM[t])/(T - t) + X / T * price[t]/S0 * (1 - t/T)\n",
    "    xGBM[t+1] = max(xGBM[t] - rGBM[t], 0)\n",
    "}\n",
    "\n",
    "# plot the trading rate\n",
    "plot(timeseq, rABM, \n",
    "     main = \"Trading Rate under ABM and GBM assumption\", \n",
    "     xlab = \"Time\",\n",
    "     ylab = \"Trading Rate\",\n",
    "     col = \"red\", type = \"p\")\n",
    "lines(timeseq, rGBM, col = \"blue\", type = \"l\", lwd = 3)\n",
    "legend(\"topright\", \n",
    "       c(\"ABM\",\"GBM\"), \n",
    "       col = c(\"red\",\"blue\"), \n",
    "       lwd = 2, inset = 0.03)"
   ]
  },
  {
   "cell_type": "markdown",
   "metadata": {
    "deletable": true,
    "editable": true
   },
   "source": [
    "(b) Denote the corresponding position sizes by $x^A(t)$ and $x^G(t)$ respectively.  What is the maximum deviation of the two position sizes as a percentage of the initial position $X$?  How significant is this deviation?"
   ]
  },
  {
   "cell_type": "code",
   "execution_count": 4,
   "metadata": {
    "collapsed": false,
    "deletable": true,
    "editable": true
   },
   "outputs": [
    {
     "data": {
      "image/png": "[encoded data removed]"
     },
     "metadata": {},
     "output_type": "display_data"
    }
   ],
   "source": [
    "%%R\n",
    "# plot the position size\n",
    "plot(timeseq, xABM[-1], \n",
    "     main = \"Position at time t under ABM/GBM assumption\",\n",
    "     xlab = \"Time\",\n",
    "     ylab = \"Trading Position\",\n",
    "     col = \"red\", type = \"p\")\n",
    "lines(timeseq, xABM[-1], col = \"blue\", type = \"l\", lwd = 3)"
   ]
  },
  {
   "cell_type": "code",
   "execution_count": 5,
   "metadata": {
    "collapsed": false,
    "deletable": true,
    "editable": true
   },
   "outputs": [
    {
     "data": {
      "text/plain": [
       "[1] 0.1228432\n"
      ]
     },
     "metadata": {},
     "output_type": "display_data"
    },
    {
     "data": {
      "image/png": "[encoded data removed]"
     },
     "metadata": {},
     "output_type": "display_data"
    }
   ],
   "source": [
    "%%R\n",
    "# Calculate the deviation as percentage of initial position\n",
    "deviation <- sapply(timeseq, function(t)(xGBM[t] - xABM[t])/X*100)\n",
    "maxDev <- max(deviation)\n",
    "print(maxDev)\n",
    "plot(timeseq, deviation, \n",
    "     main=\"deviation of ABM and GBM as percentage of initial trading position\",\n",
    "     type = \"l\", col = \"blue\")"
   ]
  },
  {
   "cell_type": "markdown",
   "metadata": {
    "deletable": true,
    "editable": true
   },
   "source": [
    "The maximum deviation of the two position sizes as a percentage of the initial position $X$ is 0.123%, which is not significant."
   ]
  },
  {
   "cell_type": "markdown",
   "metadata": {
    "deletable": true,
    "editable": true
   },
   "source": [
    "## Kratz and Schöneborn with time-averaged VaR risk charge"
   ]
  },
  {
   "cell_type": "markdown",
   "metadata": {
    "deletable": true,
    "editable": true
   },
   "source": [
    "### 3. (16 points) <font color='blue'> Score: 16/16 </font>\n",
    "\n",
    "(a) Repeat the computation of the optimal strategy from the lecture slides with time-averaged VaR\n",
    "\n",
    "$$\n",
    "\\lambda\\,\\sigma\\,\\int_0^T\\,x_t\\,dt\n",
    "$$\n",
    "\n",
    "as the risk term (rather than the quadratic variation $\\lambda\\,\\sigma^2\\,\\int_0^T\\,x_t^2\\,dt$).  Show that the optimal position\n",
    "\n",
    "$$\n",
    "x^\\star(t)=\\left(X-\\frac{A\\, T}{\\theta }\\right)\\,\\frac{1-e^{-\\theta\\,(T-t)} }{1-e^{-\\theta\\,T }}+\\frac{A }{\\theta }\\,(T-t)\n",
    "$$\n",
    "and deduce the optimal trading rate $v^\\star(t)$."
   ]
  },
  {
   "cell_type": "markdown",
   "metadata": {
    "deletable": true,
    "editable": true
   },
   "source": [
    "#### <font color = \"green\">Solution(a)"
   ]
  },
  {
   "cell_type": "markdown",
   "metadata": {
    "deletable": true,
    "editable": true
   },
   "source": [
    "The expected cost of the strategy is:\n",
    "\\begin{eqnarray*}\n",
    "\\mathcal{C} &=& \\eta\\,\\E\\left[\\,\\int_0^T\\,({\\dot x}_t^2 + \\frac{\\lambda\\sigma}{\\eta}x_t) 1_{t < t*}\\,dt\\right]\\\\\n",
    "&=& \\eta\\,\\int_0^T\\,({\\dot x}_t^2 + \\frac{\\lambda\\sigma}{\\eta}x_t) e^{-\\theta t}\\,dt\n",
    "\\end{eqnarray*}\n",
    "\n",
    "The Euler-Lagrange equation corresponding to the above equation is \n",
    "$$\n",
    "\\frac{d}{dt}(2\\dot{x}_te^{-\\theta t}) - \\frac{\\lambda\\sigma}{\\eta}e^{-\\theta t} = 0.\n",
    "$$\n",
    "\n",
    "$$\n",
    "\\Rightarrow\\,\\, 2\\ddot{x}_t e^{-\\theta t} - 2\\theta\\dot{x}_te^{-\\theta t}- \\frac{\\lambda\\sigma}{\\eta}e^{-\\theta t} = 0\n",
    "$$\n",
    "\n",
    "$$\n",
    "\\Rightarrow\\,\\, \\ddot{x}_t - \\theta\\dot{x}_t - \\frac{\\lambda\\sigma}{2\\eta} = 0\n",
    "$$"
   ]
  },
  {
   "cell_type": "markdown",
   "metadata": {
    "deletable": true,
    "editable": true
   },
   "source": [
    "The boundary conditions are $X_0 = X$, and $X_T = 0$. \n",
    "\n",
    "Let $A = \\frac{\\lambda\\sigma}{2\\eta}$. Solving the ODE gives us the optimal position:\n",
    "$$\n",
    "x^\\star(t)=\\left(X-\\frac{A\\, T}{\\theta }\\right)\\,\\frac{1-e^{-\\theta\\,(T-t)} }{1-e^{-\\theta\\,T }}+\\frac{A }{\\theta }\\,(T-t)\n",
    "$$\n"
   ]
  },
  {
   "cell_type": "markdown",
   "metadata": {
    "deletable": true,
    "editable": true
   },
   "source": [
    "The optimal trading rate is therefore\n",
    "$$\n",
    "v^\\star(t)= -\\dot x^\\star(t) = \\theta(X-\\frac{AT}{\\theta})\\frac{e^{-\\theta(T-t)}}{1-e^{-\\theta T}} + \\frac{A}{\\theta}.\n",
    "$$"
   ]
  },
  {
   "cell_type": "markdown",
   "metadata": {
    "deletable": true,
    "editable": true
   },
   "source": [
    "<font color = \"green\"> End of solution(a)"
   ]
  },
  {
   "cell_type": "markdown",
   "metadata": {
    "deletable": true,
    "editable": true
   },
   "source": [
    "(b) By Taylor-expanding the solution around $\\theta=0$, show that we retrieve the solution derived in the slides with no dark pool\n",
    "\n",
    "$$\n",
    "x^\\star(t)=\\left(X-\\frac{A \\, T}{2}\\,t\\right)\\,\\left(1-\\frac{t}{T}\\right) .\n",
    "$$\n",
    "\n",
    "in the limit $\\theta \\to 0$."
   ]
  },
  {
   "cell_type": "markdown",
   "metadata": {
    "deletable": true,
    "editable": true
   },
   "source": [
    "#### <font color = \"green\">Solution(b)"
   ]
  },
  {
   "cell_type": "markdown",
   "metadata": {
    "deletable": true,
    "editable": true
   },
   "source": [
    "By Taylor-expanding the solution around $\\theta = 0$, we could get\n",
    "\\begin{eqnarray*}\n",
    "x^\\star(t) &=& \\left(X-\\frac{A\\, T}{\\theta }\\right)\\,\\frac{1-e^{-\\theta\\,(T-t)} }{1-e^{-\\theta\\,T }}+\\frac{A }{\\theta }\\,(T-t)\\\\\n",
    "&\\approx& \\left(X-\\frac{A\\, T}{\\theta }\\right)\\,\\frac{(T-t)\\theta-\\frac{1}{2}(T-t)^2\\theta^2}{T\\theta - \\frac{1}{2}T^2\\theta^2}+\\frac{A }{\\theta }\\,(T-t)\\\\\n",
    "&=& \\left(X-\\frac{A\\, T}{\\theta }\\right)\\,\\frac{(T-t)-\\frac{1}{2}(T-t)^2\\theta}{T - \\frac{1}{2}T^2\\theta}+\\frac{A }{\\theta }\\,(T-t)\\\\\n",
    "& \\approx & X\\frac{T-t}{T} - A(T-t)\\left[\\frac{1-\\frac{1}{2}(T-t)\\theta}{\\theta(1-\\frac{1}{2}T\\theta)} - \\frac{1}{\\theta}\\right]\\\\\n",
    "&=& X\\frac{T-t}{T} - A(T-t)\\left[\\frac{\\frac{1}{2}t\\theta}{\\theta-\\frac{1}{2}T\\theta^2} \\right]\\\\\n",
    "&=& X\\frac{T-t}{T} - A(T-t)\\left[\\frac{\\frac{1}{2}t}{1-\\frac{1}{2}T\\theta} \\right]\\\\\n",
    "&\\approx& X\\frac{T-t}{T} - \\frac{A(T-t)t}{2}\\\\\n",
    "&=& \\left(X-\\frac{AT}{2}t \\right)\\,\\left(1-\\frac{t}{T} \\right)\n",
    "\\end{eqnarray*}"
   ]
  },
  {
   "cell_type": "markdown",
   "metadata": {
    "deletable": true,
    "editable": true
   },
   "source": [
    "<font color = \"green\"> End of solution(b)"
   ]
  }
 ],
 "metadata": {
  "kernelspec": {
   "display_name": "Python 2",
   "language": "python",
   "name": "python2"
  },
  "language_info": {
   "codemirror_mode": {
    "name": "ipython",
    "version": 2
   },
   "file_extension": ".py",
   "mimetype": "text/x-python",
   "name": "python",
   "nbconvert_exporter": "python",
   "pygments_lexer": "ipython2",
   "version": "2.7.12"
  }
 },
 "nbformat": 4,
 "nbformat_minor": 0
}
