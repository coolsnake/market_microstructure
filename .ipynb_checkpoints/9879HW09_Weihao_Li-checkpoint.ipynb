{
 "cells": [
  {
   "cell_type": "markdown",
   "metadata": {},
   "source": [
    "#### Weihao Li"
   ]
  },
  {
   "cell_type": "markdown",
   "metadata": {},
   "source": [
    "# MTH9879 Homework 9\n",
    "\n",
    "Assigned: April 25, 2017.\n",
    "Due: May 9, 2017 by 6pm. \n",
    "\n",
    "Late homework **will not be accepted**.\n",
    "\n",
    "$$\n",
    "\\newcommand{\\supp}{\\mathrm{supp}}\n",
    "\\newcommand{\\E}{\\mathbb{E}}\n",
    "\\newcommand{\\Eof}[1]{\\mathbb{E}\\left[ #1 \\right]}\n",
    "\\def\\Cov{{ \\mbox{Cov} }}\n",
    "\\def\\Var{{ \\mbox{Var} }}\n",
    "\\newcommand{\\1}{\\mathbf{1} }\n",
    "\\newcommand{\\PP}{\\mathbb{P} }\n",
    "%\\newcommand{\\Pr}{\\mathrm{Pr} }\n",
    "\\newcommand{\\QQ}{\\mathbb{Q} }\n",
    "\\newcommand{\\RR}{\\mathbb{R} }\n",
    "\\newcommand{\\DD}{\\mathbb{D} }\n",
    "\\newcommand{\\HH}{\\mathbb{H} }\n",
    "\\newcommand{\\spn}{\\mathrm{span} }\n",
    "\\newcommand{\\cov}{\\mathrm{cov} }\n",
    "\\newcommand{\\sgn}{\\mathrm{sgn} }\n",
    "\\newcommand{\\HS}{\\mathcal{L}_{\\mathrm{HS}} }\n",
    "%\\newcommand{\\HS}{\\mathrm{HS} }\n",
    "\\newcommand{\\trace}{\\mathrm{trace} }\n",
    "\\newcommand{\\LL}{\\mathcal{L} }\n",
    "%\\newcommand{\\LL}{\\mathrm{L} }\n",
    "\\newcommand{\\s}{\\mathcal{S} }\n",
    "\\newcommand{\\ee}{\\mathcal{E} }\n",
    "\\newcommand{\\ff}{\\mathcal{F} }\n",
    "\\newcommand{\\hh}{\\mathcal{H} }\n",
    "\\newcommand{\\bb}{\\mathcal{B} }\n",
    "\\newcommand{\\dd}{\\mathcal{D} }\n",
    "\\newcommand{\\g}{\\mathcal{G} }\n",
    "\\newcommand{\\p}{\\partial}\n",
    "\\newcommand{\\half}{\\frac{1}{2} }\n",
    "\\newcommand{\\T}{\\mathcal{T} }\n",
    "\\newcommand{\\bi}{\\begin{itemize}}\n",
    "\\newcommand{\\ei}{\\end{itemize}}\n",
    "\\newcommand{\\beq}{\\begin{equation}}\n",
    "\\newcommand{\\eeq}{\\end{equation}}\n",
    "\\newcommand{\\beas}{\\begin{eqnarray*}}\n",
    "\\newcommand{\\eeas}{\\end{eqnarray*}}\n",
    "\\newcommand{\\cO}{\\mathcal{O}}\n",
    "\\newcommand{\\cC}{\\mathcal{C}}\n",
    "\\newcommand{\\cF}{\\mathcal{F}}\n",
    "\\newcommand{\\cL}{\\mathcal{L}}\n",
    "\\newcommand{\\BS}{\\text{BS}}\n",
    "$$"
   ]
  },
  {
   "cell_type": "markdown",
   "metadata": {
    "deletable": true,
    "editable": true
   },
   "source": [
    "<font color = \"red\">Homework is to be done by each student individually.  To receive full credit, you must email a completed copy of this iPython notebook to Victor Istratov (stavka@gmail.com), Yassine Ghalem (yassine.ghalem@gmail.com) and Jim Gatheral (jim.gatheral@gmail.com) by the due date and time.  All R-code must run correctly and solutions must be written up neatly in Markdown/LaTeX format.\n"
   ]
  },
  {
   "cell_type": "markdown",
   "metadata": {
    "deletable": true,
    "editable": true
   },
   "source": [
    "### 1. (20 points)\n",
    "Following Almgren and Chriss,  assume that the stock price $S_t$ evolves as\n",
    "\n",
    "$$\n",
    "dS_t = \\sigma\\,dZ_t\n",
    "$$\n",
    "\n",
    "and the price $\\tilde S_t$ at which we transact is given by\n",
    "\n",
    "$$\n",
    "\\tilde S_t = S_t - \\eta\\,v_t\n",
    "$$\n",
    "\n",
    "where $v_t:=-{\\dot x}_t$ is the rate of trading with $x_0 = X$ and $x_T = 0$.\n",
    "\n",
    "In the lecture notes, we showed that with a risk term that penalizes average VaR instead of variance, the risk-adjusted cost of trading associated with a given price path $\\{S_t\\}$ is given by\n",
    "\n",
    "$$\n",
    "C = \\int_0^T\\,(S_t - \\eta\\,v_t) \\,dx_t + \\lambda\\,\\sigma\\,\\int_0^T\\,x_t\\,dt\n",
    "$$\n",
    "\n",
    "for some price of risk $\\lambda$. We want to find a (possibly state-dependent) control $v_t$ that minimizes the expected cost $\\cC=\\E[C]$.\n",
    "\n",
    "(a) Apply the technique of integration by parts to simplify the term $\\int_0^T S_t dx_t$. Does the optimal strategy depend on the stock price $S_t$?  Why not?  Write down the HJB equation for the resulting problem.\n",
    "\n",
    "(b) Solve the first order condition to find the optimal trading rate $v^\\star$.    \n",
    "\n",
    "(c) Substitute $v^\\star$ back into the HJB equation to show that the value function $\\cC$ must satisfy\n",
    "$$\n",
    "\\cC_t = \\frac{\\cC_x^2}{4\\,\\eta\\,} - \\lambda \\sigma x.\n",
    "$$\n",
    "\n",
    "(d) With the terminal condition, \n",
    "\n",
    "$$\\lim_{t\\uparrow T}\\cC(t,x) = \\begin{cases}0&\\text{if $x=0$,}\\\\\n",
    "+\\infty&\\text{if $x\\neq0$.}\n",
    "\\end{cases}$$\n",
    "\n",
    "solve the HJB equaiton with the ansatz $\\cC(t,x) = \\eta\\,\\left[a(t)\\,x^2 + b(t)\\,x + c(t)\\right]$. Verify that the optimal trading rate is given by\n",
    "\n",
    "$$\n",
    "v^\\star = \\frac{x}{T-t} - \\frac{1}{4}\\, \\kappa \\, (T-t)\n",
    "$$\n",
    "\n",
    "with \n",
    "\n",
    "$$\n",
    "\\kappa = \\frac{\\lambda\\,\\sigma}{\\eta}.\n",
    "$$\n",
    "\n",
    "(e) Define the characteristic time $T^\\star$ as\n",
    "\n",
    "$$\n",
    "T^\\star=\\sqrt{\\frac{4\\,X}{\\kappa}}=\\sqrt{\\frac{4\\,\\eta\\,X}{\\lambda\\,\\sigma}}.\n",
    "$$\n",
    "\n",
    "\n",
    "Verify that the optimal trading strategy with liquidation horizon set to the characteristic time $T^\\star$ is given by\n",
    "\n",
    "$$\n",
    "\\begin{eqnarray*}\n",
    "x_t&=&X\\,\\left(1-\\frac{t}{T}\\right)^2.\n",
    "\\end{eqnarray*}\n",
    "$$\n"
   ]
  },
  {
   "cell_type": "markdown",
   "metadata": {
    "deletable": true,
    "editable": true
   },
   "source": [
    "#### Solution (a):\n",
    "* By assumption  $dS_t = \\sigma\\,dZ_t$, we can deduce $S_T - S_0 = \\sigma\\,Z_T$, and from the model, we have $v_t = v_t\\,d t$\n",
    "\\begin{align}\n",
    "C &= \\int_0^T\\,(S_0 + \\sigma\\,Z_t - \\eta\\,v_t) \\,dx_t + \\lambda\\,\\sigma\\,\\int_0^T\\,x_t\\,dt\\\\\n",
    "  &= S_0(x_T - x_o) + \\sigma(Z_T\\,x_T - Z_0-x_0 -\\int_0^T\\,x_t dZ_t )  + \\int_0^T\\, \\eta\\,v_t^2 \\,dt + \\lambda\\,\\sigma\\,\\int_0^T\\,x_t\\,dt\\\\\n",
    "  &= -S_0\\,X - \\sigma\\int_0^Tx_t dZ_t  + \\int_0^T\\,(\\eta\\,v_t^2 +\\lambda\\,\\sigma\\, x_t\\ )\\,dt\n",
    "\\end{align}\n",
    "By comparing with the first equation, we got:\n",
    "$$\n",
    "\\int_0^T\\,S_t dx_t= -S_0\\,X - \\sigma\\int_0^Tx_t dZ_t \n",
    "$$\n",
    "So what we are trying to minimize is \n",
    "$$E(C) = -S_T X +E( \\int_0^T\\,(\\eta\\,v_t^2 +\\lambda\\,\\sigma\\, x_t\\ )\\,dt)$$\n",
    "The expectation term we are trying to minimize, as we can see, is not depended on $S_T$\n",
    "And the value function reads:\n",
    "$$\n",
    "    J(t,\\, x) = \\min_{v_t\\in\\mathcal G_{[t, T]}} \\left\\{\\int_t^T(\\lambda \\sigma x_t + \\eta v_t^2) dt \\right\\}\n",
    "$$\n",
    "And the HJB will give us :\n",
    "$$\n",
    "    \\frac{\\partial J}{\\partial t} + \\lambda \\sigma x + \\min_{v\\in \\mathcal G}\\left\\{ \\eta v^2 - vJ_x \\right\\} = 0\n",
    "$$"
   ]
  },
  {
   "cell_type": "markdown",
   "metadata": {},
   "source": [
    "(b) \n",
    "We want to have $$\\min_{v\\in \\mathcal G}\\left\\{ \\eta v^2 - vJ_x \\right\\}$$ \n",
    "Taking derivitive with respect to v, we have $$2\\eta\\,v - J_x = 0$$\n",
    "$$v^\\star =\\frac{J_x}{2\\eta} $$\n"
   ]
  },
  {
   "cell_type": "markdown",
   "metadata": {},
   "source": [
    "(c)\n",
    "Plug $$v^\\star =\\frac{J_x}{2\\eta} $$ into HJB\n",
    "\n",
    "$$J_t  - \\frac{1}{4\\eta}J_x^2= - \\lambda \\sigma\\,x$$\n",
    "In optimization, we have $C_t = J_t$ and $C_x = J_x$\n",
    "$$\n",
    "C_t = \\frac{1}{4\\eta}C_x^2 - \\lambda \\sigma\\,x\n",
    "$$"
   ]
  },
  {
   "cell_type": "markdown",
   "metadata": {},
   "source": [
    "(d)\n",
    "* \n",
    " First,let's make a guess :$$\\cC(t,x) = \\eta\\,(a(t)\\,x^2 + b(t)\\,x + c(t))$$. \n",
    " Thus,by calculating \n",
    " $C_t$ and $C_x$, rearranging terms from last question, we get:\n",
    "$$\n",
    "    \\eta(a(t)'-a(t)^2)x^2 + (\\eta b(t)'-\\eta a(t)b(t)+\\lambda \\sigma)x = \\frac{b(t)^2\\eta}{4} - \\eta c(t)'\n",
    "$$\n",
    "* we now compare term by term: \n",
    "* (1) quandratic term:\n",
    "\\begin{align}\n",
    "\\eta(a(t)'-a(t)^2)x^2 &= 0\\\\\n",
    "(a(t)'-a(t)^2)&= 0\\\\\n",
    "a(t)   &= \\frac{1}{M - t}\n",
    "\\end{align}\n",
    "M is a constant\n",
    "* (2) linear term:\n",
    "\\begin{align}\n",
    "    \\eta b(t)' - \\eta ab + \\lambda\\sigma &= 0 \\\\\n",
    "    \\eta b(t)' - \\frac{\\eta}{M-t}b+\\lambda\\sigma &= 0\\\\\n",
    "\\end{align}\n",
    "\n",
    "\n",
    "\n",
    "\n",
    "Then the second equation becomes\n",
    "   $$ \\eta b(t)' - \\frac{\\eta}{M-t}b(t)+\\lambda\\sigma = 0,$$\n",
    "solve it, we have:$$b(t) = \\frac{H}{M-t} + \\frac{\\lambda\\sigma}{2\\eta}(M-t)$$\n",
    "where $H$ is a constant.\n",
    "\n",
    "Testing with limit condition, we found that $M = T$\n",
    "Thus\n",
    "\\begin{align}\n",
    "    a(t) &= \\frac{1}{T-t} \\\\\n",
    "    b(t) &= \\frac{H}{T-t} + \\frac{\\lambda\\sigma}{2\\eta}(T-t)\n",
    "\\end{align}\n",
    "\n",
    "* (3) Solving constant term:\n",
    "$$\n",
    "\\frac{b(t)^2}{4} = c(t)'\n",
    "$$\n",
    "\n",
    "* Since $c(T) = 0$, we have $ U = 0$ and $H = 0$,We will have:\n",
    "\n",
    "\n",
    "\n",
    "$$\n",
    "    c(t) =  -\\frac{\\lambda^2\\sigma^2}{48\\eta^2}(T-t)^3\n",
    "$$\n",
    "\n",
    "Finally\n",
    "$$\n",
    "    \\cC = \\eta[\\frac{1}{T-t}x^2 + \\frac{\\lambda\\sigma}{2\\eta}(T-t) x - \\frac{\\lambda^2\\sigma^2}{48\\eta^2}(T-t)^3]\n",
    "$$\n",
    "\n",
    "So\n",
    "$$\n",
    "    v^\\star = \\frac{\\cC_x}{2\\eta}  = \\frac{x}{T-t} + \\frac{1}{4}\\, \\kappa \\, (T-t)\n",
    "$$\n",
    "and $\\kappa = \\frac{\\lambda\\,\\sigma}{\\eta}$.\n",
    "(The equation in question is Wrong)\n"
   ]
  },
  {
   "cell_type": "markdown",
   "metadata": {},
   "source": [
    "(e)\n",
    "Use equation in (d)\n",
    "$$\n",
    "    v^\\star = \\frac{x}{T-t} + \\frac{1}{4}\\, \\kappa \\, (T-t)\n",
    "$$\n",
    "$$\n",
    "    -\\frac{dx}{dt}  = \\frac{x}{T-t} + \\frac{1}{4}\\, \\kappa \\, (T-t)\n",
    "$$\n",
    "\n",
    "As condition provided $x_0 = X$,  $C = \\frac{X}{T}$, We have\n",
    "$$\n",
    "    x_t = \\left(\\frac{X}{T} - \\frac{1}{4}\\kappa t\\right)(T-t)\n",
    "$$\n",
    "\n",
    "With $T^\\star=\\sqrt{\\frac{4\\,X}{\\kappa}}$, we will have\n",
    "\n",
    "$$\n",
    "    x_t  = X(1-\\frac{t}{T})^2\n",
    "$$"
   ]
  },
  {
   "cell_type": "markdown",
   "metadata": {
    "deletable": true,
    "editable": true
   },
   "source": [
    "## ABM and GBM"
   ]
  },
  {
   "cell_type": "markdown",
   "metadata": {
    "deletable": true,
    "editable": true
   },
   "source": [
    "### Download MSFT data"
   ]
  },
  {
   "cell_type": "code",
   "execution_count": 1,
   "metadata": {
    "collapsed": false,
    "deletable": true,
    "editable": true
   },
   "outputs": [
    {
     "name": "stderr",
     "output_type": "stream",
     "text": [
      "Loading required package: xts\n",
      "Loading required package: zoo\n",
      "\n",
      "Attaching package: ‘zoo’\n",
      "\n",
      "The following objects are masked from ‘package:base’:\n",
      "\n",
      "    as.Date, as.Date.numeric\n",
      "\n"
     ]
    }
   ],
   "source": [
    "library(highfrequency)\n",
    "download.file(url=\"http://mfe.baruch.cuny.edu/wp-content/uploads/2015/03/MSFT130311.rData_.zip\", destfile=\"MSFT130311.zip\")\n",
    "unzip(zipfile=\"MSFT130311.zip\")\n",
    "load(\"MSFT130311.rData\")"
   ]
  },
  {
   "cell_type": "code",
   "execution_count": 2,
   "metadata": {
    "collapsed": true,
    "deletable": true,
    "editable": true
   },
   "outputs": [],
   "source": [
    "library(repr)\n",
    "options(repr.plot.height=5)"
   ]
  },
  {
   "cell_type": "markdown",
   "metadata": {
    "deletable": true,
    "editable": true
   },
   "source": [
    "### 2. (8 points)\n",
    "\n",
    "Recall from the lecture slides that with time-averaged VaR as the risk penalty, and when the liquidation time $T$ is chosen to be the characteristic time, the optimal trading rate under ABM becomes\n",
    "\n",
    "$$\n",
    "v^A(t)= \\frac{x_t}{T-t}\\,+\\frac{X}{T}\\,\\left(1-\\frac t T\\right)\n",
    "$$\n",
    "\n",
    "and the optimal trading rate under GBM becomes\n",
    "\n",
    "$$\n",
    "v^G(t)= \\frac{x_t}{T-t}\\,+\\frac{X}{T}\\,\\frac{S_t}{S_0}\\,\\left(1-\\frac t T\\right).\n",
    "$$\n",
    "\n",
    "(a) The *msft.bats* dataset from *MSFT130311.rData* contains all trades on the BATS exchange on 11-Mar-2013.  One trading days has 390 minutes.  Sample the  *msft.bats* dataset evenly, roughly every minute of volume time.  Superimpose plots of the optimal strategy under ABM and GBM assuming liquidation takes place over one trading day.\n",
    "\n",
    "(b) Denote the corresponding position sizes by $x^A(t)$ and $x^G(t)$ respectively.  What is the maximum deviation of the two position sizes as a percentage of the initial position $X$?  How significant is this deviation?\n",
    "\n"
   ]
  },
  {
   "cell_type": "code",
   "execution_count": 3,
   "metadata": {
    "collapsed": false
   },
   "outputs": [
    {
     "data": {
      "image/png": "[encoded data removed]",
      "text/plain": [
       "plot without title"
      ]
     },
     "metadata": {},
     "output_type": "display_data"
    },
    {
     "data": {
      "image/png": "[encoded data removed]",
      "text/plain": [
       "plot without title"
      ]
     },
     "metadata": {},
     "output_type": "display_data"
    }
   ],
   "source": [
    "# Solution to (a)\n",
    "# initialized\n",
    "T<-390\n",
    "X<-10000\n",
    "msft <-msft130311.bats\n",
    "msft[,1] <- cumsum(abs(msft[,1]))\n",
    "total_vol <-  msft[nrow(msft),1]\n",
    "d_vol <-(msft[nrow(msft),1]/390)\n",
    "\n",
    "\n",
    "\n",
    "# find the price series S_t, the first entry is S_0\n",
    "S_t <- c(1:T)\n",
    "for(i in 1:T) {\n",
    "  S_t[i] <- head(msft[msft[,1]>=d_vol*i,2],1)\n",
    "\n",
    "}\n",
    "\n",
    "\n",
    "\n",
    "\n",
    "\n",
    "\n",
    "\n",
    "\n",
    "#ABM positions \n",
    "\n",
    "xt_A <- c(1:T)\n",
    "xt_A[1] <- X_c<-X\n",
    "vt_A <- c(1:T)\n",
    "\n",
    "#GBM\n",
    "xt_G <- c(1:T)\n",
    "xt_G[1] <- X_c<-X\n",
    "vt_G <- c(1:T)\n",
    "\n",
    "# calculate trading rate and position\n",
    "for(t in 1:T){\n",
    "    vt_A[t] = abs(xt_A[t])/(T - t) + X / T * (1 - t/T)\n",
    "    xt_A[t+1] = max(xt_A[t] - vt_A[t], 0)\n",
    "    \n",
    "    vt_G[t] = abs(xt_G[t])/(T-t)+(X*S_t[t])/(T*msft[1,2])*(1-t/T)\n",
    "    xt_G[t+1] = max(xt_G[t] - vt_G[t], 0)\n",
    "  \n",
    "}\n",
    "\n",
    "#plot\n",
    "plot(1:T,vt_A,xlab=\"volume time\",ylab=\"trading rate\", col=\"green\", type=\"l\")\n",
    "lines(1:T,vt_G,col=\"red\", type=\"l\")\n",
    "legend(\"bottomleft\",pch=-1,lty=1,col=c(\"green\",\"red\"),legend=c(\"ABM\",\"GBM\"))\n",
    "plot(1:391,xt_A,xlab=\"volume time\",ylab=\"position \", col=\"green\", type=\"l\")\n",
    "lines(1:391,xt_G,col=\"red\", type=\"l\")\n",
    "legend(\"bottomleft\",pch=-1,lty=1,col=c(\"green\",\"red\"),legend=c(\"ABM\",\"GBM\"))"
   ]
  },
  {
   "cell_type": "code",
   "execution_count": 4,
   "metadata": {
    "collapsed": false
   },
   "outputs": [
    {
     "name": "stdout",
     "output_type": "stream",
     "text": [
      "7419.18 7423.704"
     ]
    },
    {
     "data": {
      "text/html": [
       "0.0012352006490687"
      ],
      "text/latex": [
       "0.0012352006490687"
      ],
      "text/markdown": [
       "0.0012352006490687"
      ],
      "text/plain": [
       "[1] 0.001235201"
      ]
     },
     "metadata": {},
     "output_type": "display_data"
    }
   ],
   "source": [
    "cat(xt_A[55],xt_G[55])\n",
    "max(na.omit((abs(xt_A-xt_G)))/X)"
   ]
  },
  {
   "cell_type": "code",
   "execution_count": 5,
   "metadata": {
    "collapsed": false
   },
   "outputs": [
    {
     "name": "stdout",
     "output_type": "stream",
     "text": [
      "It is 0.12352% percent of the inital position. So it is not significant"
     ]
    }
   ],
   "source": [
    "cat(\"It is 0.12352% percent of the inital position. So it is not significant\")"
   ]
  },
  {
   "cell_type": "markdown",
   "metadata": {
    "deletable": true,
    "editable": true
   },
   "source": [
    "## Kratz and Schöneborn with time-averaged VaR risk charge"
   ]
  },
  {
   "cell_type": "markdown",
   "metadata": {
    "deletable": true,
    "editable": true
   },
   "source": [
    "### 3. (12 points)\n",
    "\n",
    "(a) Repeat the computation of the optimal strategy from the lecture notes with time-averaged VaR\n",
    "\n",
    "$$\n",
    "\\lambda\\,\\sigma\\,\\int_0^T\\,x_t\\,dt\n",
    "$$\n",
    "\n",
    "as the risk term (rather than the quadratic variation $\\lambda\\,\\sigma^2\\,\\int_0^T\\,x_t^2\\,dt$).  Show that the optimal position\n",
    "\n",
    "$$\n",
    "x^\\star(t)=\\left(X-\\frac{A\\, T}{\\theta }\\right)\\,\\frac{1-e^{-\\theta\\,(T-t)} }{1-e^{-\\theta\\,T }}+\\frac{A }{\\theta }\\,(T-t)\n",
    "$$\n",
    "and deduce the optimal trading rate $v^\\star(t)$.\n",
    "\n",
    "(b) By Taylor-expanding the solution around $\\theta=0$, show that we retrieve the solution derived in the slides with no dark pool\n",
    "\n",
    "$$\n",
    "x^\\star(t)=\\left(X-\\frac{A \\, T}{2}\\,t\\right)\\,\\left(1-\\frac{t}{T}\\right) .\n",
    "$$\n",
    "\n",
    "in the limit $\\theta \\to 0$.\n"
   ]
  },
  {
   "cell_type": "markdown",
   "metadata": {},
   "source": [
    "#### Solution (a)\n",
    "By given, we have the expected cost\n",
    "$$\n",
    "C(t) = \\eta \\mathbb{E}[ \\int_t^T\\,\\dot x_u^2 + \\kappa x_u\\,du ]\n",
    "$$\n",
    "with $\\kappa := \\frac{\\lambda\\sigma} { \\eta}$\n",
    "* So the HJB is:\n",
    "$$\n",
    "C_t + \\eta\\kappa x_t + \\min_{v,y \\in \\mathcal{G}} \\{ -vC_x +\\eta v^2 + \\theta [C(x_t-y_t)-C(x_t)] \\} = 0\n",
    "$$\n",
    "* Similarly in the first question,we get\n",
    "$$\n",
    "    v^\\star = \\frac{\\cC_x}{2\\eta}\n",
    "$$\n",
    "* Now we have HJB as:\n",
    "$$\n",
    "    \\frac{\\partial \\cC}{\\partial t} + \\lambda\\sigma x -\\frac{\\cC_x^2}{4\\eta} - \\theta\\cC = 0\n",
    "$$\n",
    "* Again, make a guess:$\\cC(t,x) = a(t)\\,x^2 + b(t)\\,x + c(t)$\n",
    "* Solve the quandratic term:\n",
    "\\begin{align}\n",
    "    a(t)' - \\frac{a(t)^2}{\\eta} - \\theta a(t) &= 0 \\\\\n",
    "                             a(t) &= -\\frac{\\theta\\eta}{2} (1-\\mbox{coth}(\\frac{\\theta}{2}(T-t)))\\\\\n",
    "\\end{align}\n",
    "\n",
    "\n",
    "* Solve the linear term:\n",
    "\\begin{align}\n",
    "    b(t)' - (\\frac{a(t)}{\\eta}+\\theta) b(t) + \\lambda\\sigma &= 0 \\\\\n",
    "    b(t) &= \\frac{2A\\eta}{\\theta} + A\\eta (T-t) (1-\\mbox{coth}(\\frac{\\theta}{2}(T-t))), \\\\\n",
    "\\end{align}\n",
    "\n",
    "Plug back in,\n",
    "\n",
    "$$\n",
    "= \\frac{1}{2\\eta}[ -2\\frac{\\theta\\eta}{2} (1-\\mbox{coth}(\\frac{\\theta}{2}(T-t)))\\cdot x + \\frac{2A\\eta}{\\theta} + A\\eta (T-t) (1-\\mbox{coth}(\\frac{\\theta}{2}(T-t))) ]\n",
    "$$\n",
    "\n",
    "Thus\n",
    "$$\n",
    "    v^\\star= -\\frac{dx}{dt}= \\frac{\\theta}{e^{\\theta(T-t)}-1} x + \\frac{1}{2\\eta}[\\frac{\\lambda\\sigma(t-T)}{e^{\\theta(T-t)}-1} + \\frac{\\lambda\\sigma}{\\theta}]\n",
    "$$\n",
    "\n",
    "$$\n",
    "x^\\star(t)=(X-\\frac{A\\, T}{\\theta })\\,\\frac{1-e^{-\\theta\\,(T-t)} }{1-e^{-\\theta\\,T }}+\\frac{A }{\\theta }\\,(T-t)\n",
    "$$\n",
    "With $A = \\frac{\\lambda\\sigma}{2\\eta}$\n"
   ]
  },
  {
   "cell_type": "markdown",
   "metadata": {},
   "source": [
    "### Soluton (b)\n",
    "\n",
    "\\begin{align}\n",
    "x^\\star (t)&= (X-\\frac{A\\, T}{\\theta })\\,\\frac{1-e^{-\\theta\\,(T-t)} }{1-e^{-\\theta\\,T }}+\\frac{A }{\\theta }\\,(T-t)\\\\&= X \\frac{1-e^{-\\theta(T-t)}}{1-e^{-\\theta T}} - A (\\frac{T-t}{\\theta} - \\frac{T(1-e^{-\\theta(T-t)})}{\\theta(1-e^{-\\theta T})})\n",
    "\\end{align}\n",
    "Taking limit:\n",
    "\\begin{align}\n",
    "\\lim_{\\theta \\to 0}A (\\frac{T-t}{\\theta} - \\frac{T(1-e^{-\\theta(T-t)})}{\\theta(1-e^{-\\theta T})})&=\\lim_{\\theta \\to 0} A\\,( \\frac{T\\,(-(T-t)e^{-\\theta(T-t)}+Te^{-\\theta T}) - t(Te^{-\\theta T})}{1-e^{-\\theta T}+\\theta T (e^{-\\theta T})})\\\\\n",
    "&=\\lim_{\\theta \\to 0} A\\,( \\frac{T\\,((T-t)^2e^{-\\theta(T-t)}-T^2e^{-\\theta T}) + t T^2 e^{-\\theta T}}{2Te^{-\\theta T}-\\theta T^2 e^{-\\theta T}}) \\\\\n",
    "&=  A\\, (\\frac{t^2-tT}{2}) (L'Hôpital)\\\\\n",
    "&= \\frac{At}{2} (t-T)\\\\\n",
    "\\end{align}\n",
    "Finally\n",
    "$$\n",
    "x^\\star(t)=(X-\\frac{A \\, T}{2}\\,t)\\,(1-\\frac{t}{T}) .\n",
    "$$"
   ]
  }
 ],
 "metadata": {
  "kernelspec": {
   "display_name": "R",
   "language": "R",
   "name": "ir"
  },
  "language_info": {
   "codemirror_mode": "r",
   "file_extension": ".r",
   "mimetype": "text/x-r-source",
   "name": "R",
   "pygments_lexer": "r",
   "version": "3.3.2"
  }
 },
 "nbformat": 4,
 "nbformat_minor": 0
}
