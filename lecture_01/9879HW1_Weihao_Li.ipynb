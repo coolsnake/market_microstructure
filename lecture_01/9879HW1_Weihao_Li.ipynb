{
 "cells": [
  {
   "cell_type": "markdown",
   "metadata": {},
   "source": [
    "Weihao Li"
   ]
  },
  {
   "cell_type": "markdown",
   "metadata": {},
   "source": [
    "# MTH9879 Homework 1\n",
    "\n",
    "Assigned: January 31, 2017.\n",
    "Due: February 14, 2017 by 6pm. \n",
    "\n",
    "Late homework **will not be accepted**.\n",
    "\n",
    "$$\n",
    "\\newcommand{\\supp}{\\mathrm{supp}}\n",
    "\\newcommand{\\E}{\\mathbb{E} }\n",
    "\\def\\Cov{{ \\mbox{Cov} }}\n",
    "\\def\\Var{{ \\mbox{Var} }}\n",
    "\\newcommand{\\1}{\\mathbf{1} }\n",
    "\\newcommand{\\PP}{\\mathbb{P} }\n",
    "%\\newcommand{\\Pr}{\\mathrm{Pr} }\n",
    "\\newcommand{\\QQ}{\\mathbb{Q} }\n",
    "\\newcommand{\\RR}{\\mathbb{R} }\n",
    "\\newcommand{\\DD}{\\mathbb{D} }\n",
    "\\newcommand{\\HH}{\\mathbb{H} }\n",
    "\\newcommand{\\spn}{\\mathrm{span} }\n",
    "\\newcommand{\\cov}{\\mathrm{cov} }\n",
    "\\newcommand{\\sgn}{\\mathrm{sgn} }\n",
    "\\newcommand{\\HS}{\\mathcal{L}_{\\mathrm{HS}} }\n",
    "%\\newcommand{\\HS}{\\mathrm{HS} }\n",
    "\\newcommand{\\trace}{\\mathrm{trace} }\n",
    "\\newcommand{\\LL}{\\mathcal{L} }\n",
    "%\\newcommand{\\LL}{\\mathrm{L} }\n",
    "\\newcommand{\\s}{\\mathcal{S} }\n",
    "\\newcommand{\\ee}{\\mathcal{E} }\n",
    "\\newcommand{\\ff}{\\mathcal{F} }\n",
    "\\newcommand{\\hh}{\\mathcal{H} }\n",
    "\\newcommand{\\bb}{\\mathcal{B} }\n",
    "\\newcommand{\\dd}{\\mathcal{D} }\n",
    "\\newcommand{\\g}{\\mathcal{G} }\n",
    "\\newcommand{\\p}{\\partial}\n",
    "\\newcommand{\\half}{\\frac{1}{2} }\n",
    "\\newcommand{\\T}{\\mathcal{T} }\n",
    "\\newcommand{\\bi}{\\begin{itemize}}\n",
    "\\newcommand{\\ei}{\\end{itemize}}\n",
    "\\newcommand{\\beq}{\\begin{equation}}\n",
    "\\newcommand{\\eeq}{\\end{equation}}\n",
    "\\newcommand{\\beas}{\\begin{eqnarray*}}\n",
    "\\newcommand{\\eeas}{\\end{eqnarray*}}\n",
    "\\newcommand{\\cO}{\\mathcal{O}}\n",
    "\\newcommand{\\cF}{\\mathcal{F}}\n",
    "\\newcommand{\\cL}{\\mathcal{L}}\n",
    "\\newcommand{\\BS}{\\text{BS}}\n",
    "$$"
   ]
  },
  {
   "cell_type": "markdown",
   "metadata": {},
   "source": [
    "<font color = \"red\">Homework is to be done by each student individually.  To receive full credit, you must email a completed copy of this iPython notebook to Victor Istratov (stavka@gmail.com), Yassine Ghalem (yassine.ghalem@gmail.com) and Jim Gatheral (jim.gatheral@gmail.com) by the due date and time.  All R-code must run correctly and solutions must be written up neatly in Markdown/LaTeX format."
   ]
  },
  {
   "cell_type": "markdown",
   "metadata": {},
   "source": [
    "### 1. (4 points) \n",
    "\n",
    "Read Chapter 1 of Market Liquidity by Foucault, Pagano and R&ouml;ell.\n",
    "What algorithmic trading strategy was being used by the seller who triggered the Flash\n",
    "Crash of May 6, 2010? Why did it cause a crash? How could this algorithm have been\n",
    "amended so as to avoid the ensuing disaster?"
   ]
  },
  {
   "cell_type": "markdown",
   "metadata": {},
   "source": [
    "#### Question 1:\n",
    "This strategy is to attenuate the impact on price when an order is executed. It uses the total volumn of trades in a given time to determinae a \"constant participation rate\".Based on this rate, the system splits the parent order into child orders and executes them.\n",
    "#### Question 2:\n",
    "Since the parent order was a vary large order, so as its child orders. When child orders were executed, the trading volumn in a given time increased, so as the \"constant participation rate\". Based on this new information, an even larger child orderds was executed, which, again, increased the volumn. This self-driven effect finally pulled the price down and created systematic flash crash.\n",
    "#### Question 2:\n",
    "Amendment 1:\n",
    "Make the strategy contingent on the price: The trader need to find a way to measure the market impact of executed orders.If the impact is large, he/she should have traded for smaller size.  \n",
    "Amendment 2:\n",
    "Distinguish between orders: since the number of orders executed is based on the total trading volumn on the market, a large order will have large effect on the volumn, so as to the next execution. If the trader can make the execution contingent on volumn executed by others rather than on the total volumn,this strategy will have a much smaller self-driven effect. "
   ]
  },
  {
   "cell_type": "markdown",
   "metadata": {},
   "source": [
    "## The Smith Farmer zero-intelligence model"
   ]
  },
  {
   "cell_type": "markdown",
   "metadata": {},
   "source": [
    "### Set up R-environment\n",
    "\n",
    "The following code sources *ziSetup.R* which contains all the functions required for the problem."
   ]
  },
  {
   "cell_type": "code",
   "execution_count": 1,
   "metadata": {
    "collapsed": false
   },
   "outputs": [],
   "source": [
    "download.file(url=\"http://mfe.baruch.cuny.edu/wp-content/uploads/2015/01/ziSetup.zip\", destfile=\"ziSetup.zip\")\n",
    "unzip(zipfile=\"ziSetup.zip\")\n",
    "\n",
    "source(\"ziSetup.R\")"
   ]
  },
  {
   "cell_type": "markdown",
   "metadata": {},
   "source": [
    "### 2. (4 points)\n",
    "\n",
    "Using the provided functions in *ziSetup.R* (with $\\alpha = 1$, $\\mu = 10$, $\\delta = 1/5$),\n",
    "initialize the order book and add two orders to the (best) bid side of the book. The resulting\n",
    "book should have 3 orders at best bid and 1 order at best offer. Plot the resulting book\n",
    "shape."
   ]
  },
  {
   "cell_type": "code",
   "execution_count": 25,
   "metadata": {
    "collapsed": false
   },
   "outputs": [
    {
     "data": {
      "image/png": "[encoded data removed]",
      "text/plain": [
       "plot without title"
      ]
     },
     "metadata": {},
     "output_type": "display_data"
    }
   ],
   "source": [
    "#R x64 3.3.2\n",
    "logging <- F\n",
    "#imput parameters\n",
    "alpha <- 1;\n",
    "mu <- 10;\n",
    "delta <- 0.2;\n",
    "#initialize orderbook\n",
    "initializeBook5()\n",
    "# Place an order at price -1\n",
    "limitBuyOrder(-1)\n",
    "limitBuyOrder(-1)\n",
    "#plot\n",
    "bookPlot(20) "
   ]
  },
  {
   "cell_type": "markdown",
   "metadata": {},
   "source": [
    "### 3. (16 points)\n",
    "\n",
    "(a) Using the code supplied to generate Figure 2 as a template, simulate 100,000 events, computing the average book shape (in a band $\\pm 20$ around the mid price) for the\n",
    "following sets of parameters:\n",
    "\n",
    "|$\\alpha$|$\\mu$|$\\delta$|\n",
    "-----|-----:|-------:|\n",
    "I| 1 | 10 | $\\frac15$\n",
    "II| 1 | 8 |  $\\frac15$\n",
    "III| 1 |  10 | $\\frac16$\n",
    "IV| 1  | 10 | $\\frac18$ \n",
    "\n",
    "(Warning: This might take longer than 15 minutes to run!).\n",
    "\n",
    "(b) Generate a summary plot of the average book shapes for each parameter set (I, II, II, and IV).\n",
    "\n",
    "\n",
    "(c) Verify that the relationships between the slopes of the order books at-the-money for each parameter set are consistent with the predictions from dimensional analysis.\n",
    "\n",
    "(d) Verify that the asymptotic book depths are consistent with the predictions from dimensional analysis."
   ]
  },
  {
   "cell_type": "markdown",
   "metadata": {},
   "source": [
    "#### Answer for Question a "
   ]
  },
  {
   "cell_type": "code",
   "execution_count": 3,
   "metadata": {
    "collapsed": false
   },
   "outputs": [],
   "source": [
    "#R x64 3.3.2\n",
    "\n",
    "\n",
    "# turned off the logging and set up parameters\n",
    "logging <- F\n",
    "alphas <<- c(rep(1,4))\n",
    "mus  <<- c(10,8,10,10)\n",
    "deltas <<- c(1.0/5,1.0/5,1.0/6,1.0/8)\n",
    "#save data into the avgBookShape\n",
    "#each row is a book shape\n",
    "\n",
    "avgBookShape <<- array(0,c(4,41))\n",
    "\n",
    "#begin looping for 4 group\n",
    "for (j in 1:4){\n",
    "    alpha <<- alphas[j]\n",
    "    mu  <<- mus[j]\n",
    "    delta <<- deltas[j]\n",
    "    \n",
    "    #set up the beginning state\n",
    "    for(count in 1:100){\n",
    "      generateEvent()\n",
    "    }\n",
    "    \n",
    "    #begin simulation\n",
    "    numEvents <- 100000 \n",
    "    BookShape_Temp <- bookShape(20)/numEvents\n",
    "    #compute the simulated price \n",
    "    for(count in 2:numEvents){\n",
    "      generateEvent()\n",
    "      BookShape_Temp <- BookShape_Temp + bookShape(20)/numEvents\n",
    "    }\n",
    "    \n",
    "    avgBookShape[j,] <- BookShape_Temp\n",
    "    \n",
    "}\n",
    "\n"
   ]
  },
  {
   "cell_type": "markdown",
   "metadata": {},
   "source": [
    "#### Answer for Question b"
   ]
  },
  {
   "cell_type": "code",
   "execution_count": 10,
   "metadata": {
    "collapsed": false
   },
   "outputs": [
    {
     "data": {
      "image/png": "[encoded data removed]",
      "text/plain": [
       "Plot with title \"NA\""
      ]
     },
     "metadata": {},
     "output_type": "display_data"
    }
   ],
   "source": [
    "#R x64 3.3.2\n",
    "#Plot Those BookShapes\n",
    "\n",
    "library(repr)\n",
    "options(repr.plot.height=5)\n",
    "\n",
    "colours <- c('red','orange','blue','green')\n",
    "\n",
    "plot(-20:20,avgBookShape[1,],main=NA,xlab=\"Relative price\",ylab=\"# Shares\", col=colours[1], type='b',ylim=c(0, 10))\n",
    "for(i in 1:4){\n",
    "    \n",
    "    lines(-20:20,avgBookShape[i,],main=NA,xlab=\"Relative price\",ylab=\"# Shares\", col=colours[i], type='b')\n",
    "    \n",
    "}\n",
    "\n",
    "legend(-19,2,c(\"I\",\"II\",\"III\",\"IV\"),lty=1, lwd = 2, col=colours) \n",
    "\n"
   ]
  },
  {
   "cell_type": "markdown",
   "metadata": {},
   "source": [
    "#### Answer for Question c"
   ]
  },
  {
   "cell_type": "code",
   "execution_count": 13,
   "metadata": {
    "collapsed": false
   },
   "outputs": [
    {
     "name": "stdout",
     "output_type": "stream",
     "text": [
      "[1] 0.598006 0.677190 0.754527 1.000004\n",
      "[1] 0.500 0.625 0.600 0.800\n"
     ]
    }
   ],
   "source": [
    "#R x64 3.3.2\n",
    "slopes <-c(0,0,0,0)\n",
    "#get the slope by finite difference\n",
    "for (i in 1:4){\n",
    "    slopes[i] <- (avgBookShape[i,16]+avgBookShape[i,26]-2*avgBookShape[i,21])/10\n",
    "    }\n",
    "\n",
    "slope_predict = alphas*alphas/mus/deltas\n",
    "\n",
    "print(slopes)\n",
    "print(slope_predict )"
   ]
  },
  {
   "cell_type": "markdown",
   "metadata": {},
   "source": [
    "##### AS computed above, the experimental values of slopes are:\n",
    "Predictions|Experimental Data|Ratio\n",
    "-----:|-----:|-----:|\n",
    "0.5| 0.599|0.83\n",
    " 0.625| 0.686|0.91   \n",
    " 0.6| 0.737|0.81   \n",
    "0.8|0.974|0.84    \n",
    "As showed in the plot the,these two sets of data are closed\n",
    "\n"
   ]
  },
  {
   "cell_type": "markdown",
   "metadata": {},
   "source": [
    "#### Answer for Question d\n",
    "\n",
    "As indicated in the picture, the asymptotic book depths is 5,5,6,8 compared to the predictions: 5,5,6,8( $\\frac\\alpha\\delta$.)"
   ]
  },
  {
   "cell_type": "markdown",
   "metadata": {},
   "source": [
    "### The following code sets up the data required for Problem 4."
   ]
  },
  {
   "cell_type": "code",
   "execution_count": 14,
   "metadata": {
    "collapsed": false
   },
   "outputs": [],
   "source": [
    "download.file(url=\"http://mfe.baruch.cuny.edu/wp-content/uploads/2015/01/ziSimResults.rData_.zip\", destfile=\"ziSimResults.rData.zip\")\n",
    "unzip(zipfile=\"ziSimResults.rData.zip\")\n",
    "load(\"ziSimResults.rData\")"
   ]
  },
  {
   "cell_type": "markdown",
   "metadata": {},
   "source": [
    "### 4. (12 points)\n",
    "\n",
    "The datafile *ziSimResults.rData* contains a list of bid and ask prices after 100 events resulting from 10,000 simulations of the SFGK model with $\\alpha = 1$, $\\mu = 10$, and $\\delta = 1/5$. The $j$th element of the list has results for an initial book configuration with $q_b = j$ shares on the bid side and $q_a = 1$ share on the ask side."
   ]
  },
  {
   "cell_type": "markdown",
   "metadata": {},
   "source": [
    "(a) For each size $q_b$ at best bid, compute the mean mid-price after 10,000 events and with error computed as standard deviation of the mean.\n",
    "\n",
    "(b) Plot mean mid-price vs size at best bid, reproducing Figure 3 of the lecture slides. \n",
    "Remember to include error bars!\n",
    "\n",
    "(c) Repeat part (b) with the order book imbalance $I$ on the x-axis, reproducing Figure 7 in the lecture slides.\n",
    "\n",
    "\n",
    "(d) If you see an order book with large quantity at the bid and small quantity at the offer, what does it tell you about the future price?"
   ]
  },
  {
   "cell_type": "markdown",
   "metadata": {},
   "source": [
    "#### Asnwer for Question a"
   ]
  },
  {
   "cell_type": "code",
   "execution_count": 28,
   "metadata": {
    "collapsed": false
   },
   "outputs": [
    {
     "name": "stdout",
     "output_type": "stream",
     "text": [
      "   MeanMid      StdMid\n",
      "1  0.00590 0.015379863\n",
      "2  0.21550 0.014316301\n",
      "3  0.41350 0.013108355\n",
      "4  0.56635 0.012291150\n",
      "5  0.66850 0.011233583\n",
      "6  0.74110 0.010380166\n",
      "7  0.80530 0.010190907\n",
      "8  0.80955 0.009888385\n",
      "9  0.83880 0.009779878\n",
      "10 0.83435 0.009617315\n"
     ]
    }
   ],
   "source": [
    "#R x64 3.3.2\n",
    "#(a) find the mean and standard deviation for mid price\n",
    "\n",
    "n <- 10 # the length of the list\n",
    "\n",
    "MeanMid <-rep(0,10)\n",
    "StdMid  <-rep(0,10)\n",
    "\n",
    "#compute the mid price and the standard deviation \n",
    "for (i in 1:10){\n",
    "        book_temp <- ziSimResults[[i]]\n",
    "        mids  <- (book_temp$a+book_temp$b)/2\n",
    "        MeanMid[i] <- mean(mids)\n",
    "        StdMid[i] <- sd(mids)/sqrt(length(mids))\n",
    "}\n",
    "\n",
    "Mid_DataFrame <- data.frame(MeanMid,StdMid)\n",
    "print(Mid_DataFrame)"
   ]
  },
  {
   "cell_type": "markdown",
   "metadata": {},
   "source": [
    "#### Asnwer for Question b"
   ]
  },
  {
   "cell_type": "code",
   "execution_count": 18,
   "metadata": {
    "collapsed": false
   },
   "outputs": [
    {
     "data": {
      "image/png": "[encoded data removed]",
      "text/plain": [
       "Plot with title \"NA\""
      ]
     },
     "metadata": {},
     "output_type": "display_data"
    }
   ],
   "source": [
    "#R x64 3.3.2\n",
    "plot(1:10,MeanMid,main=NA,xlab=expression(paste(\"Size at best bid \",q[b])),ylab=\"Mean price after 100 events\", col=colours[1],ylim=c(-0.1, 1))\n",
    "\n",
    "# error bars\n",
    "arrows(1:10,MeanMid+StdMid,1:10,MeanMid-StdMid,angle=90,code=3,length=0.1,col=\"red\")"
   ]
  },
  {
   "cell_type": "markdown",
   "metadata": {},
   "source": [
    "#### Asnwer for Question c"
   ]
  },
  {
   "cell_type": "code",
   "execution_count": 24,
   "metadata": {
    "collapsed": false
   },
   "outputs": [
    {
     "data": {
      "image/png": "[encoded data removed]",
      "text/plain": [
       "Plot with title \"NA\""
      ]
     },
     "metadata": {},
     "output_type": "display_data"
    }
   ],
   "source": [
    "#R x64 3.3.2\n",
    "#order book imbalance\n",
    "I <- (0:9)/(2:11)\n",
    "\n",
    "plot(I,MeanMid,main=NA,type =\"b\",xlab=expression(paste(\"Imbalance = \",(q[b]-q[a]))/(q[b]+q[a])),ylab=\"Mean price after 100 events\", col=colours[1],ylim=c(-0.1, 1))\n",
    "\n",
    "# error bars\n",
    "arrows(I,MeanMid+StdMid,I,MeanMid-StdMid,angle=90,code=3,length=0.1,col=\"red\")"
   ]
  },
  {
   "cell_type": "markdown",
   "metadata": {
    "collapsed": true
   },
   "source": [
    "#### Asnwer for Question d\n",
    "As indicated from the plot above, the price is expected to increase."
   ]
  },
  {
   "cell_type": "markdown",
   "metadata": {},
   "source": [
    "## Is the market price a martingale?"
   ]
  },
  {
   "cell_type": "markdown",
   "metadata": {},
   "source": [
    "### 5. (4 points) \n",
    "\n",
    "A derivatives quant explains (patiently) to you that asset prices are martingales (informally speaking that expected price changes are zero). Do you agree? How is your understanding consistent with the derivative quant’s understanding?"
   ]
  },
  {
   "cell_type": "markdown",
   "metadata": {
    "collapsed": false
   },
   "source": [
    "1. To Say the market price to be a magingale is equivalent to say they are weak-form efficient. In this case, the pass information will not have effect on the expeatation of future price. However, as we have showed in the above exercise, we have already showed that the imbalance at the previous state will definitly have effect on the future trend. So the martingal assumption is not consistent with my understanding.  \n",
    "2. Moreover, as we knew from the example we have read for quetsion (1) and from behavious finance, people or strategy's expectation, risk tolerent on the market price, and their reaction towards the market price will definitly have effect on the market price. Thus, the passed and current market prices are correlated.\n",
    "3. The influences of the market price are also cross market. As we have read from Chapter 1 of Market Liquidity, an order execution in one market will exausted the liquidity in another maket, so the market price of an asset is not an independent process, but related to price in other markets. \n",
    "\n",
    "\n",
    "\n",
    "\n",
    "\n",
    "\n",
    "\n",
    "\n"
   ]
  }
 ],
 "metadata": {
  "anaconda-cloud": {},
  "kernelspec": {
   "display_name": "R",
   "language": "R",
   "name": "ir"
  },
  "language_info": {
   "codemirror_mode": "r",
   "file_extension": ".r",
   "mimetype": "text/x-r-source",
   "name": "R",
   "pygments_lexer": "r",
   "version": "3.3.2"
  }
 },
 "nbformat": 4,
 "nbformat_minor": 0
}
